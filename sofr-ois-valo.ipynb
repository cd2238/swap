{
 "cells": [
  {
   "cell_type": "code",
   "execution_count": 1,
   "id": "5a09e2bb-5b39-42a1-b19a-a5c123358612",
   "metadata": {},
   "outputs": [],
   "source": [
    "import json\n",
    "from pathlib import Path\n",
    "import numpy as np\n",
    "import pandas as pd\n",
    "import sys\n",
    "import QuantLib as ql\n",
    "\n",
    "sys.path.insert(0, \"/home/christophe/gitlab/norm/test/scripts/python\")\n",
    "sys.path.insert(0, \"/home/christophe/gitlab/norm/release/api/python/ct\")\n",
    "sys.path.insert(0, \"/home/christophe/gitlab/norm/test/scripts/python/Unitaire\")\n",
    "\n",
    "import import_allocation as ia\n",
    "import import_pricing as pr\n",
    "import TestWREmodelingCovFiltering as cf"
   ]
  },
  {
   "cell_type": "code",
   "execution_count": 2,
   "id": "62a0b98f-6a55-42f0-8a7e-0137f30662d1",
   "metadata": {},
   "outputs": [],
   "source": [
    "#  SW20251113_SOFR O/4.2587  matu : 2025-11-13\n",
    "#19/12/2024\n",
    "# floating, ANNU\n",
    "# fixe ANNU : 2025\n",
    "# 1 PAIEMENT\n",
    "#24/1/2025  ---> \n",
    "#24/1/2026\n",
    "# \"startDate\" : \"2024-11-21\",\n",
    "# swap rate : 4.2587"
   ]
  },
  {
   "cell_type": "code",
   "execution_count": 3,
   "id": "77f85a92-eda8-48c6-bf56-515636fa9b3b",
   "metadata": {},
   "outputs": [],
   "source": [
    "#Données\n",
    "quotationAMUNDI=100.016363\n",
    "today = ql.Date(21, ql.December, 2024) #date de calcul\n",
    "ibordates= [0,1,2,3,4,5,6,7,8,9,10,15,20,30] # 0 obligatoire pour quantlib!années par rapport à la date de calcul où on connaît les taux\n",
    "iborvaleursnp= np.array([4.57,4.418842,4.588199,4.383796,4.442341,4.472094,4.487725,\n",
    "                       4.603022,4.49304931,4.55046352,4.56296427,4.817077,4.969355, 4.76199173])/100 # taux\n",
    "year=360\n",
    "start_date = ql.Date(21, ql.November, 2024)\n",
    "end_date = start_date + ql.Period(1, ql.Years) \n",
    "\n",
    "coupon_tenor_year=1 # year\n",
    "nbcoupon = 1\n",
    "fixed_rate = 4.2587 /100\n"
   ]
  },
  {
   "cell_type": "code",
   "execution_count": null,
   "id": "a0382188-98a7-4730-a17d-3ead8a954ad8",
   "metadata": {},
   "outputs": [],
   "source": []
  },
  {
   "cell_type": "code",
   "execution_count": 4,
   "id": "b206188d-b6ae-42cd-8a4c-b654f502066c",
   "metadata": {},
   "outputs": [],
   "source": [
    "### quantlib"
   ]
  },
  {
   "cell_type": "code",
   "execution_count": 5,
   "id": "97158764-cd10-4fdf-a056-514516d6242d",
   "metadata": {},
   "outputs": [],
   "source": [
    "ql.Settings.instance().evaluationDate = today"
   ]
  },
  {
   "cell_type": "code",
   "execution_count": 6,
   "id": "cca74915-1837-41a9-b69b-4e6d9209f29b",
   "metadata": {},
   "outputs": [],
   "source": [
    "def nparray2listQlDates(today,dates):\n",
    "    qldates = []\n",
    "    for i in range(len(dates)):\n",
    "        if dates[i]>=0:\n",
    "            qldates.append(today+ql.Period(dates[i], ql.Years))\n",
    "        else:\n",
    "            print(- dates[i])\n",
    "            qldates.append(today-ql.Period(-dates[i], ql.Years))\n",
    "    return qldates"
   ]
  },
  {
   "cell_type": "code",
   "execution_count": null,
   "id": "4ad49f0a-74a6-4d53-9bc4-7d885e4cfd98",
   "metadata": {},
   "outputs": [],
   "source": []
  },
  {
   "cell_type": "code",
   "execution_count": null,
   "id": "63567fcd-fd43-49fe-928d-f3a9d3bca270",
   "metadata": {},
   "outputs": [],
   "source": []
  },
  {
   "cell_type": "code",
   "execution_count": null,
   "id": "707caa9a-bef5-488b-b1f6-18bbca576e39",
   "metadata": {},
   "outputs": [],
   "source": []
  },
  {
   "cell_type": "code",
   "execution_count": null,
   "id": "58a7b5f6-3219-4982-8320-b9763a523ad2",
   "metadata": {},
   "outputs": [],
   "source": [
    "\n"
   ]
  },
  {
   "cell_type": "code",
   "execution_count": null,
   "id": "50951eb4-7358-487e-ba60-844f6db9faba",
   "metadata": {},
   "outputs": [],
   "source": []
  },
  {
   "cell_type": "code",
   "execution_count": null,
   "id": "3379e7b6-3194-4a07-b2f8-1b06eced603e",
   "metadata": {},
   "outputs": [],
   "source": []
  },
  {
   "cell_type": "code",
   "execution_count": 7,
   "id": "b61c8745-47e9-4650-b51f-9b0a1e44d4c7",
   "metadata": {},
   "outputs": [],
   "source": [
    "ibordatesql2 = nparray2listQlDates(today,ibordates)\n",
    "iborvaleurs=iborvaleursnp.tolist()\n",
    "sofr_curve = ql.ZeroCurve(\n",
    "    ibordatesql2,\n",
    "    iborvaleurs,\n",
    "    ql.Actual365Fixed()\n",
    ")\n",
    "sofr_curve\n",
    "ncurve = len(ibordates)"
   ]
  },
  {
   "cell_type": "code",
   "execution_count": 8,
   "id": "443706a5-203f-4cae-9d6c-ea669929c8f7",
   "metadata": {},
   "outputs": [
    {
     "data": {
      "text/plain": [
       "[Date(21,12,2024),\n",
       " Date(21,12,2025),\n",
       " Date(21,12,2026),\n",
       " Date(21,12,2027),\n",
       " Date(21,12,2028),\n",
       " Date(21,12,2029),\n",
       " Date(21,12,2030),\n",
       " Date(21,12,2031),\n",
       " Date(21,12,2032),\n",
       " Date(21,12,2033),\n",
       " Date(21,12,2034),\n",
       " Date(21,12,2039),\n",
       " Date(21,12,2044),\n",
       " Date(21,12,2054)]"
      ]
     },
     "execution_count": 8,
     "metadata": {},
     "output_type": "execute_result"
    }
   ],
   "source": [
    "ibordatesql2 "
   ]
  },
  {
   "cell_type": "code",
   "execution_count": 9,
   "id": "43021fbb-45f7-47f7-9e8c-fea42a05d038",
   "metadata": {},
   "outputs": [
    {
     "data": {
      "text/plain": [
       "[0.045700000000000005,\n",
       " 0.04418842,\n",
       " 0.045881990000000004,\n",
       " 0.04383796,\n",
       " 0.044423409999999997,\n",
       " 0.04472094,\n",
       " 0.04487725,\n",
       " 0.046030220000000004,\n",
       " 0.044930493099999996,\n",
       " 0.045504635200000004,\n",
       " 0.0456296427,\n",
       " 0.04817077,\n",
       " 0.04969355,\n",
       " 0.0476199173]"
      ]
     },
     "execution_count": 9,
     "metadata": {},
     "output_type": "execute_result"
    }
   ],
   "source": [
    "iborvaleurs"
   ]
  },
  {
   "cell_type": "code",
   "execution_count": 10,
   "id": "becdc06f-3161-4442-bfdf-fc1ab98fd962",
   "metadata": {},
   "outputs": [
    {
     "data": {
      "text/plain": [
       "[Date(21,12,2024), Date(21,12,2074)]"
      ]
     },
     "execution_count": 10,
     "metadata": {},
     "output_type": "execute_result"
    }
   ],
   "source": [
    "[today, today + ql.Period(50, ql.Years)]"
   ]
  },
  {
   "cell_type": "code",
   "execution_count": null,
   "id": "52e6b094-06bf-4a74-8917-729c854cfcc5",
   "metadata": {},
   "outputs": [],
   "source": []
  },
  {
   "cell_type": "code",
   "execution_count": 11,
   "id": "b5bb1f09-5dea-45b0-a108-1ddeda273f4d",
   "metadata": {},
   "outputs": [],
   "source": [
    "sofr_handle = ql.YieldTermStructureHandle(sofr_curve)\n",
    "sofr = ql.Sofr(sofr_handle)"
   ]
  },
  {
   "cell_type": "code",
   "execution_count": null,
   "id": "c6da4371-c5a4-46df-9a44-38502e54eb51",
   "metadata": {},
   "outputs": [],
   "source": []
  },
  {
   "cell_type": "code",
   "execution_count": 12,
   "id": "03ca902b-686f-4f4f-aae4-7f1d90bd69d5",
   "metadata": {},
   "outputs": [],
   "source": [
    "d = start_date\n",
    "while d <= today:\n",
    "    if sofr.isValidFixingDate(d):\n",
    "        sofr.addFixing(d, fixed_rate)\n",
    "    d += 1"
   ]
  },
  {
   "cell_type": "code",
   "execution_count": null,
   "id": "b0c38e2c-d3e8-476f-ad45-208a1100fe47",
   "metadata": {},
   "outputs": [],
   "source": []
  },
  {
   "cell_type": "code",
   "execution_count": null,
   "id": "87f33617-7008-414d-a956-0cb1a0372c6f",
   "metadata": {},
   "outputs": [],
   "source": []
  },
  {
   "cell_type": "code",
   "execution_count": 13,
   "id": "fd7e62bf-c2b2-44d5-884b-e987fa2c4aa6",
   "metadata": {},
   "outputs": [],
   "source": [
    "\n",
    "calendar = ql.UnitedStates(ql.UnitedStates.GovernmentBond)\n",
    "convention = ql.Following\n",
    "rule = ql.DateGeneration.Forward\n",
    "end_of_month = False\n",
    "coupon_tenor = ql.Period(coupon_tenor_year, ql.Years)\n",
    "fixed_day_counter = sofr.dayCounter()\n",
    "\n",
    "schedule = ql.Schedule(\n",
    "    start_date,\n",
    "    end_date,\n",
    "    coupon_tenor,\n",
    "    calendar,\n",
    "    convention,\n",
    "    convention,\n",
    "    rule,\n",
    "    end_of_month,\n",
    ")\n",
    "swap = ql.OvernightIndexedSwap(\n",
    "    ql.Swap.Payer,\n",
    "    100,\n",
    "    schedule,\n",
    "    fixed_rate,\n",
    "    fixed_day_counter,\n",
    "    sofr,\n",
    ")"
   ]
  },
  {
   "cell_type": "code",
   "execution_count": null,
   "id": "bc52f42f-feb1-46f7-af63-313f55684a24",
   "metadata": {},
   "outputs": [],
   "source": []
  },
  {
   "cell_type": "code",
   "execution_count": 14,
   "id": "bf232116-a1aa-451d-b5a3-392c0fc055ae",
   "metadata": {},
   "outputs": [],
   "source": [
    "swap.setPricingEngine(\n",
    "    ql.DiscountingSwapEngine(sofr_handle)\n",
    ")"
   ]
  },
  {
   "cell_type": "code",
   "execution_count": 15,
   "id": "6677c049-63f2-4e8d-95bf-4fdcca72c3e3",
   "metadata": {},
   "outputs": [
    {
     "data": {
      "text/plain": [
       "0.042587"
      ]
     },
     "execution_count": 15,
     "metadata": {},
     "output_type": "execute_result"
    }
   ],
   "source": [
    "fixed_rate"
   ]
  },
  {
   "cell_type": "code",
   "execution_count": 16,
   "id": "5c942189-4c64-4280-9376-49527deac87e",
   "metadata": {},
   "outputs": [
    {
     "data": {
      "text/plain": [
       "0.19379027646594604"
      ]
     },
     "execution_count": 16,
     "metadata": {},
     "output_type": "execute_result"
    }
   ],
   "source": [
    "swap.NPV()"
   ]
  },
  {
   "cell_type": "code",
   "execution_count": 17,
   "id": "1ebac502-7e8c-4982-bda8-6045e00bf70b",
   "metadata": {},
   "outputs": [
    {
     "data": {
      "text/plain": [
       "-4.145762583827385"
      ]
     },
     "execution_count": 17,
     "metadata": {},
     "output_type": "execute_result"
    }
   ],
   "source": [
    "swap.fixedLegNPV()"
   ]
  },
  {
   "cell_type": "code",
   "execution_count": 18,
   "id": "284c71b5-93d1-45d5-905d-ac229be99df8",
   "metadata": {},
   "outputs": [
    {
     "data": {
      "text/plain": [
       "4.339552860293331"
      ]
     },
     "execution_count": 18,
     "metadata": {},
     "output_type": "execute_result"
    }
   ],
   "source": [
    "swap.overnightLegNPV()"
   ]
  },
  {
   "cell_type": "code",
   "execution_count": 19,
   "id": "2deb4a04-a783-480e-ba62-3b3f33880aa4",
   "metadata": {},
   "outputs": [
    {
     "data": {
      "text/plain": [
       "104.6744180967314"
      ]
     },
     "execution_count": 19,
     "metadata": {},
     "output_type": "execute_result"
    }
   ],
   "source": [
    "ratio=100*abs(swap.overnightLegNPV())/abs(swap.fixedLegNPV())\n",
    "ratio"
   ]
  },
  {
   "cell_type": "code",
   "execution_count": 20,
   "id": "779cbd0d-0bfb-47cd-94d9-95e8c63821de",
   "metadata": {},
   "outputs": [],
   "source": [
    "data = []\n",
    "for cf in swap.fixedLeg():\n",
    "    coupon = ql.as_fixed_rate_coupon(cf)\n",
    "    data.append(\n",
    "        (\n",
    "            coupon.date(),\n",
    "            coupon.rate(),\n",
    "            coupon.accrualPeriod(),\n",
    "            coupon.amount(),\n",
    "        )\n",
    "    )"
   ]
  },
  {
   "cell_type": "code",
   "execution_count": 21,
   "id": "5aa91a15-3f43-4a1f-9989-127819ca87ae",
   "metadata": {},
   "outputs": [
    {
     "data": {
      "text/html": [
       "<style type=\"text/css\">\n",
       "</style>\n",
       "<table id=\"T_3916f\">\n",
       "  <thead>\n",
       "    <tr>\n",
       "      <th class=\"blank level0\" >&nbsp;</th>\n",
       "      <th id=\"T_3916f_level0_col0\" class=\"col_heading level0 col0\" >date</th>\n",
       "      <th id=\"T_3916f_level0_col1\" class=\"col_heading level0 col1\" >rate</th>\n",
       "      <th id=\"T_3916f_level0_col2\" class=\"col_heading level0 col2\" >tenor</th>\n",
       "      <th id=\"T_3916f_level0_col3\" class=\"col_heading level0 col3\" >amount</th>\n",
       "    </tr>\n",
       "  </thead>\n",
       "  <tbody>\n",
       "    <tr>\n",
       "      <th id=\"T_3916f_level0_row0\" class=\"row_heading level0 row0\" >0</th>\n",
       "      <td id=\"T_3916f_row0_col0\" class=\"data row0 col0\" >November 21st, 2025</td>\n",
       "      <td id=\"T_3916f_row0_col1\" class=\"data row0 col1\" >4.26%</td>\n",
       "      <td id=\"T_3916f_row0_col2\" class=\"data row0 col2\" >1.013889</td>\n",
       "      <td id=\"T_3916f_row0_col3\" class=\"data row0 col3\" >4.32</td>\n",
       "    </tr>\n",
       "  </tbody>\n",
       "</table>\n"
      ],
      "text/plain": [
       "<pandas.io.formats.style.Styler at 0x7ebb8e112480>"
      ]
     },
     "execution_count": 21,
     "metadata": {},
     "output_type": "execute_result"
    }
   ],
   "source": [
    "pd.DataFrame(\n",
    "    data, columns=[\"date\", \"rate\", \"tenor\", \"amount\"]\n",
    ").style.format(\n",
    "    {\"amount\": \"{:.2f}\", \"rate\": \"{:.2%}\"}\n",
    ")"
   ]
  },
  {
   "cell_type": "code",
   "execution_count": 22,
   "id": "2fa9cf55-442f-4c4b-bc43-12fda656e37b",
   "metadata": {},
   "outputs": [
    {
     "name": "stdout",
     "output_type": "stream",
     "text": [
      "November 21st, 2025\n",
      "1.0138888888888888\n",
      "4.519682907978351\n"
     ]
    },
    {
     "data": {
      "text/plain": [
       "[(Date(21,11,2025),\n",
       "  0.044577694434854966,\n",
       "  1.0138888888888888,\n",
       "  4.519682907978351)]"
      ]
     },
     "execution_count": 22,
     "metadata": {},
     "output_type": "execute_result"
    }
   ],
   "source": [
    "data = []\n",
    "for cf in swap.overnightLeg():\n",
    "    coupon = ql.as_floating_rate_coupon(cf)\n",
    "    print(coupon.date())\n",
    "    print(coupon.accrualPeriod())\n",
    "    print(coupon.amount())    \n",
    "    data.append(\n",
    "        (\n",
    "            coupon.date(),\n",
    "            coupon.rate(),\n",
    "            coupon.accrualPeriod(),\n",
    "            coupon.amount(),\n",
    "        )\n",
    "    )\n",
    "data"
   ]
  },
  {
   "cell_type": "code",
   "execution_count": 23,
   "id": "94eb4751-f23a-45b2-b9a3-d7f8cf5d2f83",
   "metadata": {},
   "outputs": [
    {
     "data": {
      "text/html": [
       "<style type=\"text/css\">\n",
       "</style>\n",
       "<table id=\"T_12fee\">\n",
       "  <thead>\n",
       "    <tr>\n",
       "      <th class=\"blank level0\" >&nbsp;</th>\n",
       "      <th id=\"T_12fee_level0_col0\" class=\"col_heading level0 col0\" >date</th>\n",
       "      <th id=\"T_12fee_level0_col1\" class=\"col_heading level0 col1\" >rate</th>\n",
       "      <th id=\"T_12fee_level0_col2\" class=\"col_heading level0 col2\" >tenor</th>\n",
       "      <th id=\"T_12fee_level0_col3\" class=\"col_heading level0 col3\" >amount</th>\n",
       "    </tr>\n",
       "  </thead>\n",
       "  <tbody>\n",
       "    <tr>\n",
       "      <th id=\"T_12fee_level0_row0\" class=\"row_heading level0 row0\" >0</th>\n",
       "      <td id=\"T_12fee_row0_col0\" class=\"data row0 col0\" >November 21st, 2025</td>\n",
       "      <td id=\"T_12fee_row0_col1\" class=\"data row0 col1\" >4.46%</td>\n",
       "      <td id=\"T_12fee_row0_col2\" class=\"data row0 col2\" >1.013889</td>\n",
       "      <td id=\"T_12fee_row0_col3\" class=\"data row0 col3\" >4.52</td>\n",
       "    </tr>\n",
       "  </tbody>\n",
       "</table>\n"
      ],
      "text/plain": [
       "<pandas.io.formats.style.Styler at 0x7ebb4bd97230>"
      ]
     },
     "execution_count": 23,
     "metadata": {},
     "output_type": "execute_result"
    }
   ],
   "source": [
    "pd.DataFrame(\n",
    "    data, columns=[\"date\", \"rate\", \"tenor\", \"amount\"]\n",
    ").style.format(\n",
    "    {\"amount\": \"{:.2f}\", \"rate\": \"{:.2%}\"}\n",
    ")"
   ]
  },
  {
   "cell_type": "code",
   "execution_count": 24,
   "id": "785f0eed-df44-4392-b053-03e24d0d6840",
   "metadata": {},
   "outputs": [
    {
     "data": {
      "text/plain": [
       "0.04457769443485499"
      ]
     },
     "execution_count": 24,
     "metadata": {},
     "output_type": "execute_result"
    }
   ],
   "source": [
    "swap.fairRate()"
   ]
  },
  {
   "cell_type": "code",
   "execution_count": 25,
   "id": "10e4b086-f832-4606-984b-f0b2e170df7b",
   "metadata": {},
   "outputs": [
    {
     "name": "stdout",
     "output_type": "stream",
     "text": [
      "Loading Pricing module:\n",
      "Pricing module loaded.\n",
      " r1=   4.5700000000000005E-002\n",
      " r2=   4.4314385000000005E-002\n",
      " f12=   4.4314385000000005E-002\n"
     ]
    }
   ],
   "source": [
    "###  wre\n",
    "#  SW20251113_SOFR O/4.2587  matu : 2025-11-13\n",
    "#19/12/2024\n",
    "# floating, ANNU\n",
    "# fixe ANNU : 2025\n",
    "# 1 PAIEMENT\n",
    "#24/1/2025  ---> \n",
    "#24/1/2026\n",
    "\n",
    "pricing = pr.Pricing(pathlib='/home/christophe/gitlab/norm/release/lib/linux64/')\n",
    "\n",
    "ibordatesnp= np.array(ibordates).astype(float)\n",
    "\n",
    "\n",
    "#  actu :\n",
    "m=nbcoupon\n",
    "decal = today-start_date\n",
    "# t1=np.array([0,year,2*year, 3*year, 4*year])/252.0\n",
    "t1=np.zeros(m)\n",
    "t2=np.zeros(m)\n",
    "t1[0]=0.0/year # today\n",
    "t2[0]=(year-decal)/year #dates of coupons  ## a generaliser !!\n",
    "f12=np.zeros(m)\n",
    "info = np.zeros(1,dtype='int64')\n",
    "actrat=np.zeros(m)\n",
    "interpmethod = 0\n",
    "pricing.WREpricingCurve2Forward( ncurve, ibordatesnp, iborvaleursnp, m, t1, t2, interpmethod, actrat, info )"
   ]
  },
  {
   "cell_type": "code",
   "execution_count": 26,
   "id": "7c1e2f57-9119-4da2-bdea-c1448c947635",
   "metadata": {},
   "outputs": [
    {
     "data": {
      "text/plain": [
       "array([0.])"
      ]
     },
     "execution_count": 26,
     "metadata": {},
     "output_type": "execute_result"
    }
   ],
   "source": [
    "t1"
   ]
  },
  {
   "cell_type": "code",
   "execution_count": 27,
   "id": "038c8e82-0a20-4935-a7bd-fa4db66d9811",
   "metadata": {},
   "outputs": [
    {
     "name": "stdout",
     "output_type": "stream",
     "text": [
      " r1=   4.5700000000000005E-002\n",
      " r2=   4.4314385000000005E-002\n",
      " f12=   4.4314385000000005E-002\n"
     ]
    },
    {
     "name": "stderr",
     "output_type": "stream",
     "text": [
      "/tmp/ipykernel_530212/2549259211.py:5: DeprecationWarning: Conversion of an array with ndim > 0 to a scalar is deprecated, and will error in future. Ensure you extract a single element from your array before performing this operation. (Deprecated NumPy 1.25.)\n",
      "  t1fl[0]=np.array([0.])/year\n"
     ]
    }
   ],
   "source": [
    "# pate flottante floatrate :\n",
    "mfl=1\n",
    "t1fl=np.zeros(mfl)\n",
    "t2fl=np.zeros(mfl)\n",
    "t1fl[0]=np.array([0.])/year\n",
    "t2fl[0]=(year-decal)/year #dates of coupons  ## a generaliser !!\n",
    "info = np.zeros(1,dtype='int64')\n",
    "floatrate=np.zeros(mfl)\n",
    "interpmethod = 0\n",
    "pricing.WREpricingCurve2Forward( ncurve, ibordatesnp, iborvaleursnp, mfl, t1fl, t2fl, interpmethod, floatrate, info )"
   ]
  },
  {
   "cell_type": "code",
   "execution_count": 28,
   "id": "535bb177-a961-4da4-9f19-f2e2716b9305",
   "metadata": {},
   "outputs": [
    {
     "name": "stdout",
     "output_type": "stream",
     "text": [
      " principal actualized from fixed leg=   99.959386729838883     \n",
      "   100.00000000000000        4.4314385000000003E-004  0.91666666666666663     \n",
      " fixedleg=   4.2569704026636490     \n",
      " principal actualized from floating leg=   99.959386729838883     \n",
      " test   100.00000000000000        4.4314385000000003E-004  0.91666666666666663                1\n",
      " floatingleg=   4.4296387479099719     \n",
      " fixedleg=   4.2569704026636490     \n",
      " floatingleg=   4.4296387479099719     \n",
      " P=  0.17266834524632291     \n"
     ]
    },
    {
     "data": {
      "text/plain": [
       "np.float64(104.05613215300444)"
      ]
     },
     "execution_count": 28,
     "metadata": {},
     "output_type": "execute_result"
    }
   ],
   "source": [
    "# jambe flottante\n",
    "ndatesFL = m\n",
    "datesFL = t2\n",
    "actualizationratesFL = actrat/100.0\n",
    "principalFL = 100.0\n",
    "yearfractionFL = 1.0\n",
    "floatingrate = floatrate\n",
    "\n",
    "# jambe fixe\n",
    "ndatesFIX = m\n",
    "datesFIX = t2\n",
    "actualizationratesFIX = actrat/100.0\n",
    "principalFIX = 100.0\n",
    "yearfractionFIX = 1.0\n",
    "fixedrate = 4.2587/100.0\n",
    "buyer=0\n",
    "\n",
    "#valo\n",
    "fixedleg = np.zeros(1)\n",
    "floatingleg = np.zeros(1)\n",
    "price = np.zeros(1)\n",
    "pricing.WREpricingIRS2( ndatesFL,  datesFL,  actualizationratesFL,   principalFL,  yearfractionFL, floatingrate,\n",
    "                      ndatesFIX, datesFIX, actualizationratesFIX, principalFIX, yearfractionFIX, \n",
    "                      fixedrate, buyer, fixedleg, floatingleg, price, info)\n",
    "ratioWRE = 100*floatingleg[0]/fixedleg[0] \n",
    "ratioWRE"
   ]
  },
  {
   "cell_type": "code",
   "execution_count": null,
   "id": "329d2cd1-8d03-4248-bcae-e21321f59f3d",
   "metadata": {},
   "outputs": [],
   "source": []
  },
  {
   "cell_type": "code",
   "execution_count": 29,
   "id": "c16dbcb1-c753-47cf-96b8-3287381bf735",
   "metadata": {},
   "outputs": [],
   "source": [
    "###### Comparaison"
   ]
  },
  {
   "cell_type": "code",
   "execution_count": 30,
   "id": "e8202560-e3f9-4b1b-a597-09c9fad40260",
   "metadata": {},
   "outputs": [
    {
     "data": {
      "text/html": [
       "<div>\n",
       "<style scoped>\n",
       "    .dataframe tbody tr th:only-of-type {\n",
       "        vertical-align: middle;\n",
       "    }\n",
       "\n",
       "    .dataframe tbody tr th {\n",
       "        vertical-align: top;\n",
       "    }\n",
       "\n",
       "    .dataframe thead th {\n",
       "        text-align: right;\n",
       "    }\n",
       "</style>\n",
       "<table border=\"1\" class=\"dataframe\">\n",
       "  <thead>\n",
       "    <tr style=\"text-align: right;\">\n",
       "      <th></th>\n",
       "      <th>Market Value</th>\n",
       "      <th>WRE</th>\n",
       "      <th>Quantlib</th>\n",
       "    </tr>\n",
       "  </thead>\n",
       "  <tbody>\n",
       "    <tr>\n",
       "      <th>ratio</th>\n",
       "      <td>100.016363</td>\n",
       "      <td>104.056132</td>\n",
       "      <td>104.674418</td>\n",
       "    </tr>\n",
       "    <tr>\n",
       "      <th>value</th>\n",
       "      <td>x</td>\n",
       "      <td>0.172668</td>\n",
       "      <td>0.193790</td>\n",
       "    </tr>\n",
       "    <tr>\n",
       "      <th>fixed leg</th>\n",
       "      <td>x</td>\n",
       "      <td>4.256970</td>\n",
       "      <td>4.145763</td>\n",
       "    </tr>\n",
       "    <tr>\n",
       "      <th>floating leg</th>\n",
       "      <td>x</td>\n",
       "      <td>4.429639</td>\n",
       "      <td>4.339553</td>\n",
       "    </tr>\n",
       "  </tbody>\n",
       "</table>\n",
       "</div>"
      ],
      "text/plain": [
       "             Market Value         WRE    Quantlib\n",
       "ratio          100.016363  104.056132  104.674418\n",
       "value                   x    0.172668    0.193790\n",
       "fixed leg               x    4.256970    4.145763\n",
       "floating leg            x    4.429639    4.339553"
      ]
     },
     "execution_count": 30,
     "metadata": {},
     "output_type": "execute_result"
    }
   ],
   "source": [
    "data={\"Market Value\": [quotationAMUNDI,\"x\", \"x\",\"x\"],\n",
    "      \"WRE\":[ratioWRE,price[0],fixedleg[0], floatingleg[0]],\n",
    "      \"Quantlib\": [ratio, swap.NPV(),abs(swap.fixedLegNPV()), abs(swap.overnightLegNPV())], \n",
    "     }\n",
    "\n",
    "pd.DataFrame(data, index=['ratio', 'value', \"fixed leg\", \"floating leg\"])\n"
   ]
  },
  {
   "cell_type": "code",
   "execution_count": null,
   "id": "e1987524-e019-4e2d-8201-3d97faa34315",
   "metadata": {},
   "outputs": [],
   "source": []
  },
  {
   "cell_type": "code",
   "execution_count": null,
   "id": "4a94ac8c-62e2-4dd3-91cd-41326fede3a1",
   "metadata": {},
   "outputs": [],
   "source": []
  },
  {
   "cell_type": "code",
   "execution_count": null,
   "id": "9b54ece2-5918-4763-8871-a6a19edaad5c",
   "metadata": {},
   "outputs": [],
   "source": []
  },
  {
   "cell_type": "code",
   "execution_count": null,
   "id": "1cc4dd85-59c6-461e-ab57-cf9cb823e2b4",
   "metadata": {},
   "outputs": [],
   "source": []
  },
  {
   "cell_type": "code",
   "execution_count": null,
   "id": "7c0e70ca-2a00-438b-9d63-d341748a6382",
   "metadata": {},
   "outputs": [],
   "source": []
  },
  {
   "cell_type": "code",
   "execution_count": null,
   "id": "95ccb33e-65e8-4d67-9fce-1dcc06e957c9",
   "metadata": {},
   "outputs": [],
   "source": []
  }
 ],
 "metadata": {
  "kernelspec": {
   "display_name": "Python 3 (ipykernel)",
   "language": "python",
   "name": "python3"
  },
  "language_info": {
   "codemirror_mode": {
    "name": "ipython",
    "version": 3
   },
   "file_extension": ".py",
   "mimetype": "text/x-python",
   "name": "python",
   "nbconvert_exporter": "python",
   "pygments_lexer": "ipython3",
   "version": "3.12.3"
  }
 },
 "nbformat": 4,
 "nbformat_minor": 5
}

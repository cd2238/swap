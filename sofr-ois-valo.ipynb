{
 "cells": [
  {
   "cell_type": "code",
   "execution_count": 1,
   "id": "5a09e2bb-5b39-42a1-b19a-a5c123358612",
   "metadata": {},
   "outputs": [],
   "source": [
    "import json\n",
    "from pathlib import Path\n",
    "import numpy as np\n",
    "import pandas as pd\n",
    "import sys\n",
    "import QuantLib as ql"
   ]
  },
  {
   "cell_type": "code",
   "execution_count": 2,
   "id": "62a0b98f-6a55-42f0-8a7e-0137f30662d1",
   "metadata": {},
   "outputs": [],
   "source": [
    "#  SW20251113_SOFR O/4.2587  matu : 2025-11-13\n",
    "#19/12/2024\n",
    "# floating, ANNU\n",
    "# fixe ANNU : 2025\n",
    "# 1 PAIEMENT\n",
    "#24/1/2025  ---> \n",
    "#24/1/2026\n",
    "# quotation 100.016363\n",
    "# \"startDate\" : \"2024-11-21\",\n",
    "# swap rate : 4.2587"
   ]
  },
  {
   "cell_type": "code",
   "execution_count": 3,
   "id": "a0382188-98a7-4730-a17d-3ead8a954ad8",
   "metadata": {},
   "outputs": [],
   "source": [
    "today = ql.Date(19, ql.December, 2024)\n",
    "ql.Settings.instance().evaluationDate = today\n",
    "\n",
    "bps = 1e-4"
   ]
  },
  {
   "cell_type": "code",
   "execution_count": 4,
   "id": "b206188d-b6ae-42cd-8a4c-b654f502066c",
   "metadata": {},
   "outputs": [
    {
     "data": {
      "text/plain": [
       "[Date(19,12,2024), Date(19,12,2074)]"
      ]
     },
     "execution_count": 4,
     "metadata": {},
     "output_type": "execute_result"
    }
   ],
   "source": [
    "[today, today + ql.Period(50, ql.Years)]"
   ]
  },
  {
   "cell_type": "code",
   "execution_count": 5,
   "id": "cca74915-1837-41a9-b69b-4e6d9209f29b",
   "metadata": {},
   "outputs": [],
   "source": [
    "def nparray2listQlDates(today,dates):\n",
    "    qldates = []\n",
    "    for i in range(len(dates)):\n",
    "        if dates[i]>=0:\n",
    "            qldates.append(today+ql.Period(dates[i], ql.Years))\n",
    "        else:\n",
    "            print(- dates[i])\n",
    "            qldates.append(today-ql.Period(-dates[i], ql.Years))\n",
    "    return qldates"
   ]
  },
  {
   "cell_type": "code",
   "execution_count": null,
   "id": "4ad49f0a-74a6-4d53-9bc4-7d885e4cfd98",
   "metadata": {},
   "outputs": [],
   "source": []
  },
  {
   "cell_type": "code",
   "execution_count": null,
   "id": "63567fcd-fd43-49fe-928d-f3a9d3bca270",
   "metadata": {},
   "outputs": [],
   "source": []
  },
  {
   "cell_type": "code",
   "execution_count": null,
   "id": "707caa9a-bef5-488b-b1f6-18bbca576e39",
   "metadata": {},
   "outputs": [],
   "source": []
  },
  {
   "cell_type": "code",
   "execution_count": null,
   "id": "58a7b5f6-3219-4982-8320-b9763a523ad2",
   "metadata": {},
   "outputs": [],
   "source": [
    "\n"
   ]
  },
  {
   "cell_type": "code",
   "execution_count": null,
   "id": "50951eb4-7358-487e-ba60-844f6db9faba",
   "metadata": {},
   "outputs": [],
   "source": []
  },
  {
   "cell_type": "code",
   "execution_count": null,
   "id": "3379e7b6-3194-4a07-b2f8-1b06eced603e",
   "metadata": {},
   "outputs": [],
   "source": []
  },
  {
   "cell_type": "code",
   "execution_count": 6,
   "id": "b61c8745-47e9-4650-b51f-9b0a1e44d4c7",
   "metadata": {},
   "outputs": [
    {
     "data": {
      "text/plain": [
       "<QuantLib.QuantLib.ZeroCurve; proxy of <Swig Object of type 'ext::shared_ptr< InterpolatedZeroCurve< Linear > > *' at 0x7f51a9948030> >"
      ]
     },
     "execution_count": 6,
     "metadata": {},
     "output_type": "execute_result"
    }
   ],
   "source": [
    "ibordates= [0,1,2,3,4,5,6,7,8,9,10,15,20,30]\n",
    "ibordatesql2 = nparray2listQlDates(today,ibordates)\n",
    "iborvaleursnp= np.array([4.57,4.418842,4.588199,4.383796,4.442341,4.472094,4.487725,\n",
    "                       4.603022,4.49304931,4.55046352,4.56296427,4.817077,4.969355, 4.76199173])/100\n",
    "iborvaleurs=iborvaleursnp.tolist()\n",
    "sofr_curve = ql.ZeroCurve(\n",
    "    ibordatesql2,\n",
    "    iborvaleurs,\n",
    "    ql.Actual365Fixed()\n",
    ")\n",
    "sofr_curve"
   ]
  },
  {
   "cell_type": "code",
   "execution_count": 7,
   "id": "443706a5-203f-4cae-9d6c-ea669929c8f7",
   "metadata": {},
   "outputs": [
    {
     "data": {
      "text/plain": [
       "[Date(19,12,2024),\n",
       " Date(19,12,2025),\n",
       " Date(19,12,2026),\n",
       " Date(19,12,2027),\n",
       " Date(19,12,2028),\n",
       " Date(19,12,2029),\n",
       " Date(19,12,2030),\n",
       " Date(19,12,2031),\n",
       " Date(19,12,2032),\n",
       " Date(19,12,2033),\n",
       " Date(19,12,2034),\n",
       " Date(19,12,2039),\n",
       " Date(19,12,2044),\n",
       " Date(19,12,2054)]"
      ]
     },
     "execution_count": 7,
     "metadata": {},
     "output_type": "execute_result"
    }
   ],
   "source": [
    "ibordatesql2 "
   ]
  },
  {
   "cell_type": "code",
   "execution_count": 8,
   "id": "43021fbb-45f7-47f7-9e8c-fea42a05d038",
   "metadata": {},
   "outputs": [
    {
     "data": {
      "text/plain": [
       "[0.045700000000000005,\n",
       " 0.04418842,\n",
       " 0.045881990000000004,\n",
       " 0.04383796,\n",
       " 0.044423409999999997,\n",
       " 0.04472094,\n",
       " 0.04487725,\n",
       " 0.046030220000000004,\n",
       " 0.044930493099999996,\n",
       " 0.045504635200000004,\n",
       " 0.0456296427,\n",
       " 0.04817077,\n",
       " 0.04969355,\n",
       " 0.0476199173]"
      ]
     },
     "execution_count": 8,
     "metadata": {},
     "output_type": "execute_result"
    }
   ],
   "source": [
    "iborvaleurs"
   ]
  },
  {
   "cell_type": "code",
   "execution_count": 9,
   "id": "becdc06f-3161-4442-bfdf-fc1ab98fd962",
   "metadata": {},
   "outputs": [
    {
     "data": {
      "text/plain": [
       "[Date(19,12,2024), Date(19,12,2074)]"
      ]
     },
     "execution_count": 9,
     "metadata": {},
     "output_type": "execute_result"
    }
   ],
   "source": [
    "[today, today + ql.Period(50, ql.Years)]"
   ]
  },
  {
   "cell_type": "code",
   "execution_count": null,
   "id": "52e6b094-06bf-4a74-8917-729c854cfcc5",
   "metadata": {},
   "outputs": [],
   "source": []
  },
  {
   "cell_type": "code",
   "execution_count": 10,
   "id": "b5bb1f09-5dea-45b0-a108-1ddeda273f4d",
   "metadata": {},
   "outputs": [],
   "source": [
    "sofr_handle = ql.YieldTermStructureHandle(sofr_curve)\n",
    "sofr = ql.Sofr(sofr_handle)"
   ]
  },
  {
   "cell_type": "code",
   "execution_count": null,
   "id": "c6da4371-c5a4-46df-9a44-38502e54eb51",
   "metadata": {},
   "outputs": [],
   "source": []
  },
  {
   "cell_type": "code",
   "execution_count": 11,
   "id": "03ca902b-686f-4f4f-aae4-7f1d90bd69d5",
   "metadata": {},
   "outputs": [],
   "source": [
    "d = ql.Date(21, ql.November, 2024)\n",
    "while d <= today:\n",
    "    if sofr.isValidFixingDate(d):\n",
    "        sofr.addFixing(d, 4.57/100)\n",
    "    d += 1"
   ]
  },
  {
   "cell_type": "code",
   "execution_count": null,
   "id": "b0c38e2c-d3e8-476f-ad45-208a1100fe47",
   "metadata": {},
   "outputs": [],
   "source": []
  },
  {
   "cell_type": "code",
   "execution_count": 12,
   "id": "87f33617-7008-414d-a956-0cb1a0372c6f",
   "metadata": {},
   "outputs": [
    {
     "data": {
      "text/plain": [
       "0.045275737731582666"
      ]
     },
     "execution_count": 12,
     "metadata": {},
     "output_type": "execute_result"
    }
   ],
   "source": [
    "sofr.fixing(ql.Date(19, ql.December, 2025))"
   ]
  },
  {
   "cell_type": "code",
   "execution_count": 13,
   "id": "fd7e62bf-c2b2-44d5-884b-e987fa2c4aa6",
   "metadata": {},
   "outputs": [],
   "source": [
    "start_date = ql.Date(21, ql.November, 2024)\n",
    "end_date = start_date + ql.Period(1, ql.Years) \n",
    "coupon_tenor = ql.Period(1, ql.Years)\n",
    "calendar = ql.UnitedStates(ql.UnitedStates.GovernmentBond)\n",
    "convention = ql.Following\n",
    "rule = ql.DateGeneration.Forward\n",
    "end_of_month = False\n",
    "\n",
    "fixed_rate = 4.2587 /100\n",
    "fixed_day_counter = sofr.dayCounter()\n",
    "\n",
    "schedule = ql.Schedule(\n",
    "    start_date,\n",
    "    end_date,\n",
    "    coupon_tenor,\n",
    "    calendar,\n",
    "    convention,\n",
    "    convention,\n",
    "    rule,\n",
    "    end_of_month,\n",
    ")\n",
    "swap = ql.OvernightIndexedSwap(\n",
    "    ql.Swap.Payer,\n",
    "    100,\n",
    "    schedule,\n",
    "    fixed_rate,\n",
    "    fixed_day_counter,\n",
    "    sofr,\n",
    ")"
   ]
  },
  {
   "cell_type": "code",
   "execution_count": null,
   "id": "bc52f42f-feb1-46f7-af63-313f55684a24",
   "metadata": {},
   "outputs": [],
   "source": []
  },
  {
   "cell_type": "code",
   "execution_count": 14,
   "id": "bf232116-a1aa-451d-b5a3-392c0fc055ae",
   "metadata": {},
   "outputs": [],
   "source": [
    "swap.setPricingEngine(\n",
    "    ql.DiscountingSwapEngine(sofr_handle)\n",
    ")"
   ]
  },
  {
   "cell_type": "code",
   "execution_count": 15,
   "id": "6677c049-63f2-4e8d-95bf-4fdcca72c3e3",
   "metadata": {},
   "outputs": [
    {
     "data": {
      "text/plain": [
       "0.042587"
      ]
     },
     "execution_count": 15,
     "metadata": {},
     "output_type": "execute_result"
    }
   ],
   "source": [
    "fixed_rate"
   ]
  },
  {
   "cell_type": "code",
   "execution_count": 16,
   "id": "5c942189-4c64-4280-9376-49527deac87e",
   "metadata": {},
   "outputs": [
    {
     "data": {
      "text/plain": [
       "0.21945425408937247"
      ]
     },
     "execution_count": 16,
     "metadata": {},
     "output_type": "execute_result"
    }
   ],
   "source": [
    "swap.NPV()"
   ]
  },
  {
   "cell_type": "code",
   "execution_count": 17,
   "id": "1ebac502-7e8c-4982-bda8-6045e00bf70b",
   "metadata": {},
   "outputs": [
    {
     "data": {
      "text/plain": [
       "-4.1447877732828164"
      ]
     },
     "execution_count": 17,
     "metadata": {},
     "output_type": "execute_result"
    }
   ],
   "source": [
    "swap.fixedLegNPV()"
   ]
  },
  {
   "cell_type": "code",
   "execution_count": 18,
   "id": "284c71b5-93d1-45d5-905d-ac229be99df8",
   "metadata": {},
   "outputs": [
    {
     "data": {
      "text/plain": [
       "4.364242027372189"
      ]
     },
     "execution_count": 18,
     "metadata": {},
     "output_type": "execute_result"
    }
   ],
   "source": [
    "swap.overnightLegNPV()"
   ]
  },
  {
   "cell_type": "code",
   "execution_count": 19,
   "id": "2deb4a04-a783-480e-ba62-3b3f33880aa4",
   "metadata": {},
   "outputs": [
    {
     "data": {
      "text/plain": [
       "-105.29470424285577"
      ]
     },
     "execution_count": 19,
     "metadata": {},
     "output_type": "execute_result"
    }
   ],
   "source": [
    "ratio=100*swap.overnightLegNPV()/swap.fixedLegNPV()\n",
    "ratio"
   ]
  },
  {
   "cell_type": "code",
   "execution_count": 20,
   "id": "779cbd0d-0bfb-47cd-94d9-95e8c63821de",
   "metadata": {},
   "outputs": [],
   "source": [
    "data = []\n",
    "for cf in swap.fixedLeg():\n",
    "    coupon = ql.as_fixed_rate_coupon(cf)\n",
    "    data.append(\n",
    "        (\n",
    "            coupon.date(),\n",
    "            coupon.rate(),\n",
    "            coupon.accrualPeriod(),\n",
    "            coupon.amount(),\n",
    "        )\n",
    "    )"
   ]
  },
  {
   "cell_type": "code",
   "execution_count": 21,
   "id": "5aa91a15-3f43-4a1f-9989-127819ca87ae",
   "metadata": {},
   "outputs": [
    {
     "data": {
      "text/html": [
       "<style type=\"text/css\">\n",
       "</style>\n",
       "<table id=\"T_fa703\">\n",
       "  <thead>\n",
       "    <tr>\n",
       "      <th class=\"blank level0\" >&nbsp;</th>\n",
       "      <th id=\"T_fa703_level0_col0\" class=\"col_heading level0 col0\" >date</th>\n",
       "      <th id=\"T_fa703_level0_col1\" class=\"col_heading level0 col1\" >rate</th>\n",
       "      <th id=\"T_fa703_level0_col2\" class=\"col_heading level0 col2\" >tenor</th>\n",
       "      <th id=\"T_fa703_level0_col3\" class=\"col_heading level0 col3\" >amount</th>\n",
       "    </tr>\n",
       "  </thead>\n",
       "  <tbody>\n",
       "    <tr>\n",
       "      <th id=\"T_fa703_level0_row0\" class=\"row_heading level0 row0\" >0</th>\n",
       "      <td id=\"T_fa703_row0_col0\" class=\"data row0 col0\" >November 21st, 2025</td>\n",
       "      <td id=\"T_fa703_row0_col1\" class=\"data row0 col1\" >4.26%</td>\n",
       "      <td id=\"T_fa703_row0_col2\" class=\"data row0 col2\" >1.013889</td>\n",
       "      <td id=\"T_fa703_row0_col3\" class=\"data row0 col3\" >4.32</td>\n",
       "    </tr>\n",
       "  </tbody>\n",
       "</table>\n"
      ],
      "text/plain": [
       "<pandas.io.formats.style.Styler at 0x7f519c013bf0>"
      ]
     },
     "execution_count": 21,
     "metadata": {},
     "output_type": "execute_result"
    }
   ],
   "source": [
    "pd.DataFrame(\n",
    "    data, columns=[\"date\", \"rate\", \"tenor\", \"amount\"]\n",
    ").style.format(\n",
    "    {\"amount\": \"{:.2f}\", \"rate\": \"{:.2%}\"}\n",
    ")"
   ]
  },
  {
   "cell_type": "code",
   "execution_count": 30,
   "id": "2fa9cf55-442f-4c4b-bc43-12fda656e37b",
   "metadata": {},
   "outputs": [
    {
     "name": "stdout",
     "output_type": "stream",
     "text": [
      "November 21st, 2025\n",
      "1.0138888888888888\n",
      "4.546465924723697\n"
     ]
    },
    {
     "data": {
      "text/plain": [
       "[(Date(21,11,2025),\n",
       "  0.04484185569590496,\n",
       "  1.0138888888888888,\n",
       "  4.546465924723697)]"
      ]
     },
     "execution_count": 30,
     "metadata": {},
     "output_type": "execute_result"
    }
   ],
   "source": [
    "data = []\n",
    "for cf in swap.overnightLeg():\n",
    "    coupon = ql.as_floating_rate_coupon(cf)\n",
    "    print(coupon.date())\n",
    "    print(coupon.accrualPeriod())\n",
    "    print(coupon.amount())    \n",
    "    data.append(\n",
    "        (\n",
    "            coupon.date(),\n",
    "            coupon.rate(),\n",
    "            coupon.accrualPeriod(),\n",
    "            coupon.amount(),\n",
    "        )\n",
    "    )\n",
    "data"
   ]
  },
  {
   "cell_type": "code",
   "execution_count": 23,
   "id": "94eb4751-f23a-45b2-b9a3-d7f8cf5d2f83",
   "metadata": {},
   "outputs": [
    {
     "data": {
      "text/html": [
       "<style type=\"text/css\">\n",
       "</style>\n",
       "<table id=\"T_9e9b8\">\n",
       "  <thead>\n",
       "    <tr>\n",
       "      <th class=\"blank level0\" >&nbsp;</th>\n",
       "      <th id=\"T_9e9b8_level0_col0\" class=\"col_heading level0 col0\" >date</th>\n",
       "      <th id=\"T_9e9b8_level0_col1\" class=\"col_heading level0 col1\" >rate</th>\n",
       "      <th id=\"T_9e9b8_level0_col2\" class=\"col_heading level0 col2\" >tenor</th>\n",
       "      <th id=\"T_9e9b8_level0_col3\" class=\"col_heading level0 col3\" >amount</th>\n",
       "    </tr>\n",
       "  </thead>\n",
       "  <tbody>\n",
       "    <tr>\n",
       "      <th id=\"T_9e9b8_level0_row0\" class=\"row_heading level0 row0\" >0</th>\n",
       "      <td id=\"T_9e9b8_row0_col0\" class=\"data row0 col0\" >November 21st, 2025</td>\n",
       "      <td id=\"T_9e9b8_row0_col1\" class=\"data row0 col1\" >4.48%</td>\n",
       "      <td id=\"T_9e9b8_row0_col2\" class=\"data row0 col2\" >1.013889</td>\n",
       "      <td id=\"T_9e9b8_row0_col3\" class=\"data row0 col3\" >4.55</td>\n",
       "    </tr>\n",
       "  </tbody>\n",
       "</table>\n"
      ],
      "text/plain": [
       "<pandas.io.formats.style.Styler at 0x7f517cf943b0>"
      ]
     },
     "execution_count": 23,
     "metadata": {},
     "output_type": "execute_result"
    }
   ],
   "source": [
    "pd.DataFrame(\n",
    "    data, columns=[\"date\", \"rate\", \"tenor\", \"amount\"]\n",
    ").style.format(\n",
    "    {\"amount\": \"{:.2f}\", \"rate\": \"{:.2%}\"}\n",
    ")"
   ]
  },
  {
   "cell_type": "code",
   "execution_count": 24,
   "id": "785f0eed-df44-4392-b053-03e24d0d6840",
   "metadata": {},
   "outputs": [
    {
     "data": {
      "text/plain": [
       "0.044841855695904986"
      ]
     },
     "execution_count": 24,
     "metadata": {},
     "output_type": "execute_result"
    }
   ],
   "source": [
    "swap.fairRate()"
   ]
  },
  {
   "cell_type": "code",
   "execution_count": 31,
   "id": "e8202560-e3f9-4b1b-a597-09c9fad40260",
   "metadata": {},
   "outputs": [
    {
     "data": {
      "text/html": [
       "<div>\n",
       "<style scoped>\n",
       "    .dataframe tbody tr th:only-of-type {\n",
       "        vertical-align: middle;\n",
       "    }\n",
       "\n",
       "    .dataframe tbody tr th {\n",
       "        vertical-align: top;\n",
       "    }\n",
       "\n",
       "    .dataframe thead th {\n",
       "        text-align: right;\n",
       "    }\n",
       "</style>\n",
       "<table border=\"1\" class=\"dataframe\">\n",
       "  <thead>\n",
       "    <tr style=\"text-align: right;\">\n",
       "      <th></th>\n",
       "      <th>0</th>\n",
       "    </tr>\n",
       "  </thead>\n",
       "  <tbody>\n",
       "    <tr>\n",
       "      <th>0</th>\n",
       "      <td>100.016363</td>\n",
       "    </tr>\n",
       "    <tr>\n",
       "      <th>1</th>\n",
       "      <td>103.760349</td>\n",
       "    </tr>\n",
       "    <tr>\n",
       "      <th>2</th>\n",
       "      <td>105.294704</td>\n",
       "    </tr>\n",
       "  </tbody>\n",
       "</table>\n",
       "</div>"
      ],
      "text/plain": [
       "            0\n",
       "0  100.016363\n",
       "1  103.760349\n",
       "2  105.294704"
      ]
     },
     "execution_count": 31,
     "metadata": {},
     "output_type": "execute_result"
    }
   ],
   "source": [
    "data=(100.016363,103.7603494, abs(ratio))\n",
    "pd.DataFrame(data)\n"
   ]
  },
  {
   "cell_type": "code",
   "execution_count": 27,
   "id": "e1987524-e019-4e2d-8201-3d97faa34315",
   "metadata": {},
   "outputs": [
    {
     "data": {
      "text/plain": [
       "[100.016363, 103.7603494, -105.29470424285577]"
      ]
     },
     "execution_count": 27,
     "metadata": {},
     "output_type": "execute_result"
    }
   ],
   "source": [
    "data\n"
   ]
  },
  {
   "cell_type": "code",
   "execution_count": null,
   "id": "4a94ac8c-62e2-4dd3-91cd-41326fede3a1",
   "metadata": {},
   "outputs": [],
   "source": []
  },
  {
   "cell_type": "code",
   "execution_count": null,
   "id": "9b54ece2-5918-4763-8871-a6a19edaad5c",
   "metadata": {},
   "outputs": [],
   "source": []
  },
  {
   "cell_type": "code",
   "execution_count": null,
   "id": "1cc4dd85-59c6-461e-ab57-cf9cb823e2b4",
   "metadata": {},
   "outputs": [],
   "source": []
  },
  {
   "cell_type": "code",
   "execution_count": null,
   "id": "7c0e70ca-2a00-438b-9d63-d341748a6382",
   "metadata": {},
   "outputs": [],
   "source": []
  },
  {
   "cell_type": "code",
   "execution_count": null,
   "id": "95ccb33e-65e8-4d67-9fce-1dcc06e957c9",
   "metadata": {},
   "outputs": [],
   "source": []
  }
 ],
 "metadata": {
  "kernelspec": {
   "display_name": "Python 3 (ipykernel)",
   "language": "python",
   "name": "python3"
  },
  "language_info": {
   "codemirror_mode": {
    "name": "ipython",
    "version": 3
   },
   "file_extension": ".py",
   "mimetype": "text/x-python",
   "name": "python",
   "nbconvert_exporter": "python",
   "pygments_lexer": "ipython3",
   "version": "3.12.3"
  }
 },
 "nbformat": 4,
 "nbformat_minor": 5
}

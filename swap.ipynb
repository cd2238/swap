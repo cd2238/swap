{
 "cells": [
  {
   "cell_type": "code",
   "execution_count": 1,
   "id": "a969c66c-f8eb-4479-b35b-8326d4f3bcc8",
   "metadata": {},
   "outputs": [],
   "source": [
    "import json\n",
    "from pathlib import Path\n",
    "import numpy as np\n",
    "import pandas as pd\n",
    "import sys\n",
    "import QuantLib as ql\n",
    "sys.path.insert(0, \"/home/christophe/gitlab/norm/test/scripts/python\")\n",
    "sys.path.insert(0, \"/home/christophe/gitlab/norm/release/api/python/ct\")\n",
    "sys.path.insert(0, \"/home/christophe/gitlab/norm/test/scripts/python/Unitaire\")\n",
    "\n",
    "import import_allocation as ia\n",
    "import import_pricing as pr\n",
    "import TestWREmodelingCovFiltering as cf\n",
    "#import openaml_importer.model as models"
   ]
  },
  {
   "cell_type": "code",
   "execution_count": 2,
   "id": "316c261a-730e-48f3-944d-fe97e20b0f4e",
   "metadata": {},
   "outputs": [],
   "source": [
    "with open(\"data/assets.json\", \"r\") as f:\n",
    "    data = json.load(f) "
   ]
  },
  {
   "cell_type": "code",
   "execution_count": 3,
   "id": "4216ba8e-f8a2-4020-ac27-da23e3d397f6",
   "metadata": {},
   "outputs": [
    {
     "data": {
      "text/plain": [
       "dict"
      ]
     },
     "execution_count": 3,
     "metadata": {},
     "output_type": "execute_result"
    }
   ],
   "source": [
    "type(data)"
   ]
  },
  {
   "cell_type": "code",
   "execution_count": 4,
   "id": "fdf09072-68a6-410d-8ceb-fbb2b5360366",
   "metadata": {},
   "outputs": [],
   "source": [
    "dd = data['assets']"
   ]
  },
  {
   "cell_type": "code",
   "execution_count": null,
   "id": "25181962-2dda-46cf-9993-2a927c2d161f",
   "metadata": {},
   "outputs": [],
   "source": []
  },
  {
   "cell_type": "code",
   "execution_count": null,
   "id": "1766bcb2-12b9-4c49-a5a7-fd98649d6d0d",
   "metadata": {},
   "outputs": [],
   "source": []
  },
  {
   "cell_type": "code",
   "execution_count": null,
   "id": "16aca8ba-dece-492c-9dd2-6d4637e20f2e",
   "metadata": {},
   "outputs": [],
   "source": []
  },
  {
   "cell_type": "code",
   "execution_count": null,
   "id": "c8d375a1-855c-4cd1-add5-e109d0b6d66a",
   "metadata": {},
   "outputs": [],
   "source": []
  },
  {
   "cell_type": "code",
   "execution_count": 5,
   "id": "e0907848-5f2b-4418-aad8-6536b9e77ea9",
   "metadata": {},
   "outputs": [
    {
     "name": "stderr",
     "output_type": "stream",
     "text": [
      "/tmp/ipykernel_414155/454589895.py:29: FutureWarning: The behavior of DataFrame concatenation with empty or all-NA entries is deprecated. In a future version, this will no longer exclude empty or all-NA columns when determining the result dtypes. To retain the old behavior, exclude the relevant entries before the concat operation.\n",
      "  pdswap = pd.concat([pdswap, pdnew], ignore_index=False)\n"
     ]
    },
    {
     "data": {
      "text/html": [
       "<div>\n",
       "<style scoped>\n",
       "    .dataframe tbody tr th:only-of-type {\n",
       "        vertical-align: middle;\n",
       "    }\n",
       "\n",
       "    .dataframe tbody tr th {\n",
       "        vertical-align: top;\n",
       "    }\n",
       "\n",
       "    .dataframe thead th {\n",
       "        text-align: right;\n",
       "    }\n",
       "</style>\n",
       "<table border=\"1\" class=\"dataframe\">\n",
       "  <thead>\n",
       "    <tr style=\"text-align: right;\">\n",
       "      <th></th>\n",
       "      <th>maturityDate</th>\n",
       "      <th>currency</th>\n",
       "      <th>quotationdate</th>\n",
       "      <th>quotationvalue</th>\n",
       "      <th>side0</th>\n",
       "      <th>cur0</th>\n",
       "      <th>ratetype</th>\n",
       "      <th>frequency</th>\n",
       "      <th>index</th>\n",
       "      <th>marginAdd</th>\n",
       "      <th>marginMult</th>\n",
       "      <th>side1</th>\n",
       "      <th>cur1</th>\n",
       "      <th>ratetype1</th>\n",
       "      <th>frequency</th>\n",
       "      <th>rate</th>\n",
       "    </tr>\n",
       "  </thead>\n",
       "  <tbody>\n",
       "    <tr>\n",
       "      <th>SW20250131_ESTR O/3.246</th>\n",
       "      <td>2025-01-31</td>\n",
       "      <td>EUR</td>\n",
       "      <td>2024-12-19</td>\n",
       "      <td>100.378497</td>\n",
       "      <td>RECEIVE</td>\n",
       "      <td>EUR</td>\n",
       "      <td>FLOATING</td>\n",
       "      <td>INFI</td>\n",
       "      <td>6741831</td>\n",
       "      <td>0.0</td>\n",
       "      <td>1.0</td>\n",
       "      <td>PAY</td>\n",
       "      <td>EUR</td>\n",
       "      <td>FIXED</td>\n",
       "      <td>INFI</td>\n",
       "      <td>3.2460</td>\n",
       "    </tr>\n",
       "    <tr>\n",
       "      <th>SW20250113_ESTR O/2.9599</th>\n",
       "      <td>2025-01-13</td>\n",
       "      <td>EUR</td>\n",
       "      <td>2024-12-19</td>\n",
       "      <td>100.000814</td>\n",
       "      <td>RECEIVE</td>\n",
       "      <td>EUR</td>\n",
       "      <td>FLOATING</td>\n",
       "      <td>INFI</td>\n",
       "      <td>6741831</td>\n",
       "      <td>0.0</td>\n",
       "      <td>1.0</td>\n",
       "      <td>PAY</td>\n",
       "      <td>EUR</td>\n",
       "      <td>FIXED</td>\n",
       "      <td>INFI</td>\n",
       "      <td>2.9599</td>\n",
       "    </tr>\n",
       "    <tr>\n",
       "      <th>SW20250908_ESTR O/2.813</th>\n",
       "      <td>2025-09-08</td>\n",
       "      <td>EUR</td>\n",
       "      <td>2024-12-19</td>\n",
       "      <td>99.786749</td>\n",
       "      <td>RECEIVE</td>\n",
       "      <td>EUR</td>\n",
       "      <td>FLOATING</td>\n",
       "      <td>INFI</td>\n",
       "      <td>6741831</td>\n",
       "      <td>0.0</td>\n",
       "      <td>1.0</td>\n",
       "      <td>PAY</td>\n",
       "      <td>EUR</td>\n",
       "      <td>FIXED</td>\n",
       "      <td>INFI</td>\n",
       "      <td>2.8130</td>\n",
       "    </tr>\n",
       "    <tr>\n",
       "      <th>SW20250131_ESTR O/3.246</th>\n",
       "      <td>2025-01-31</td>\n",
       "      <td>EUR</td>\n",
       "      <td>2024-12-19</td>\n",
       "      <td>100.378497</td>\n",
       "      <td>RECEIVE</td>\n",
       "      <td>EUR</td>\n",
       "      <td>FLOATING</td>\n",
       "      <td>INFI</td>\n",
       "      <td>6741831</td>\n",
       "      <td>0.0</td>\n",
       "      <td>1.0</td>\n",
       "      <td>PAY</td>\n",
       "      <td>EUR</td>\n",
       "      <td>FIXED</td>\n",
       "      <td>INFI</td>\n",
       "      <td>3.2460</td>\n",
       "    </tr>\n",
       "    <tr>\n",
       "      <th>SW20250205_ESTR O/3.0175</th>\n",
       "      <td>2025-02-05</td>\n",
       "      <td>EUR</td>\n",
       "      <td>2024-12-19</td>\n",
       "      <td>100.001246</td>\n",
       "      <td>RECEIVE</td>\n",
       "      <td>EUR</td>\n",
       "      <td>FLOATING</td>\n",
       "      <td>INFI</td>\n",
       "      <td>6741831</td>\n",
       "      <td>0.0</td>\n",
       "      <td>1.0</td>\n",
       "      <td>PAY</td>\n",
       "      <td>EUR</td>\n",
       "      <td>FIXED</td>\n",
       "      <td>INFI</td>\n",
       "      <td>3.0175</td>\n",
       "    </tr>\n",
       "    <tr>\n",
       "      <th>...</th>\n",
       "      <td>...</td>\n",
       "      <td>...</td>\n",
       "      <td>...</td>\n",
       "      <td>...</td>\n",
       "      <td>...</td>\n",
       "      <td>...</td>\n",
       "      <td>...</td>\n",
       "      <td>...</td>\n",
       "      <td>...</td>\n",
       "      <td>...</td>\n",
       "      <td>...</td>\n",
       "      <td>...</td>\n",
       "      <td>...</td>\n",
       "      <td>...</td>\n",
       "      <td>...</td>\n",
       "      <td>...</td>\n",
       "    </tr>\n",
       "    <tr>\n",
       "      <th>SW20251112_ESTR O/2.3055</th>\n",
       "      <td>2025-11-12</td>\n",
       "      <td>EUR</td>\n",
       "      <td>2024-12-19</td>\n",
       "      <td>100.006444</td>\n",
       "      <td>RECEIVE</td>\n",
       "      <td>EUR</td>\n",
       "      <td>FLOATING</td>\n",
       "      <td>INFI</td>\n",
       "      <td>6741831</td>\n",
       "      <td>0.0</td>\n",
       "      <td>1.0</td>\n",
       "      <td>PAY</td>\n",
       "      <td>EUR</td>\n",
       "      <td>FIXED</td>\n",
       "      <td>INFI</td>\n",
       "      <td>2.3055</td>\n",
       "    </tr>\n",
       "    <tr>\n",
       "      <th>SW20250207_ESTR O/3.0094</th>\n",
       "      <td>2025-02-07</td>\n",
       "      <td>EUR</td>\n",
       "      <td>2024-12-19</td>\n",
       "      <td>100.002011</td>\n",
       "      <td>RECEIVE</td>\n",
       "      <td>EUR</td>\n",
       "      <td>FLOATING</td>\n",
       "      <td>INFI</td>\n",
       "      <td>6741831</td>\n",
       "      <td>0.0</td>\n",
       "      <td>1.0</td>\n",
       "      <td>PAY</td>\n",
       "      <td>EUR</td>\n",
       "      <td>FIXED</td>\n",
       "      <td>INFI</td>\n",
       "      <td>3.0094</td>\n",
       "    </tr>\n",
       "    <tr>\n",
       "      <th>SW20250718_ESTR O/3.23</th>\n",
       "      <td>2025-07-18</td>\n",
       "      <td>EUR</td>\n",
       "      <td>2024-12-19</td>\n",
       "      <td>99.631221</td>\n",
       "      <td>RECEIVE</td>\n",
       "      <td>EUR</td>\n",
       "      <td>FLOATING</td>\n",
       "      <td>INFI</td>\n",
       "      <td>6741831</td>\n",
       "      <td>0.0</td>\n",
       "      <td>1.0</td>\n",
       "      <td>PAY</td>\n",
       "      <td>EUR</td>\n",
       "      <td>FIXED</td>\n",
       "      <td>INFI</td>\n",
       "      <td>3.2300</td>\n",
       "    </tr>\n",
       "    <tr>\n",
       "      <th>SW20250219_ESTR O/2.9164</th>\n",
       "      <td>2025-02-19</td>\n",
       "      <td>EUR</td>\n",
       "      <td>2024-12-19</td>\n",
       "      <td>100.011090</td>\n",
       "      <td>RECEIVE</td>\n",
       "      <td>EUR</td>\n",
       "      <td>FLOATING</td>\n",
       "      <td>INFI</td>\n",
       "      <td>6741831</td>\n",
       "      <td>0.0</td>\n",
       "      <td>1.0</td>\n",
       "      <td>PAY</td>\n",
       "      <td>EUR</td>\n",
       "      <td>FIXED</td>\n",
       "      <td>INFI</td>\n",
       "      <td>2.9164</td>\n",
       "    </tr>\n",
       "    <tr>\n",
       "      <th>SW20250326_ESTR O/3.0475</th>\n",
       "      <td>2025-03-26</td>\n",
       "      <td>EUR</td>\n",
       "      <td>2024-12-19</td>\n",
       "      <td>99.971744</td>\n",
       "      <td>RECEIVE</td>\n",
       "      <td>EUR</td>\n",
       "      <td>FLOATING</td>\n",
       "      <td>INFI</td>\n",
       "      <td>6741831</td>\n",
       "      <td>0.0</td>\n",
       "      <td>1.0</td>\n",
       "      <td>PAY</td>\n",
       "      <td>EUR</td>\n",
       "      <td>FIXED</td>\n",
       "      <td>INFI</td>\n",
       "      <td>3.0475</td>\n",
       "    </tr>\n",
       "  </tbody>\n",
       "</table>\n",
       "<p>255 rows × 16 columns</p>\n",
       "</div>"
      ],
      "text/plain": [
       "                         maturityDate currency quotationdate  quotationvalue  \\\n",
       "SW20250131_ESTR O/3.246    2025-01-31      EUR    2024-12-19      100.378497   \n",
       "SW20250113_ESTR O/2.9599   2025-01-13      EUR    2024-12-19      100.000814   \n",
       "SW20250908_ESTR O/2.813    2025-09-08      EUR    2024-12-19       99.786749   \n",
       "SW20250131_ESTR O/3.246    2025-01-31      EUR    2024-12-19      100.378497   \n",
       "SW20250205_ESTR O/3.0175   2025-02-05      EUR    2024-12-19      100.001246   \n",
       "...                               ...      ...           ...             ...   \n",
       "SW20251112_ESTR O/2.3055   2025-11-12      EUR    2024-12-19      100.006444   \n",
       "SW20250207_ESTR O/3.0094   2025-02-07      EUR    2024-12-19      100.002011   \n",
       "SW20250718_ESTR O/3.23     2025-07-18      EUR    2024-12-19       99.631221   \n",
       "SW20250219_ESTR O/2.9164   2025-02-19      EUR    2024-12-19      100.011090   \n",
       "SW20250326_ESTR O/3.0475   2025-03-26      EUR    2024-12-19       99.971744   \n",
       "\n",
       "                            side0 cur0  ratetype frequency    index  \\\n",
       "SW20250131_ESTR O/3.246   RECEIVE  EUR  FLOATING      INFI  6741831   \n",
       "SW20250113_ESTR O/2.9599  RECEIVE  EUR  FLOATING      INFI  6741831   \n",
       "SW20250908_ESTR O/2.813   RECEIVE  EUR  FLOATING      INFI  6741831   \n",
       "SW20250131_ESTR O/3.246   RECEIVE  EUR  FLOATING      INFI  6741831   \n",
       "SW20250205_ESTR O/3.0175  RECEIVE  EUR  FLOATING      INFI  6741831   \n",
       "...                           ...  ...       ...       ...      ...   \n",
       "SW20251112_ESTR O/2.3055  RECEIVE  EUR  FLOATING      INFI  6741831   \n",
       "SW20250207_ESTR O/3.0094  RECEIVE  EUR  FLOATING      INFI  6741831   \n",
       "SW20250718_ESTR O/3.23    RECEIVE  EUR  FLOATING      INFI  6741831   \n",
       "SW20250219_ESTR O/2.9164  RECEIVE  EUR  FLOATING      INFI  6741831   \n",
       "SW20250326_ESTR O/3.0475  RECEIVE  EUR  FLOATING      INFI  6741831   \n",
       "\n",
       "                          marginAdd  marginMult side1 cur1 ratetype1  \\\n",
       "SW20250131_ESTR O/3.246         0.0         1.0   PAY  EUR     FIXED   \n",
       "SW20250113_ESTR O/2.9599        0.0         1.0   PAY  EUR     FIXED   \n",
       "SW20250908_ESTR O/2.813         0.0         1.0   PAY  EUR     FIXED   \n",
       "SW20250131_ESTR O/3.246         0.0         1.0   PAY  EUR     FIXED   \n",
       "SW20250205_ESTR O/3.0175        0.0         1.0   PAY  EUR     FIXED   \n",
       "...                             ...         ...   ...  ...       ...   \n",
       "SW20251112_ESTR O/2.3055        0.0         1.0   PAY  EUR     FIXED   \n",
       "SW20250207_ESTR O/3.0094        0.0         1.0   PAY  EUR     FIXED   \n",
       "SW20250718_ESTR O/3.23          0.0         1.0   PAY  EUR     FIXED   \n",
       "SW20250219_ESTR O/2.9164        0.0         1.0   PAY  EUR     FIXED   \n",
       "SW20250326_ESTR O/3.0475        0.0         1.0   PAY  EUR     FIXED   \n",
       "\n",
       "                         frequency    rate  \n",
       "SW20250131_ESTR O/3.246       INFI  3.2460  \n",
       "SW20250113_ESTR O/2.9599      INFI  2.9599  \n",
       "SW20250908_ESTR O/2.813       INFI  2.8130  \n",
       "SW20250131_ESTR O/3.246       INFI  3.2460  \n",
       "SW20250205_ESTR O/3.0175      INFI  3.0175  \n",
       "...                            ...     ...  \n",
       "SW20251112_ESTR O/2.3055      INFI  2.3055  \n",
       "SW20250207_ESTR O/3.0094      INFI  3.0094  \n",
       "SW20250718_ESTR O/3.23        INFI  3.2300  \n",
       "SW20250219_ESTR O/2.9164      INFI  2.9164  \n",
       "SW20250326_ESTR O/3.0475      INFI  3.0475  \n",
       "\n",
       "[255 rows x 16 columns]"
      ]
     },
     "metadata": {},
     "output_type": "display_data"
    }
   ],
   "source": [
    "# list of swaps ESTR\n",
    "#pd.set_option('display.max_rows', 300)\n",
    "col=['maturityDate', 'currency', 'quotationdate', 'quotationvalue', 'side0', 'cur0', 'ratetype', 'frequency','index','marginAdd', 'marginMult', 'side1','cur1', 'ratetype1','frequency', 'rate'] #\n",
    "pdswap = pd.DataFrame(columns=col)\n",
    "j=0\n",
    "for i in range(len(dd)):\n",
    "    if ((dd[i]['assetType']=='SWAP_ON_RATE') and (\"_ESTR\" in dd[i]['name'])):\n",
    "        #print('tt',dd[i]['legs'][0]['interest'].get('index'))\n",
    "        pdnew=pd.DataFrame([[dd[i]['maturityDate'],\n",
    "                             dd[i]['ccy'],\n",
    "                             dd[i]['quotations'][0]['date'],\n",
    "                             dd[i]['quotations'][0]['close'],\n",
    "                             dd[i]['legs'][0]['side'], \n",
    "                             dd[i]['legs'][0]['ccy'], \n",
    "                             dd[i]['legs'][0]['interest']['rateType'], \n",
    "                             dd[i]['legs'][0]['interest']['paymentFrequency']['code'], \n",
    "                             #dd[i]['legs'][0]['interest']['dayCountMethod'], \n",
    "                             dd[i]['legs'][0]['interest']['index']['_id'], \n",
    "                             dd[i]['legs'][0]['interest']['marginAdd'], \n",
    "                             dd[i]['legs'][0]['interest']['marginMult'], \n",
    "                             dd[i]['legs'][1]['side'], \n",
    "                             dd[i]['legs'][1]['ccy'], \n",
    "                             dd[i]['legs'][1]['interest']['rateType'], \n",
    "                             dd[i]['legs'][1]['interest']['paymentFrequency']['code'], \n",
    "                             #dd[i]['legs'][1]['interest']['dayCountMethod'],\n",
    "                             dd[i]['legs'][1]['interest'].get('rate')\n",
    "                            ]], \n",
    "                             columns=col, index=[dd[i]['name']])\n",
    "        pdswap = pd.concat([pdswap, pdnew], ignore_index=False)\n",
    "display(pdswap)"
   ]
  },
  {
   "cell_type": "code",
   "execution_count": 6,
   "id": "480a87a7-40c7-440e-aef9-0f7803b6a56c",
   "metadata": {},
   "outputs": [
    {
     "name": "stdout",
     "output_type": "stream",
     "text": [
      "15\n"
     ]
    },
    {
     "name": "stderr",
     "output_type": "stream",
     "text": [
      "/tmp/ipykernel_414155/260048983.py:27: FutureWarning: The behavior of DataFrame concatenation with empty or all-NA entries is deprecated. In a future version, this will no longer exclude empty or all-NA columns when determining the result dtypes. To retain the old behavior, exclude the relevant entries before the concat operation.\n",
      "  pdswap = pd.concat([pdswap, pdnew], ignore_index=False)\n"
     ]
    },
    {
     "data": {
      "text/html": [
       "<div>\n",
       "<style scoped>\n",
       "    .dataframe tbody tr th:only-of-type {\n",
       "        vertical-align: middle;\n",
       "    }\n",
       "\n",
       "    .dataframe tbody tr th {\n",
       "        vertical-align: top;\n",
       "    }\n",
       "\n",
       "    .dataframe thead th {\n",
       "        text-align: right;\n",
       "    }\n",
       "</style>\n",
       "<table border=\"1\" class=\"dataframe\">\n",
       "  <thead>\n",
       "    <tr style=\"text-align: right;\">\n",
       "      <th></th>\n",
       "      <th>maturityDate</th>\n",
       "      <th>currency</th>\n",
       "      <th>quotationdate</th>\n",
       "      <th>quotationvalue</th>\n",
       "      <th>side0</th>\n",
       "      <th>cur0</th>\n",
       "      <th>ratetype</th>\n",
       "      <th>frequency</th>\n",
       "      <th>index</th>\n",
       "      <th>marginAdd</th>\n",
       "      <th>marginMult</th>\n",
       "      <th>side1</th>\n",
       "      <th>cur1</th>\n",
       "      <th>ratetype1</th>\n",
       "      <th>frequency</th>\n",
       "      <th>rate</th>\n",
       "    </tr>\n",
       "  </thead>\n",
       "  <tbody>\n",
       "    <tr>\n",
       "      <th>SW20251113_SOFR O/4.2587</th>\n",
       "      <td>2025-11-13</td>\n",
       "      <td>USD</td>\n",
       "      <td>2024-12-19</td>\n",
       "      <td>100.016363</td>\n",
       "      <td>RECEIVE</td>\n",
       "      <td>USD</td>\n",
       "      <td>FLOATING</td>\n",
       "      <td>ANNU</td>\n",
       "      <td>5967593</td>\n",
       "      <td>0.0</td>\n",
       "      <td>1.0</td>\n",
       "      <td>PAY</td>\n",
       "      <td>USD</td>\n",
       "      <td>FIXED</td>\n",
       "      <td>ANNU</td>\n",
       "      <td>4.2587</td>\n",
       "    </tr>\n",
       "    <tr>\n",
       "      <th>SW20250211_SOFR O/4.46</th>\n",
       "      <td>2025-02-11</td>\n",
       "      <td>USD</td>\n",
       "      <td>2024-12-19</td>\n",
       "      <td>100.060533</td>\n",
       "      <td>RECEIVE</td>\n",
       "      <td>USD</td>\n",
       "      <td>FLOATING</td>\n",
       "      <td>ANNU</td>\n",
       "      <td>5967593</td>\n",
       "      <td>0.0</td>\n",
       "      <td>1.0</td>\n",
       "      <td>PAY</td>\n",
       "      <td>USD</td>\n",
       "      <td>FIXED</td>\n",
       "      <td>ANNU</td>\n",
       "      <td>4.4600</td>\n",
       "    </tr>\n",
       "    <tr>\n",
       "      <th>SW20250407_SOFR O/4.5635</th>\n",
       "      <td>2025-04-07</td>\n",
       "      <td>USD</td>\n",
       "      <td>2024-12-19</td>\n",
       "      <td>100.027895</td>\n",
       "      <td>RECEIVE</td>\n",
       "      <td>USD</td>\n",
       "      <td>FLOATING</td>\n",
       "      <td>ANNU</td>\n",
       "      <td>5967593</td>\n",
       "      <td>0.0</td>\n",
       "      <td>1.0</td>\n",
       "      <td>PAY</td>\n",
       "      <td>USD</td>\n",
       "      <td>FIXED</td>\n",
       "      <td>ANNU</td>\n",
       "      <td>4.5635</td>\n",
       "    </tr>\n",
       "    <tr>\n",
       "      <th>SW20250606_SOFR O/4.391</th>\n",
       "      <td>2025-06-06</td>\n",
       "      <td>USD</td>\n",
       "      <td>2024-12-19</td>\n",
       "      <td>100.102703</td>\n",
       "      <td>RECEIVE</td>\n",
       "      <td>USD</td>\n",
       "      <td>FLOATING</td>\n",
       "      <td>ANNU</td>\n",
       "      <td>5967593</td>\n",
       "      <td>0.0</td>\n",
       "      <td>1.0</td>\n",
       "      <td>PAY</td>\n",
       "      <td>USD</td>\n",
       "      <td>FIXED</td>\n",
       "      <td>ANNU</td>\n",
       "      <td>4.3910</td>\n",
       "    </tr>\n",
       "    <tr>\n",
       "      <th>SW20250508_SOFR O/4.411</th>\n",
       "      <td>2025-05-08</td>\n",
       "      <td>USD</td>\n",
       "      <td>2024-12-19</td>\n",
       "      <td>99.965975</td>\n",
       "      <td>RECEIVE</td>\n",
       "      <td>USD</td>\n",
       "      <td>FLOATING</td>\n",
       "      <td>ANNU</td>\n",
       "      <td>5967593</td>\n",
       "      <td>0.0</td>\n",
       "      <td>1.0</td>\n",
       "      <td>PAY</td>\n",
       "      <td>USD</td>\n",
       "      <td>FIXED</td>\n",
       "      <td>ANNU</td>\n",
       "      <td>4.4110</td>\n",
       "    </tr>\n",
       "    <tr>\n",
       "      <th>SW20251114_SOFR O/4.219</th>\n",
       "      <td>2025-11-14</td>\n",
       "      <td>USD</td>\n",
       "      <td>2024-12-19</td>\n",
       "      <td>100.033389</td>\n",
       "      <td>RECEIVE</td>\n",
       "      <td>USD</td>\n",
       "      <td>FLOATING</td>\n",
       "      <td>ANNU</td>\n",
       "      <td>5967593</td>\n",
       "      <td>0.0</td>\n",
       "      <td>1.0</td>\n",
       "      <td>PAY</td>\n",
       "      <td>USD</td>\n",
       "      <td>FIXED</td>\n",
       "      <td>ANNU</td>\n",
       "      <td>4.2190</td>\n",
       "    </tr>\n",
       "    <tr>\n",
       "      <th>SW20250626_SOFR O/5.0435</th>\n",
       "      <td>2025-06-26</td>\n",
       "      <td>USD</td>\n",
       "      <td>2024-12-19</td>\n",
       "      <td>99.684772</td>\n",
       "      <td>RECEIVE</td>\n",
       "      <td>USD</td>\n",
       "      <td>FLOATING</td>\n",
       "      <td>ANNU</td>\n",
       "      <td>5967593</td>\n",
       "      <td>0.0</td>\n",
       "      <td>1.0</td>\n",
       "      <td>PAY</td>\n",
       "      <td>USD</td>\n",
       "      <td>FIXED</td>\n",
       "      <td>ANNU</td>\n",
       "      <td>5.0435</td>\n",
       "    </tr>\n",
       "    <tr>\n",
       "      <th>SW20250310_SOFR O/4.6098</th>\n",
       "      <td>2025-03-10</td>\n",
       "      <td>USD</td>\n",
       "      <td>2024-12-19</td>\n",
       "      <td>100.018657</td>\n",
       "      <td>RECEIVE</td>\n",
       "      <td>USD</td>\n",
       "      <td>FLOATING</td>\n",
       "      <td>ANNU</td>\n",
       "      <td>5967593</td>\n",
       "      <td>0.0</td>\n",
       "      <td>1.0</td>\n",
       "      <td>PAY</td>\n",
       "      <td>USD</td>\n",
       "      <td>FIXED</td>\n",
       "      <td>ANNU</td>\n",
       "      <td>4.6098</td>\n",
       "    </tr>\n",
       "    <tr>\n",
       "      <th>SW20251002_SOFR O/3.834</th>\n",
       "      <td>2025-10-02</td>\n",
       "      <td>USD</td>\n",
       "      <td>2024-12-19</td>\n",
       "      <td>100.523361</td>\n",
       "      <td>RECEIVE</td>\n",
       "      <td>USD</td>\n",
       "      <td>FLOATING</td>\n",
       "      <td>ANNU</td>\n",
       "      <td>5967593</td>\n",
       "      <td>0.0</td>\n",
       "      <td>1.0</td>\n",
       "      <td>PAY</td>\n",
       "      <td>USD</td>\n",
       "      <td>FIXED</td>\n",
       "      <td>ANNU</td>\n",
       "      <td>3.8340</td>\n",
       "    </tr>\n",
       "    <tr>\n",
       "      <th>SW20250718_SOFR O/4.0145</th>\n",
       "      <td>2025-07-18</td>\n",
       "      <td>USD</td>\n",
       "      <td>2024-12-19</td>\n",
       "      <td>100.366475</td>\n",
       "      <td>RECEIVE</td>\n",
       "      <td>USD</td>\n",
       "      <td>FLOATING</td>\n",
       "      <td>ANNU</td>\n",
       "      <td>5967593</td>\n",
       "      <td>0.0</td>\n",
       "      <td>1.0</td>\n",
       "      <td>PAY</td>\n",
       "      <td>USD</td>\n",
       "      <td>FIXED</td>\n",
       "      <td>ANNU</td>\n",
       "      <td>4.0145</td>\n",
       "    </tr>\n",
       "    <tr>\n",
       "      <th>SW20250313_SOFR O/4.5339</th>\n",
       "      <td>2025-03-13</td>\n",
       "      <td>USD</td>\n",
       "      <td>2024-12-19</td>\n",
       "      <td>100.044895</td>\n",
       "      <td>RECEIVE</td>\n",
       "      <td>USD</td>\n",
       "      <td>FLOATING</td>\n",
       "      <td>ANNU</td>\n",
       "      <td>5967593</td>\n",
       "      <td>0.0</td>\n",
       "      <td>1.0</td>\n",
       "      <td>PAY</td>\n",
       "      <td>USD</td>\n",
       "      <td>FIXED</td>\n",
       "      <td>ANNU</td>\n",
       "      <td>4.5339</td>\n",
       "    </tr>\n",
       "    <tr>\n",
       "      <th>SW20250317_SOFR O/4.5959</th>\n",
       "      <td>2025-03-17</td>\n",
       "      <td>USD</td>\n",
       "      <td>2024-12-19</td>\n",
       "      <td>100.004027</td>\n",
       "      <td>RECEIVE</td>\n",
       "      <td>USD</td>\n",
       "      <td>FLOATING</td>\n",
       "      <td>ANNU</td>\n",
       "      <td>5967593</td>\n",
       "      <td>0.0</td>\n",
       "      <td>1.0</td>\n",
       "      <td>PAY</td>\n",
       "      <td>USD</td>\n",
       "      <td>FIXED</td>\n",
       "      <td>ANNU</td>\n",
       "      <td>4.5959</td>\n",
       "    </tr>\n",
       "    <tr>\n",
       "      <th>SW20250424_SOFR O/4.918</th>\n",
       "      <td>2025-04-24</td>\n",
       "      <td>USD</td>\n",
       "      <td>2024-12-19</td>\n",
       "      <td>99.840379</td>\n",
       "      <td>RECEIVE</td>\n",
       "      <td>USD</td>\n",
       "      <td>FLOATING</td>\n",
       "      <td>ANNU</td>\n",
       "      <td>5967593</td>\n",
       "      <td>0.0</td>\n",
       "      <td>1.0</td>\n",
       "      <td>PAY</td>\n",
       "      <td>USD</td>\n",
       "      <td>FIXED</td>\n",
       "      <td>ANNU</td>\n",
       "      <td>4.9180</td>\n",
       "    </tr>\n",
       "    <tr>\n",
       "      <th>SW20250430_SOFR O/4.93</th>\n",
       "      <td>2025-04-30</td>\n",
       "      <td>USD</td>\n",
       "      <td>2024-12-19</td>\n",
       "      <td>99.816803</td>\n",
       "      <td>RECEIVE</td>\n",
       "      <td>USD</td>\n",
       "      <td>FLOATING</td>\n",
       "      <td>ANNU</td>\n",
       "      <td>5967593</td>\n",
       "      <td>0.0</td>\n",
       "      <td>1.0</td>\n",
       "      <td>PAY</td>\n",
       "      <td>USD</td>\n",
       "      <td>FIXED</td>\n",
       "      <td>ANNU</td>\n",
       "      <td>4.9300</td>\n",
       "    </tr>\n",
       "    <tr>\n",
       "      <th>SW20250324_SOFR O/4.993</th>\n",
       "      <td>2025-03-24</td>\n",
       "      <td>USD</td>\n",
       "      <td>2024-12-19</td>\n",
       "      <td>100.048499</td>\n",
       "      <td>RECEIVE</td>\n",
       "      <td>USD</td>\n",
       "      <td>FLOATING</td>\n",
       "      <td>ANNU</td>\n",
       "      <td>5967593</td>\n",
       "      <td>0.0</td>\n",
       "      <td>1.0</td>\n",
       "      <td>PAY</td>\n",
       "      <td>USD</td>\n",
       "      <td>FIXED</td>\n",
       "      <td>ANNU</td>\n",
       "      <td>4.9930</td>\n",
       "    </tr>\n",
       "  </tbody>\n",
       "</table>\n",
       "</div>"
      ],
      "text/plain": [
       "                         maturityDate currency quotationdate  quotationvalue  \\\n",
       "SW20251113_SOFR O/4.2587   2025-11-13      USD    2024-12-19      100.016363   \n",
       "SW20250211_SOFR O/4.46     2025-02-11      USD    2024-12-19      100.060533   \n",
       "SW20250407_SOFR O/4.5635   2025-04-07      USD    2024-12-19      100.027895   \n",
       "SW20250606_SOFR O/4.391    2025-06-06      USD    2024-12-19      100.102703   \n",
       "SW20250508_SOFR O/4.411    2025-05-08      USD    2024-12-19       99.965975   \n",
       "SW20251114_SOFR O/4.219    2025-11-14      USD    2024-12-19      100.033389   \n",
       "SW20250626_SOFR O/5.0435   2025-06-26      USD    2024-12-19       99.684772   \n",
       "SW20250310_SOFR O/4.6098   2025-03-10      USD    2024-12-19      100.018657   \n",
       "SW20251002_SOFR O/3.834    2025-10-02      USD    2024-12-19      100.523361   \n",
       "SW20250718_SOFR O/4.0145   2025-07-18      USD    2024-12-19      100.366475   \n",
       "SW20250313_SOFR O/4.5339   2025-03-13      USD    2024-12-19      100.044895   \n",
       "SW20250317_SOFR O/4.5959   2025-03-17      USD    2024-12-19      100.004027   \n",
       "SW20250424_SOFR O/4.918    2025-04-24      USD    2024-12-19       99.840379   \n",
       "SW20250430_SOFR O/4.93     2025-04-30      USD    2024-12-19       99.816803   \n",
       "SW20250324_SOFR O/4.993    2025-03-24      USD    2024-12-19      100.048499   \n",
       "\n",
       "                            side0 cur0  ratetype frequency    index  \\\n",
       "SW20251113_SOFR O/4.2587  RECEIVE  USD  FLOATING      ANNU  5967593   \n",
       "SW20250211_SOFR O/4.46    RECEIVE  USD  FLOATING      ANNU  5967593   \n",
       "SW20250407_SOFR O/4.5635  RECEIVE  USD  FLOATING      ANNU  5967593   \n",
       "SW20250606_SOFR O/4.391   RECEIVE  USD  FLOATING      ANNU  5967593   \n",
       "SW20250508_SOFR O/4.411   RECEIVE  USD  FLOATING      ANNU  5967593   \n",
       "SW20251114_SOFR O/4.219   RECEIVE  USD  FLOATING      ANNU  5967593   \n",
       "SW20250626_SOFR O/5.0435  RECEIVE  USD  FLOATING      ANNU  5967593   \n",
       "SW20250310_SOFR O/4.6098  RECEIVE  USD  FLOATING      ANNU  5967593   \n",
       "SW20251002_SOFR O/3.834   RECEIVE  USD  FLOATING      ANNU  5967593   \n",
       "SW20250718_SOFR O/4.0145  RECEIVE  USD  FLOATING      ANNU  5967593   \n",
       "SW20250313_SOFR O/4.5339  RECEIVE  USD  FLOATING      ANNU  5967593   \n",
       "SW20250317_SOFR O/4.5959  RECEIVE  USD  FLOATING      ANNU  5967593   \n",
       "SW20250424_SOFR O/4.918   RECEIVE  USD  FLOATING      ANNU  5967593   \n",
       "SW20250430_SOFR O/4.93    RECEIVE  USD  FLOATING      ANNU  5967593   \n",
       "SW20250324_SOFR O/4.993   RECEIVE  USD  FLOATING      ANNU  5967593   \n",
       "\n",
       "                          marginAdd  marginMult side1 cur1 ratetype1  \\\n",
       "SW20251113_SOFR O/4.2587        0.0         1.0   PAY  USD     FIXED   \n",
       "SW20250211_SOFR O/4.46          0.0         1.0   PAY  USD     FIXED   \n",
       "SW20250407_SOFR O/4.5635        0.0         1.0   PAY  USD     FIXED   \n",
       "SW20250606_SOFR O/4.391         0.0         1.0   PAY  USD     FIXED   \n",
       "SW20250508_SOFR O/4.411         0.0         1.0   PAY  USD     FIXED   \n",
       "SW20251114_SOFR O/4.219         0.0         1.0   PAY  USD     FIXED   \n",
       "SW20250626_SOFR O/5.0435        0.0         1.0   PAY  USD     FIXED   \n",
       "SW20250310_SOFR O/4.6098        0.0         1.0   PAY  USD     FIXED   \n",
       "SW20251002_SOFR O/3.834         0.0         1.0   PAY  USD     FIXED   \n",
       "SW20250718_SOFR O/4.0145        0.0         1.0   PAY  USD     FIXED   \n",
       "SW20250313_SOFR O/4.5339        0.0         1.0   PAY  USD     FIXED   \n",
       "SW20250317_SOFR O/4.5959        0.0         1.0   PAY  USD     FIXED   \n",
       "SW20250424_SOFR O/4.918         0.0         1.0   PAY  USD     FIXED   \n",
       "SW20250430_SOFR O/4.93          0.0         1.0   PAY  USD     FIXED   \n",
       "SW20250324_SOFR O/4.993         0.0         1.0   PAY  USD     FIXED   \n",
       "\n",
       "                         frequency    rate  \n",
       "SW20251113_SOFR O/4.2587      ANNU  4.2587  \n",
       "SW20250211_SOFR O/4.46        ANNU  4.4600  \n",
       "SW20250407_SOFR O/4.5635      ANNU  4.5635  \n",
       "SW20250606_SOFR O/4.391       ANNU  4.3910  \n",
       "SW20250508_SOFR O/4.411       ANNU  4.4110  \n",
       "SW20251114_SOFR O/4.219       ANNU  4.2190  \n",
       "SW20250626_SOFR O/5.0435      ANNU  5.0435  \n",
       "SW20250310_SOFR O/4.6098      ANNU  4.6098  \n",
       "SW20251002_SOFR O/3.834       ANNU  3.8340  \n",
       "SW20250718_SOFR O/4.0145      ANNU  4.0145  \n",
       "SW20250313_SOFR O/4.5339      ANNU  4.5339  \n",
       "SW20250317_SOFR O/4.5959      ANNU  4.5959  \n",
       "SW20250424_SOFR O/4.918       ANNU  4.9180  \n",
       "SW20250430_SOFR O/4.93        ANNU  4.9300  \n",
       "SW20250324_SOFR O/4.993       ANNU  4.9930  "
      ]
     },
     "execution_count": 6,
     "metadata": {},
     "output_type": "execute_result"
    }
   ],
   "source": [
    "# list of swaps SOFR\n",
    "j=0\n",
    "pdswap = pd.DataFrame(columns=col)\n",
    "for i in range(len(dd)):\n",
    "    if ((dd[i]['assetType']=='SWAP_ON_RATE') and (\"SOFR\" in dd[i]['name'])):\n",
    "        j=j+1\n",
    "        pdnew=pd.DataFrame([[dd[i]['maturityDate'],\n",
    "                             dd[i]['ccy'],\n",
    "                             dd[i]['quotations'][0]['date'],\n",
    "                             dd[i]['quotations'][0]['close'],\n",
    "                             dd[i]['legs'][0]['side'], \n",
    "                             dd[i]['legs'][0]['ccy'], \n",
    "                             dd[i]['legs'][0]['interest']['rateType'], \n",
    "                             dd[i]['legs'][0]['interest']['paymentFrequency']['code'], \n",
    "                             #dd[i]['legs'][0]['interest']['dayCountMethod'], \n",
    "                             dd[i]['legs'][0]['interest']['index']['_id'], \n",
    "                             dd[i]['legs'][0]['interest']['marginAdd'], \n",
    "                             dd[i]['legs'][0]['interest']['marginMult'], \n",
    "                             dd[i]['legs'][1]['side'], \n",
    "                             dd[i]['legs'][1]['ccy'], \n",
    "                             dd[i]['legs'][1]['interest']['rateType'], \n",
    "                             dd[i]['legs'][1]['interest']['paymentFrequency']['code'], \n",
    "                             #dd[i]['legs'][1]['interest']['dayCountMethod'],\n",
    "                             dd[i]['legs'][1]['interest'].get('rate')\n",
    "                            ]], \n",
    "                             columns=col, index=[dd[i]['name']])\n",
    "        pdswap = pd.concat([pdswap, pdnew], ignore_index=False)\n",
    "print(j)\n",
    "pdswap"
   ]
  },
  {
   "cell_type": "code",
   "execution_count": 7,
   "id": "47b94bf2-f236-487f-bfa9-6e0c05ea8ab9",
   "metadata": {
    "scrolled": true
   },
   "outputs": [
    {
     "name": "stdout",
     "output_type": "stream",
     "text": [
      "2\n"
     ]
    },
    {
     "name": "stderr",
     "output_type": "stream",
     "text": [
      "/tmp/ipykernel_414155/2045291089.py:31: FutureWarning: The behavior of DataFrame concatenation with empty or all-NA entries is deprecated. In a future version, this will no longer exclude empty or all-NA columns when determining the result dtypes. To retain the old behavior, exclude the relevant entries before the concat operation.\n",
      "  pdswap = pd.concat([pdswap, pdnew], ignore_index=False)\n"
     ]
    },
    {
     "data": {
      "text/html": [
       "<div>\n",
       "<style scoped>\n",
       "    .dataframe tbody tr th:only-of-type {\n",
       "        vertical-align: middle;\n",
       "    }\n",
       "\n",
       "    .dataframe tbody tr th {\n",
       "        vertical-align: top;\n",
       "    }\n",
       "\n",
       "    .dataframe thead th {\n",
       "        text-align: right;\n",
       "    }\n",
       "</style>\n",
       "<table border=\"1\" class=\"dataframe\">\n",
       "  <thead>\n",
       "    <tr style=\"text-align: right;\">\n",
       "      <th></th>\n",
       "      <th>maturityDate</th>\n",
       "      <th>currency</th>\n",
       "      <th>quotationdate</th>\n",
       "      <th>quotationvalue</th>\n",
       "      <th>side0</th>\n",
       "      <th>cur0</th>\n",
       "      <th>ratetype</th>\n",
       "      <th>frequency</th>\n",
       "      <th>rate</th>\n",
       "      <th>side1</th>\n",
       "      <th>cur1</th>\n",
       "      <th>ratetype1</th>\n",
       "      <th>frequency</th>\n",
       "      <th>index</th>\n",
       "      <th>marginAdd</th>\n",
       "      <th>marginMult</th>\n",
       "    </tr>\n",
       "  </thead>\n",
       "  <tbody>\n",
       "    <tr>\n",
       "      <th>SW20260126_2.172/ESTR O</th>\n",
       "      <td>2026-01-24</td>\n",
       "      <td>EUR</td>\n",
       "      <td>2024-12-19</td>\n",
       "      <td>100.114127</td>\n",
       "      <td>RECEIVE</td>\n",
       "      <td>EUR</td>\n",
       "      <td>FIXED</td>\n",
       "      <td>ANNU</td>\n",
       "      <td>2.172</td>\n",
       "      <td>PAY</td>\n",
       "      <td>EUR</td>\n",
       "      <td>FLOATING</td>\n",
       "      <td>ANNU</td>\n",
       "      <td>6741831</td>\n",
       "      <td>0.0</td>\n",
       "      <td>1.0</td>\n",
       "    </tr>\n",
       "    <tr>\n",
       "      <th>SW20280325_5.75/HUF BU</th>\n",
       "      <td>2028-03-25</td>\n",
       "      <td>HUF</td>\n",
       "      <td>2024-12-19</td>\n",
       "      <td>98.812563</td>\n",
       "      <td>RECEIVE</td>\n",
       "      <td>HUF</td>\n",
       "      <td>FIXED</td>\n",
       "      <td>ANNU</td>\n",
       "      <td>5.750</td>\n",
       "      <td>PAY</td>\n",
       "      <td>HUF</td>\n",
       "      <td>FLOATING</td>\n",
       "      <td>SEME</td>\n",
       "      <td>549433</td>\n",
       "      <td>0.0</td>\n",
       "      <td>1.0</td>\n",
       "    </tr>\n",
       "  </tbody>\n",
       "</table>\n",
       "</div>"
      ],
      "text/plain": [
       "                        maturityDate currency quotationdate  quotationvalue  \\\n",
       "SW20260126_2.172/ESTR O   2026-01-24      EUR    2024-12-19      100.114127   \n",
       "SW20280325_5.75/HUF BU    2028-03-25      HUF    2024-12-19       98.812563   \n",
       "\n",
       "                           side0 cur0 ratetype frequency   rate side1 cur1  \\\n",
       "SW20260126_2.172/ESTR O  RECEIVE  EUR    FIXED      ANNU  2.172   PAY  EUR   \n",
       "SW20280325_5.75/HUF BU   RECEIVE  HUF    FIXED      ANNU  5.750   PAY  HUF   \n",
       "\n",
       "                        ratetype1 frequency    index  marginAdd  marginMult  \n",
       "SW20260126_2.172/ESTR O  FLOATING      ANNU  6741831        0.0         1.0  \n",
       "SW20280325_5.75/HUF BU   FLOATING      SEME   549433        0.0         1.0  "
      ]
     },
     "execution_count": 7,
     "metadata": {},
     "output_type": "execute_result"
    }
   ],
   "source": [
    "# list of swaps no SOFR and ESTR and EU\n",
    "j=0\n",
    "col=['maturityDate', 'currency', 'quotationdate', 'quotationvalue', 'side0', 'cur0', 'ratetype', 'frequency',  'rate', 'side1', 'cur1', 'ratetype1','frequency',  'index','marginAdd', 'marginMult' ] \n",
    "#col=['maturityDate', 'side0', 'ratetype', 'frequency', 'daycountmethod' ,'index','ratetype1','frequency', 'daycountmethod', 'rate'] #\n",
    "\n",
    "pdswap = pd.DataFrame(columns=col)\n",
    "for i in range(len(dd)):\n",
    "    if ((dd[i]['assetType']=='SWAP_ON_RATE') and (\"SOFR\" not in dd[i]['name']) and (\"_ESTR\" not in dd[i]['name'])and (\"EUR\" not in dd[i]['name'])):\n",
    "        j=j+1\n",
    "        pdnew=pd.DataFrame([[dd[i]['maturityDate'],\n",
    "                             dd[i]['ccy'],\n",
    "                             dd[i]['quotations'][0]['date'],\n",
    "                             dd[i]['quotations'][0]['close'],\n",
    "                             dd[i]['legs'][0]['side'], \n",
    "                             dd[i]['legs'][0]['ccy'], \n",
    "                             dd[i]['legs'][0]['interest']['rateType'], \n",
    "                             dd[i]['legs'][0]['interest']['paymentFrequency']['code'], \n",
    "                             #dd[i]['legs'][0]['interest']['dayCountMethod'], \n",
    "                             #dd[i]['legs'][0]['interest']['index']['_id'], \n",
    "                             dd[i]['legs'][0]['interest'].get('rate'),\n",
    "                             dd[i]['legs'][1]['side'], \n",
    "                             dd[i]['legs'][1]['ccy'], \n",
    "                             dd[i]['legs'][1]['interest']['rateType'], \n",
    "                             dd[i]['legs'][1]['interest']['paymentFrequency']['code'], \n",
    "                             dd[i]['legs'][1]['interest']['index']['_id'], \n",
    "                             #dd[i]['legs'][1]['interest']['dayCountMethod'],\n",
    "                             dd[i]['legs'][1]['interest']['marginAdd'], \n",
    "                             dd[i]['legs'][1]['interest']['marginMult']\n",
    "                            ]], \n",
    "                             columns=col, index=[dd[i]['name']])        \n",
    "        pdswap = pd.concat([pdswap, pdnew], ignore_index=False)\n",
    "print(j)\n",
    "pdswap"
   ]
  },
  {
   "cell_type": "code",
   "execution_count": 8,
   "id": "b9820fab-0917-49d7-94c3-dbfd211d68a5",
   "metadata": {},
   "outputs": [
    {
     "name": "stdout",
     "output_type": "stream",
     "text": [
      "2\n"
     ]
    },
    {
     "name": "stderr",
     "output_type": "stream",
     "text": [
      "/tmp/ipykernel_414155/2598958411.py:30: FutureWarning: The behavior of DataFrame concatenation with empty or all-NA entries is deprecated. In a future version, this will no longer exclude empty or all-NA columns when determining the result dtypes. To retain the old behavior, exclude the relevant entries before the concat operation.\n",
      "  pdswap = pd.concat([pdswap, pdnew], ignore_index=False)\n"
     ]
    },
    {
     "data": {
      "text/html": [
       "<div>\n",
       "<style scoped>\n",
       "    .dataframe tbody tr th:only-of-type {\n",
       "        vertical-align: middle;\n",
       "    }\n",
       "\n",
       "    .dataframe tbody tr th {\n",
       "        vertical-align: top;\n",
       "    }\n",
       "\n",
       "    .dataframe thead th {\n",
       "        text-align: right;\n",
       "    }\n",
       "</style>\n",
       "<table border=\"1\" class=\"dataframe\">\n",
       "  <thead>\n",
       "    <tr style=\"text-align: right;\">\n",
       "      <th></th>\n",
       "      <th>maturityDate</th>\n",
       "      <th>currency</th>\n",
       "      <th>quotationdate</th>\n",
       "      <th>quotationvalue</th>\n",
       "      <th>side0</th>\n",
       "      <th>currency0</th>\n",
       "      <th>ratetype</th>\n",
       "      <th>frequency</th>\n",
       "      <th>index</th>\n",
       "      <th>marginAdd</th>\n",
       "      <th>marginMult</th>\n",
       "      <th>side1</th>\n",
       "      <th>currency1</th>\n",
       "      <th>ratetype1</th>\n",
       "      <th>frequency</th>\n",
       "      <th>rate</th>\n",
       "    </tr>\n",
       "  </thead>\n",
       "  <tbody>\n",
       "    <tr>\n",
       "      <th>SW20290619_EUR EU/2.8187</th>\n",
       "      <td>2029-06-19</td>\n",
       "      <td>EUR</td>\n",
       "      <td>2024-12-19</td>\n",
       "      <td>96.071931</td>\n",
       "      <td>RECEIVE</td>\n",
       "      <td>EUR</td>\n",
       "      <td>FLOATING</td>\n",
       "      <td>SEME</td>\n",
       "      <td>251377</td>\n",
       "      <td>0.0</td>\n",
       "      <td>1.0</td>\n",
       "      <td>PAY</td>\n",
       "      <td>EUR</td>\n",
       "      <td>FIXED</td>\n",
       "      <td>ANNU</td>\n",
       "      <td>2.8187</td>\n",
       "    </tr>\n",
       "    <tr>\n",
       "      <th>SW20290805_EUR EU/2.5602</th>\n",
       "      <td>2029-08-05</td>\n",
       "      <td>EUR</td>\n",
       "      <td>2024-12-19</td>\n",
       "      <td>99.030237</td>\n",
       "      <td>RECEIVE</td>\n",
       "      <td>EUR</td>\n",
       "      <td>FLOATING</td>\n",
       "      <td>SEME</td>\n",
       "      <td>251377</td>\n",
       "      <td>0.0</td>\n",
       "      <td>1.0</td>\n",
       "      <td>PAY</td>\n",
       "      <td>EUR</td>\n",
       "      <td>FIXED</td>\n",
       "      <td>ANNU</td>\n",
       "      <td>2.5602</td>\n",
       "    </tr>\n",
       "  </tbody>\n",
       "</table>\n",
       "</div>"
      ],
      "text/plain": [
       "                         maturityDate currency quotationdate  quotationvalue  \\\n",
       "SW20290619_EUR EU/2.8187   2029-06-19      EUR    2024-12-19       96.071931   \n",
       "SW20290805_EUR EU/2.5602   2029-08-05      EUR    2024-12-19       99.030237   \n",
       "\n",
       "                            side0 currency0  ratetype frequency   index  \\\n",
       "SW20290619_EUR EU/2.8187  RECEIVE       EUR  FLOATING      SEME  251377   \n",
       "SW20290805_EUR EU/2.5602  RECEIVE       EUR  FLOATING      SEME  251377   \n",
       "\n",
       "                          marginAdd  marginMult side1 currency1 ratetype1  \\\n",
       "SW20290619_EUR EU/2.8187        0.0         1.0   PAY       EUR     FIXED   \n",
       "SW20290805_EUR EU/2.5602        0.0         1.0   PAY       EUR     FIXED   \n",
       "\n",
       "                         frequency    rate  \n",
       "SW20290619_EUR EU/2.8187      ANNU  2.8187  \n",
       "SW20290805_EUR EU/2.5602      ANNU  2.5602  "
      ]
     },
     "execution_count": 8,
     "metadata": {},
     "output_type": "execute_result"
    }
   ],
   "source": [
    "# list of swaps no SOFR and ESTR and EU\n",
    "j=0\n",
    "col=['maturityDate', 'currency', 'quotationdate', 'quotationvalue', 'side0', 'currency0', 'ratetype', 'frequency', 'index' ,'marginAdd', 'marginMult' ,'side1','currency1', 'ratetype1','frequency','rate'] \n",
    "#col=['maturityDate', 'side0', 'ratetype', 'frequency', 'daycountmethod' ,'index','ratetype1','frequency', 'daycountmethod', 'rate'] #\n",
    "\n",
    "pdswap = pd.DataFrame(columns=col)\n",
    "for i in range(len(dd)):\n",
    "    if ((dd[i]['assetType']=='SWAP_ON_RATE') and (\"SOFR\" not in dd[i]['name']) and (\"_ESTR\" not in dd[i]['name'])and (\"EUR\"  in dd[i]['name'])):\n",
    "        j=j+1\n",
    "        pdnew=pd.DataFrame([[dd[i]['maturityDate'],\n",
    "                             dd[i]['ccy'],\n",
    "                             dd[i]['quotations'][0]['date'],\n",
    "                             dd[i]['quotations'][0]['close'],\n",
    "                             dd[i]['legs'][0]['side'], \n",
    "                             dd[i]['legs'][0]['ccy'], \n",
    "                             dd[i]['legs'][0]['interest']['rateType'], \n",
    "                             dd[i]['legs'][0]['interest']['paymentFrequency']['code'], \n",
    "                             #dd[i]['legs'][0]['interest']['dayCountMethod'], \n",
    "                             dd[i]['legs'][0]['interest']['index']['_id'], \n",
    "                             dd[i]['legs'][0]['interest']['marginAdd'], \n",
    "                             dd[i]['legs'][0]['interest']['marginMult'],\n",
    "                             dd[i]['legs'][1]['side'], \n",
    "                             dd[i]['legs'][1]['ccy'], \n",
    "                             dd[i]['legs'][1]['interest']['rateType'], \n",
    "                             dd[i]['legs'][1]['interest']['paymentFrequency']['code'], \n",
    "                             #dd[i]['legs'][1]['interest']['dayCountMethod'],\n",
    "                             dd[i]['legs'][1]['interest'].get('rate')\n",
    "                            ]], \n",
    "                             columns=col, index=[dd[i]['name']])        \n",
    "        pdswap = pd.concat([pdswap, pdnew], ignore_index=False)\n",
    "print(j)\n",
    "pdswap"
   ]
  },
  {
   "cell_type": "code",
   "execution_count": 9,
   "id": "b01ce4c6-6cb6-4d3e-9a39-4bd011357fd9",
   "metadata": {},
   "outputs": [
    {
     "name": "stdout",
     "output_type": "stream",
     "text": [
      "4\n"
     ]
    },
    {
     "name": "stderr",
     "output_type": "stream",
     "text": [
      "/tmp/ipykernel_414155/2197306129.py:23: FutureWarning: The behavior of DataFrame concatenation with empty or all-NA entries is deprecated. In a future version, this will no longer exclude empty or all-NA columns when determining the result dtypes. To retain the old behavior, exclude the relevant entries before the concat operation.\n",
      "  pdswap = pd.concat([pdswap, pdnew], ignore_index=False)\n"
     ]
    },
    {
     "data": {
      "text/html": [
       "<div>\n",
       "<style scoped>\n",
       "    .dataframe tbody tr th:only-of-type {\n",
       "        vertical-align: middle;\n",
       "    }\n",
       "\n",
       "    .dataframe tbody tr th {\n",
       "        vertical-align: top;\n",
       "    }\n",
       "\n",
       "    .dataframe thead th {\n",
       "        text-align: right;\n",
       "    }\n",
       "</style>\n",
       "<table border=\"1\" class=\"dataframe\">\n",
       "  <thead>\n",
       "    <tr style=\"text-align: right;\">\n",
       "      <th></th>\n",
       "      <th>index</th>\n",
       "      <th>assetType</th>\n",
       "      <th>dates</th>\n",
       "      <th>last</th>\n",
       "      <th>currency</th>\n",
       "    </tr>\n",
       "  </thead>\n",
       "  <tbody>\n",
       "    <tr>\n",
       "      <th>EURIBOR 6M</th>\n",
       "      <td>251377</td>\n",
       "      <td>MONEY_MARKET_INDEX</td>\n",
       "      <td>2024-12-19</td>\n",
       "      <td>2.637000</td>\n",
       "      <td>EUR</td>\n",
       "    </tr>\n",
       "    <tr>\n",
       "      <th>HUF 6 MOIS BUBOR</th>\n",
       "      <td>549433</td>\n",
       "      <td>MONEY_MARKET_INDEX</td>\n",
       "      <td>2024-12-19</td>\n",
       "      <td>6.480000</td>\n",
       "      <td>HUF</td>\n",
       "    </tr>\n",
       "    <tr>\n",
       "      <th>SOFR OVERNIGHT RATE</th>\n",
       "      <td>5967593</td>\n",
       "      <td>MONEY_MARKET_INDEX</td>\n",
       "      <td>2024-12-18</td>\n",
       "      <td>4.570000</td>\n",
       "      <td>USD</td>\n",
       "    </tr>\n",
       "    <tr>\n",
       "      <th>ESTR OIS</th>\n",
       "      <td>6741831</td>\n",
       "      <td>MONEY_MARKET_INDEX_OIS</td>\n",
       "      <td>2024-12-20</td>\n",
       "      <td>3.739111</td>\n",
       "      <td>EUR</td>\n",
       "    </tr>\n",
       "  </tbody>\n",
       "</table>\n",
       "</div>"
      ],
      "text/plain": [
       "                       index               assetType       dates      last  \\\n",
       "EURIBOR 6M            251377      MONEY_MARKET_INDEX  2024-12-19  2.637000   \n",
       "HUF 6 MOIS BUBOR      549433      MONEY_MARKET_INDEX  2024-12-19  6.480000   \n",
       "SOFR OVERNIGHT RATE  5967593      MONEY_MARKET_INDEX  2024-12-18  4.570000   \n",
       "ESTR OIS             6741831  MONEY_MARKET_INDEX_OIS  2024-12-20  3.739111   \n",
       "\n",
       "                    currency  \n",
       "EURIBOR 6M               EUR  \n",
       "HUF 6 MOIS BUBOR         HUF  \n",
       "SOFR OVERNIGHT RATE      USD  \n",
       "ESTR OIS                 EUR  "
      ]
     },
     "execution_count": 9,
     "metadata": {},
     "output_type": "execute_result"
    }
   ],
   "source": [
    "# index\n",
    "j=0\n",
    "col=['index' , 'assetType', 'dates', 'last', 'currency'] \n",
    "#col=['maturityDate', 'side0', 'ratetype', 'frequency', 'daycountmethod' ,'index','ratetype1','frequency', 'daycountmethod', 'rate'] #\n",
    "\n",
    "pdswap = pd.DataFrame(columns=col)\n",
    "for i in range(len(dd)):\n",
    "    if ((dd[i]['_id']=='251377')or (dd[i]['_id']=='6741831')or (dd[i]['_id']=='549433')or (dd[i]['_id']=='5967593')or (dd[i]['_id']=='6741831')):\n",
    "        j=j+1\n",
    "        pdnew=pd.DataFrame([[dd[i]['_id'],\n",
    "                             dd[i]['assetType'], \n",
    "                             dd[i]['quotations'][0]['date'], \n",
    "                             dd[i]['quotations'][0]['last'], \n",
    "                             dd[i]['ccy']\n",
    "                             #dd[i]['legs'][0]['interest']['index']['_id'], \n",
    "                             #dd[i]['legs'][1]['side'], \n",
    "                             #dd[i]['legs'][1]['interest']['rateType'], \n",
    "                             #dd[i]['legs'][1]['interest']['paymentFrequency']['code'], \n",
    "                             #dd[i]['legs'][1]['interest']['dayCountMethod'],\n",
    "                             #dd[i]['legs'][1]['interest'].get('rate'),\n",
    "                            ]], \n",
    "                             columns=col, index=[dd[i]['name']])        \n",
    "        pdswap = pd.concat([pdswap, pdnew], ignore_index=False)\n",
    "        #print(dd[i])\n",
    "print(j)\n",
    "pdswap"
   ]
  },
  {
   "cell_type": "markdown",
   "id": "0d80a6e2-7305-4523-90f8-0c4d0040dddd",
   "metadata": {},
   "source": [
    "# Valo du SWAP SW20260126_2.172/ESTR O"
   ]
  },
  {
   "cell_type": "code",
   "execution_count": 1,
   "id": "c21f15a2-14db-4aa3-a481-615ef89eb0ee",
   "metadata": {},
   "outputs": [],
   "source": [
    "#quotation 100.114, 2024-12-19"
   ]
  },
  {
   "cell_type": "code",
   "execution_count": 11,
   "id": "9c151634-9e91-4590-829e-4dd508b2105d",
   "metadata": {},
   "outputs": [],
   "source": [
    "euribordates= np.array([7.,21.,63.,126.,252.])/252.0\n",
    "euriborvaleurs= np.array([2.895,2.795,2.839,2.637,2.469])\n",
    "euribordates= np.array([7.,21.,63.,126.,252., 504, 756, 1008, 1260])/252.0\n",
    "euriborvaleurs= np.array([2.895,2.795,2.839,2.637,2.469, 2.2, 2.3, 2.35, 2.4])\n",
    "euribordates= np.array([7.,21.,63.,126.,252., 504, 756, 1008])/252.0\n",
    "euriborvaleurs= np.array([2.895,2.795,2.839,2.637, 2.375\t, 2.181, 2.154, 2.156])\n",
    "\n",
    "\n",
    "\n",
    "ncurve = euribordates.shape[0]"
   ]
  },
  {
   "cell_type": "code",
   "execution_count": null,
   "id": "0adfe047-f1c0-48a9-96fb-e10d43f5942d",
   "metadata": {},
   "outputs": [],
   "source": []
  },
  {
   "cell_type": "code",
   "execution_count": 12,
   "id": "4ff99672-0cb3-4e05-9324-144881e671bb",
   "metadata": {},
   "outputs": [
    {
     "name": "stdout",
     "output_type": "stream",
     "text": [
      "Loading Pricing module:\n",
      "Pricing module loaded.\n"
     ]
    }
   ],
   "source": [
    "pricing = pr.Pricing(pathlib='/home/christophe/gitlab/norm/release/lib/linux64/')"
   ]
  },
  {
   "cell_type": "code",
   "execution_count": 13,
   "id": "468fdb7e-5aab-4e98-826e-b213f719cce1",
   "metadata": {},
   "outputs": [],
   "source": [
    "#19/12/2024\n",
    "#2 PAIEMENTS\n",
    "#24/1/2025  ---> \n",
    "#24/1/2026\n",
    "m=2\n",
    "t1=np.array([22., 252.+22.])/252.0\n",
    "t2=np.array([23., 252.+23.])/252.0\n",
    "f12=np.zeros(m)\n",
    "info = np.zeros(1,dtype='int64')"
   ]
  },
  {
   "cell_type": "code",
   "execution_count": 14,
   "id": "44164f31-da69-44a9-8b8f-a4fa6b3e440b",
   "metadata": {},
   "outputs": [
    {
     "data": {
      "text/plain": [
       "array([0., 0.])"
      ]
     },
     "execution_count": 14,
     "metadata": {},
     "output_type": "execute_result"
    }
   ],
   "source": [
    "f12"
   ]
  },
  {
   "cell_type": "code",
   "execution_count": 15,
   "id": "7cccaee2-11eb-4ff2-8726-ad153648a71f",
   "metadata": {},
   "outputs": [
    {
     "name": "stdout",
     "output_type": "stream",
     "text": [
      " r1=   2.7960476190476187        2.3580634920634918     \n",
      " r2=   2.7970952380952383        2.3572936507936508     \n",
      " f12=   2.8201428571428657        2.1463571428571897     \n"
     ]
    }
   ],
   "source": [
    "# coupon rate\n",
    "interpmethod = 0\n",
    "pricing.WREpricingCurve2Forward( ncurve, euribordates, euriborvaleurs, m, t1, t2, interpmethod, f12, info )"
   ]
  },
  {
   "cell_type": "code",
   "execution_count": 16,
   "id": "5b157c92-ca99-4cbb-8eda-04c2b47fc93d",
   "metadata": {},
   "outputs": [
    {
     "name": "stdout",
     "output_type": "stream",
     "text": [
      " r1=   2.8950000000000000        2.8950000000000000     \n",
      " r2=   2.7970952380952383        2.3572936507936508     \n",
      " f12=   2.7970952380952383        2.3572936507936508     \n"
     ]
    },
    {
     "data": {
      "text/plain": [
       "array([2.79709524, 2.35729365])"
      ]
     },
     "execution_count": 16,
     "metadata": {},
     "output_type": "execute_result"
    }
   ],
   "source": [
    "# actualization rate\n",
    "t1=np.array([0., 0.])/252.0\n",
    "t2=np.array([23., 252.+23.])/252.0\n",
    "actrat=np.zeros(m)\n",
    "interpmethod = 0\n",
    "pricing.WREpricingCurve2Forward( ncurve, euribordates, euriborvaleurs, m, t1, t2, interpmethod, actrat, info )\n",
    "actrat"
   ]
  },
  {
   "cell_type": "code",
   "execution_count": 17,
   "id": "525be0d7-6e67-44a5-85c1-1f65157c4d37",
   "metadata": {},
   "outputs": [
    {
     "name": "stdout",
     "output_type": "stream",
     "text": [
      " principal actualized from fixed leg=  0.97460361956532982     \n",
      "   1.0000000000000000        2.3572936507936508E-002   1.0912698412698412     \n",
      " fixedleg=   1.7133204900660537E-004\n",
      " principal actualized from floating leg=  0.97460361956532982     \n",
      " test   1.0000000000000000        2.3572936507936508E-002   1.0912698412698412                2\n",
      " floatingleg=   1.9619199697841895E-004\n",
      " fixedleg=   1.7133204900660537E-004\n",
      " floatingleg=   1.9619199697841895E-004\n",
      " P=  -2.4859947971813583E-005\n"
     ]
    }
   ],
   "source": [
    "# jambe flottante\n",
    "ndatesFL = m\n",
    "datesFL = t2\n",
    "actualizationratesFL = actrat/100.0\n",
    "principalFL = 1.0\n",
    "yearfractionFL = 1.0/250\n",
    "floatingrate = f12/100.0\n",
    "\n",
    "# jambe fixe\n",
    "ndatesFIX = m\n",
    "datesFIX = t2\n",
    "actualizationratesFIX = actrat/100.0\n",
    "principalFIX = 1.0\n",
    "yearfractionFIX = 1.0/250\n",
    "fixedrate = 2.172/100.0\n",
    "buyer=1\n",
    "\n",
    "#valo\n",
    "fixedleg = np.zeros(1)\n",
    "floatingleg = np.zeros(1)\n",
    "price = np.zeros(1)\n",
    "pricing.WREpricingIRS2( ndatesFL,  datesFL,  actualizationratesFL,   principalFL,  yearfractionFL, floatingrate,\n",
    "                      ndatesFIX, datesFIX, actualizationratesFIX, principalFIX, yearfractionFIX, \n",
    "                      fixedrate, buyer, fixedleg, floatingleg, price, info)\n"
   ]
  },
  {
   "cell_type": "code",
   "execution_count": 18,
   "id": "a82db66d-e669-4bde-9b34-0a81661181e5",
   "metadata": {},
   "outputs": [
    {
     "data": {
      "text/plain": [
       "np.float64(1.145098060263408)"
      ]
     },
     "execution_count": 18,
     "metadata": {},
     "output_type": "execute_result"
    }
   ],
   "source": [
    "quote=floatingleg[0]/fixedleg[0]\n",
    "quote"
   ]
  },
  {
   "cell_type": "markdown",
   "id": "c19b4846-0a70-4617-acc1-37cf9c7e3ac5",
   "metadata": {},
   "source": [
    "# Valo du SWAP SW20290619_EUR EU/2.8187"
   ]
  },
  {
   "cell_type": "code",
   "execution_count": 19,
   "id": "85308986-fb66-4161-82a4-d13d5a9d9e9a",
   "metadata": {},
   "outputs": [
    {
     "name": "stdout",
     "output_type": "stream",
     "text": [
      " r1=   2.8950000000000000        2.8950000000000000        2.8950000000000000        2.8950000000000000        2.8950000000000000     \n",
      " r2=   2.6370000000000000        2.2780000000000000        2.1675000000000000        2.1550000000000002        2.1560000000000001     \n",
      " f12=   2.6370000000000000        2.2780000000000000        2.1675000000000000        2.1550000000000002        2.1560000000000001     \n"
     ]
    }
   ],
   "source": [
    "#  SW20290619_EUR EU/2.8187¶  mat :2029-06-19\n",
    "#19/12/2024\n",
    "# floating, SEMI\n",
    "# fixe ANNU : 2025, 2026, 2027, 2028, 2029-06-19\n",
    "# 5 PAIEMENTS\n",
    "#24/1/2025  ---> \n",
    "#24/1/2026\n",
    "# quotation 96.07\n",
    "\n",
    "# pate fixe :\n",
    "m=5\n",
    "deca=126.0\n",
    "year=252.0\n",
    "# t1=np.array([0,year,2*year, 3*year, 4*year])/252.0\n",
    "t1=np.array([0,0,0, 0, 0.0])/252.0\n",
    "t2=np.array([deca,deca+year,deca+2*year, deca+3*year, deca+4*year])/year\n",
    "f12=np.zeros(m)\n",
    "info = np.zeros(1,dtype='int64')\n",
    "actratfixe=np.zeros(m)\n",
    "interpmethod = 0\n",
    "pricing.WREpricingCurve2Forward( ncurve, euribordates, euriborvaleurs, m, t1, t2, interpmethod, actratfixe, info )"
   ]
  },
  {
   "cell_type": "code",
   "execution_count": 20,
   "id": "840ba482-b669-4b7e-b841-98cb37d6e394",
   "metadata": {},
   "outputs": [
    {
     "data": {
      "text/plain": [
       "array([2.79709524, 2.35729365])"
      ]
     },
     "execution_count": 20,
     "metadata": {},
     "output_type": "execute_result"
    }
   ],
   "source": [
    "actrat"
   ]
  },
  {
   "cell_type": "code",
   "execution_count": 21,
   "id": "c2f864b0-991a-4c02-b091-68797d9c9b81",
   "metadata": {},
   "outputs": [
    {
     "name": "stdout",
     "output_type": "stream",
     "text": [
      " r1=   2.8950000000000000        2.8950000000000000        2.8950000000000000        2.8950000000000000        2.8950000000000000        2.8950000000000000        2.8950000000000000        2.8950000000000000        2.8950000000000000     \n",
      " r2=   2.6370000000000000        2.3750000000000000        2.2780000000000000        2.1810000000000000        2.1675000000000000        2.1539999999999999        2.1550000000000002        2.1560000000000001        2.1560000000000001     \n",
      " f12=   2.6370000000000000        2.3750000000000000        2.2780000000000000        2.1810000000000000        2.1675000000000000        2.1539999999999999        2.1550000000000002        2.1560000000000001        2.1560000000000001     \n"
     ]
    }
   ],
   "source": [
    "# pate flottante actratflot :\n",
    "mfl=9\n",
    "deca=126.0\n",
    "semi=126.0\n",
    "# t1=np.array([0,year,2*year, 3*year, 4*year])/252.0\n",
    "t1fl=np.zeros(mfl)/year\n",
    "t2fl=np.array([deca,deca+semi,deca+2*semi, deca+3*semi, deca+4*semi, deca+5*semi, deca+6*semi, deca+7*semi, deca+8*semi])/year\n",
    "info = np.zeros(1,dtype='int64')\n",
    "actratflot=np.zeros(mfl)\n",
    "interpmethod = 0\n",
    "pricing.WREpricingCurve2Forward( ncurve, euribordates, euriborvaleurs, mfl, t1fl, t2fl, interpmethod, actratflot, info )"
   ]
  },
  {
   "cell_type": "code",
   "execution_count": 22,
   "id": "5e8d8ef4-c809-4070-a36e-5c4ea5928616",
   "metadata": {},
   "outputs": [
    {
     "data": {
      "text/plain": [
       "array([2.637 , 2.375 , 2.278 , 2.181 , 2.1675, 2.154 , 2.155 , 2.156 ,\n",
       "       2.156 ])"
      ]
     },
     "execution_count": 22,
     "metadata": {},
     "output_type": "execute_result"
    }
   ],
   "source": [
    "actratflot"
   ]
  },
  {
   "cell_type": "code",
   "execution_count": 23,
   "id": "abbaa3f4-0846-46f1-8429-9b9cc0cc5bd0",
   "metadata": {},
   "outputs": [
    {
     "name": "stdout",
     "output_type": "stream",
     "text": [
      " r1=   2.8950000000000000        2.6370000000000000        2.3750000000000000        2.2780000000000000        2.1810000000000000        2.1675000000000000        2.1539999999999999        2.1550000000000002        2.1560000000000001     \n",
      " r2=   2.6370000000000000        2.3750000000000000        2.2780000000000000        2.1810000000000000        2.1675000000000000        2.1539999999999999        2.1550000000000002        2.1560000000000001        2.1560000000000001     \n",
      " f12=   2.6370000000000000        2.1130000000000000        2.0839999999999996        1.8900000000000006        2.1135000000000002        2.0864999999999991        2.1610000000000014        2.1630000000000003        2.1559999999999988     \n"
     ]
    }
   ],
   "source": [
    "# pate flottante floatrate :\n",
    "deca=126.0\n",
    "semi=126.0\n",
    "t1fl=np.array([0,0+semi,0+2*semi, 0+3*semi, 0+4*semi, 0+5*semi, 0+6*semi, 0+7*semi, 0+8*semi])/252.0\n",
    "t2fl=np.array([deca,deca+semi,deca+2*semi, deca+3*semi, deca+4*semi, deca+5*semi, deca+6*semi, deca+7*semi, deca+8*semi])/year\n",
    "info = np.zeros(1,dtype='int64')\n",
    "floatrate=np.zeros(mfl)\n",
    "interpmethod = 0\n",
    "pricing.WREpricingCurve2Forward( ncurve, euribordates, euriborvaleurs, mfl, t1fl, t2fl, interpmethod, floatrate, info )"
   ]
  },
  {
   "cell_type": "code",
   "execution_count": 24,
   "id": "370f47b1-b335-43ee-b6ba-19ef8c84e39b",
   "metadata": {},
   "outputs": [
    {
     "data": {
      "text/plain": [
       "array([2.637 , 2.113 , 2.084 , 1.89  , 2.1135, 2.0865, 2.161 , 2.163 ,\n",
       "       2.156 ])"
      ]
     },
     "execution_count": 24,
     "metadata": {},
     "output_type": "execute_result"
    }
   ],
   "source": [
    "floatrate"
   ]
  },
  {
   "cell_type": "code",
   "execution_count": 25,
   "id": "0607383f-c2ce-47c2-9c92-9b0d3e1f7c0b",
   "metadata": {},
   "outputs": [
    {
     "data": {
      "text/plain": [
       "array([0.5, 1.5, 2.5, 3.5, 4.5])"
      ]
     },
     "execution_count": 25,
     "metadata": {},
     "output_type": "execute_result"
    }
   ],
   "source": [
    "t2"
   ]
  },
  {
   "cell_type": "code",
   "execution_count": 26,
   "id": "8ff971f0-f030-47aa-b615-fe188a9f174d",
   "metadata": {},
   "outputs": [
    {
     "data": {
      "text/plain": [
       "array([2.637 , 2.278 , 2.1675, 2.155 , 2.156 ])"
      ]
     },
     "execution_count": 26,
     "metadata": {},
     "output_type": "execute_result"
    }
   ],
   "source": [
    "actratfixe"
   ]
  },
  {
   "cell_type": "code",
   "execution_count": 27,
   "id": "da900a88-b257-43af-9585-e961311b8aac",
   "metadata": {},
   "outputs": [
    {
     "name": "stdout",
     "output_type": "stream",
     "text": [
      " principal actualized from fixed leg=  0.90753785519466001     \n",
      "   1.0000000000000000        2.1560000000000003E-002   4.5000000000000000     \n",
      " fixedleg=  0.13347813920557094     \n",
      " principal actualized from floating leg=  0.90753785519466001     \n",
      " test   1.0000000000000000        2.1560000000000003E-002   4.5000000000000000                9\n",
      " floatingleg=  0.18392080023676252     \n",
      " fixedleg=  0.13347813920557094     \n",
      " floatingleg=  0.18392080023676252     \n",
      " P=  -5.0442661031191577E-002\n"
     ]
    }
   ],
   "source": [
    "# jambe flottante\n",
    "ndatesFL = mfl\n",
    "datesFL = t2fl\n",
    "actualizationratesFL = actratflot/100.0\n",
    "principalFL = 1.0\n",
    "yearfractionFL = 1.0#/2.0\n",
    "floatingrate = floatrate/100.0\n",
    "\n",
    "# jambe fixe\n",
    "ndatesFIX = m\n",
    "datesFIX = t2\n",
    "actualizationratesFIX = actratfixe/100.0\n",
    "principalFIX = 1.0\n",
    "yearfractionFIX = 1.0\n",
    "fixedrate = 2.8187/100.0\n",
    "buyer=1\n",
    "\n",
    "#valo\n",
    "fixedleg = np.zeros(1)\n",
    "floatingleg = np.zeros(1)\n",
    "price = np.zeros(1)\n",
    "pricing.WREpricingIRS2( ndatesFL,  datesFL,  actualizationratesFL,   principalFL,  yearfractionFL, floatingrate,\n",
    "                      ndatesFIX, datesFIX, actualizationratesFIX, principalFIX, yearfractionFIX, \n",
    "                      fixedrate, buyer, fixedleg, floatingleg, price, info)"
   ]
  },
  {
   "cell_type": "code",
   "execution_count": 28,
   "id": "bc807365-009b-4b1f-ae67-26e981fdc07c",
   "metadata": {},
   "outputs": [
    {
     "data": {
      "text/plain": [
       "np.float64(137.79095313390934)"
      ]
     },
     "execution_count": 28,
     "metadata": {},
     "output_type": "execute_result"
    }
   ],
   "source": [
    "quote=floatingleg[0]*100/fixedleg[0]\n",
    "quote"
   ]
  },
  {
   "cell_type": "code",
   "execution_count": 29,
   "id": "3d50e8ce-e16e-4f61-bc74-f3c9edb3894b",
   "metadata": {},
   "outputs": [
    {
     "data": {
      "text/plain": [
       "array([0.02637 , 0.02375 , 0.02278 , 0.02181 , 0.021675, 0.02154 ,\n",
       "       0.02155 , 0.02156 , 0.02156 ])"
      ]
     },
     "execution_count": 29,
     "metadata": {},
     "output_type": "execute_result"
    }
   ],
   "source": [
    "actualizationratesFL"
   ]
  },
  {
   "cell_type": "code",
   "execution_count": 30,
   "id": "ee0d930b-4f71-4de7-8419-4bc1b0188f52",
   "metadata": {},
   "outputs": [
    {
     "data": {
      "text/plain": [
       "array([2.637 , 2.375 , 2.278 , 2.181 , 2.1675, 2.154 , 2.155 , 2.156 ,\n",
       "       2.156 ])"
      ]
     },
     "execution_count": 30,
     "metadata": {},
     "output_type": "execute_result"
    }
   ],
   "source": [
    "actratflot"
   ]
  },
  {
   "cell_type": "code",
   "execution_count": 31,
   "id": "992b002d-da12-4438-bf3d-2176dcfe2a17",
   "metadata": {},
   "outputs": [
    {
     "name": "stdout",
     "output_type": "stream",
     "text": [
      " principal actualized from fixed leg=  0.90753785519466001     \n",
      "   1.0000000000000000        2.1560000000000003E-002   4.5000000000000000     \n",
      " fixedleg=   1.0410159944002311     \n",
      " principal actualized from floating leg=  0.98690154134574448     \n",
      " test   1.0000000000000000        2.6370000000000001E-002  0.50000000000000000                1\n",
      " floatingleg=  0.99991383816838808     \n",
      " fixedleg=  0.13347813920557106     \n",
      " floatingleg=   9.2375982973728066E-002\n",
      " P=   4.1102156231842990E-002\n"
     ]
    }
   ],
   "source": [
    "# priceIRS\n",
    "\n",
    "# jambe flottante\n",
    "ndatesFL = 1\n",
    "datesFL = t2fl[0]\n",
    "actualizationratesFL = actratflot[0]/100.0\n",
    "principalFL = 1.0\n",
    "yearfractionFL = 1.0/2.0\n",
    "floatingrate = floatrate[0]/100.0\n",
    "pricing.WREpricingIRS( datesFL,  actualizationratesFL,   principalFL,  yearfractionFL,\n",
    "                       ndatesFIX, datesFIX, actualizationratesFIX, principalFIX, yearfractionFIX, \n",
    "                       floatingrate, fixedrate, buyer, fixedleg, floatingleg, price, info)\n",
    "\n",
    "# ( datesFL, actualizationratesFL, principalFL, yearfractionFL, ndatesFIX, datesFIX, actualizationratesFIX, principalFIX, yearfractionFIX, currentfloatingrate, fixedrate, buyer, fixedleg, floatingleg, price, info"
   ]
  },
  {
   "cell_type": "code",
   "execution_count": 32,
   "id": "64c08f71-bc8a-479d-9d89-be6b9e48de1a",
   "metadata": {},
   "outputs": [
    {
     "data": {
      "text/plain": [
       "np.float64(69.20682556973532)"
      ]
     },
     "execution_count": 32,
     "metadata": {},
     "output_type": "execute_result"
    }
   ],
   "source": [
    "quote=floatingleg[0]*100/fixedleg[0]\n",
    "quote"
   ]
  },
  {
   "cell_type": "code",
   "execution_count": 33,
   "id": "021d5b01-0c71-4504-850f-833c80b487e8",
   "metadata": {},
   "outputs": [
    {
     "data": {
      "text/plain": [
       "np.float64(0.5)"
      ]
     },
     "execution_count": 33,
     "metadata": {},
     "output_type": "execute_result"
    }
   ],
   "source": [
    "datesFL"
   ]
  },
  {
   "cell_type": "code",
   "execution_count": 34,
   "id": "205adfd1-7798-4292-8dfa-22046df71d93",
   "metadata": {},
   "outputs": [
    {
     "data": {
      "text/plain": [
       "np.float64(0.02637)"
      ]
     },
     "execution_count": 34,
     "metadata": {},
     "output_type": "execute_result"
    }
   ],
   "source": [
    "actualizationratesFL"
   ]
  },
  {
   "cell_type": "code",
   "execution_count": 35,
   "id": "f6eb15b6-59c2-4474-90d0-45f71284bdf0",
   "metadata": {},
   "outputs": [
    {
     "data": {
      "text/plain": [
       "1.0"
      ]
     },
     "execution_count": 35,
     "metadata": {},
     "output_type": "execute_result"
    }
   ],
   "source": [
    "principalFL\n"
   ]
  },
  {
   "cell_type": "code",
   "execution_count": 36,
   "id": "3266b5e2-07d8-4399-b08f-ecb52b92db4b",
   "metadata": {},
   "outputs": [
    {
     "data": {
      "text/plain": [
       "0.5"
      ]
     },
     "execution_count": 36,
     "metadata": {},
     "output_type": "execute_result"
    }
   ],
   "source": [
    "yearfractionFL"
   ]
  },
  {
   "cell_type": "code",
   "execution_count": 37,
   "id": "bd2c7f16-ecd6-4d85-b0d3-3c18df488286",
   "metadata": {},
   "outputs": [
    {
     "data": {
      "text/plain": [
       "np.float64(0.02637)"
      ]
     },
     "execution_count": 37,
     "metadata": {},
     "output_type": "execute_result"
    }
   ],
   "source": [
    "floatingrate"
   ]
  },
  {
   "cell_type": "code",
   "execution_count": 38,
   "id": "2de6eede-43d6-4e57-8cd9-496cc79a98d1",
   "metadata": {},
   "outputs": [],
   "source": [
    "FLEG = (principalFL+floatingrate)*np.exp(-actualizationratesFL*datesFL)"
   ]
  },
  {
   "cell_type": "code",
   "execution_count": 39,
   "id": "57c93cf8-ded7-4f85-967b-48185c50bcf5",
   "metadata": {},
   "outputs": [
    {
     "data": {
      "text/plain": [
       "np.float64(0.11808134969746098)"
      ]
     },
     "execution_count": 39,
     "metadata": {},
     "output_type": "execute_result"
    }
   ],
   "source": [
    "FLEG-0.89484478529357070     "
   ]
  },
  {
   "cell_type": "code",
   "execution_count": 40,
   "id": "46ed5edd-156f-4024-9399-72ef29015ea9",
   "metadata": {},
   "outputs": [
    {
     "data": {
      "text/plain": [
       "np.float64(0.02637)"
      ]
     },
     "execution_count": 40,
     "metadata": {},
     "output_type": "execute_result"
    }
   ],
   "source": [
    "actualizationratesFL"
   ]
  },
  {
   "cell_type": "code",
   "execution_count": 41,
   "id": "42b10e15-6613-4a3b-b175-4bf099b726c1",
   "metadata": {},
   "outputs": [
    {
     "data": {
      "text/plain": [
       "array([0.02637 , 0.02375 , 0.02278 , 0.02181 , 0.021675, 0.02154 ,\n",
       "       0.02155 , 0.02156 , 0.02156 ])"
      ]
     },
     "execution_count": 41,
     "metadata": {},
     "output_type": "execute_result"
    }
   ],
   "source": [
    "actualizationratesFL = actratflot/100.0\n",
    "actualizationratesFL"
   ]
  },
  {
   "cell_type": "code",
   "execution_count": 42,
   "id": "d0f62777-cc48-45cc-9da9-a12fa27c487d",
   "metadata": {},
   "outputs": [
    {
     "data": {
      "text/plain": [
       "array([2.637 , 2.375 , 2.278 , 2.181 , 2.1675, 2.154 , 2.155 , 2.156 ,\n",
       "       2.156 ])"
      ]
     },
     "execution_count": 42,
     "metadata": {},
     "output_type": "execute_result"
    }
   ],
   "source": [
    "actratflot"
   ]
  },
  {
   "cell_type": "markdown",
   "id": "7b128115-c8d6-4296-bea1-83989b18d83e",
   "metadata": {},
   "source": [
    "# SW20251113_SOFR O/4.2587"
   ]
  },
  {
   "cell_type": "code",
   "execution_count": 43,
   "id": "a80897d6-2a3f-4963-ba1f-14c197482784",
   "metadata": {},
   "outputs": [
    {
     "name": "stdout",
     "output_type": "stream",
     "text": [
      " r1=   4.4188419999999997     \n",
      " r2=   4.4188419999999997     \n",
      " f12=   4.4188419999999997     \n"
     ]
    }
   ],
   "source": [
    "#  SW20251113_SOFR O/4.2587  matu : 2025-11-13\n",
    "#19/12/2024\n",
    "# floating, ANNU\n",
    "# fixe ANNU : 2025\n",
    "# 1 PAIEMENT\n",
    "#24/1/2025  ---> \n",
    "#24/1/2026\n",
    "# quotation 100.016363\n",
    "\n",
    "ibordates= np.array([1.,2.,3.,4.,5.,6.,7.,8.,9.,10.,15.,20.,30])\n",
    "iborvaleurs= np.array([4.418842,4.588199,4.383796,4.442341,4.472094,4.487725,\n",
    "                       4.603022,4.49304931,4.55046352,4.56296427,4.817077,4.969355, 4.76199173])\n",
    "\n",
    "# pate fixe&flottante, actu :\n",
    "m=1\n",
    "deca=225\n",
    "year=252.0\n",
    "# t1=np.array([0,year,2*year, 3*year, 4*year])/252.0\n",
    "t1=np.array([0])/252.0\n",
    "t2=np.array([deca])/year\n",
    "f12=np.zeros(m)\n",
    "info = np.zeros(1,dtype='int64')\n",
    "actrat=np.zeros(m)\n",
    "interpmethod = 0\n",
    "pricing.WREpricingCurve2Forward( ncurve, ibordates, iborvaleurs, m, t1, t2, interpmethod, actrat, info )"
   ]
  },
  {
   "cell_type": "code",
   "execution_count": 44,
   "id": "9d3a0880-6ad5-456a-9741-27e57719c712",
   "metadata": {},
   "outputs": [
    {
     "data": {
      "text/plain": [
       "array([ 1.,  2.,  3.,  4.,  5.,  6.,  7.,  8.,  9., 10., 15., 20., 30.])"
      ]
     },
     "execution_count": 44,
     "metadata": {},
     "output_type": "execute_result"
    }
   ],
   "source": [
    "ibordates"
   ]
  },
  {
   "cell_type": "code",
   "execution_count": 45,
   "id": "8bffa958-3c7a-4324-9f71-0d8a3f95e285",
   "metadata": {},
   "outputs": [
    {
     "data": {
      "text/plain": [
       "array([4.418842  , 4.588199  , 4.383796  , 4.442341  , 4.472094  ,\n",
       "       4.487725  , 4.603022  , 4.49304931, 4.55046352, 4.56296427,\n",
       "       4.817077  , 4.969355  , 4.76199173])"
      ]
     },
     "execution_count": 45,
     "metadata": {},
     "output_type": "execute_result"
    }
   ],
   "source": [
    "iborvaleurs"
   ]
  },
  {
   "cell_type": "code",
   "execution_count": 46,
   "id": "3c1e5dd4-abf8-4fc0-b1aa-a83573795006",
   "metadata": {},
   "outputs": [
    {
     "name": "stdout",
     "output_type": "stream",
     "text": [
      " r1=   4.4188419999999997        4.4188419999999997        4.4188419999999997        4.5035205000000005        4.5881990000000004        4.4859974999999999        4.3837960000000002        4.4130684999999996        4.4423409999999999     \n",
      " r2=   4.4188419999999997        4.4188419999999997        4.5035205000000005        4.5881990000000004        4.4859974999999999        4.3837960000000002        4.4130684999999996        4.4423409999999999        4.4572175000000005     \n",
      " f12=   4.4188419999999997        4.4188419999999997        4.6728775000000020        4.8422345000000000        4.0771914999999979        3.8727885000000022        4.5887034999999941        4.6472485000000034        4.5762295000000037     \n"
     ]
    }
   ],
   "source": [
    "# pate flottante floatrate :\n",
    "deca=126.0\n",
    "semi=126.0\n",
    "t1fl=np.array([0,0+semi,0+2*semi, 0+3*semi, 0+4*semi, 0+5*semi, 0+6*semi, 0+7*semi, 0+8*semi])/252.0\n",
    "t2fl=np.array([deca,deca+semi,deca+2*semi, deca+3*semi, deca+4*semi, deca+5*semi, deca+6*semi, deca+7*semi, deca+8*semi])/year\n",
    "info = np.zeros(1,dtype='int64')\n",
    "floatrate=np.zeros(mfl)\n",
    "interpmethod = 0\n",
    "pricing.WREpricingCurve2Forward( ncurve, ibordates, iborvaleurs, mfl, t1fl, t2fl, interpmethod, floatrate, info )"
   ]
  },
  {
   "cell_type": "code",
   "execution_count": null,
   "id": "71aacde1-d3e6-48b7-a6f0-c082de970550",
   "metadata": {},
   "outputs": [],
   "source": []
  },
  {
   "cell_type": "code",
   "execution_count": 47,
   "id": "fe719291-6f80-4cf6-9b3a-96af0c64a84b",
   "metadata": {},
   "outputs": [
    {
     "name": "stdout",
     "output_type": "stream",
     "text": [
      " principal actualized from fixed leg=  0.96131422492449592     \n",
      "   1.0000000000000000        4.4188419999999999E-002  0.89285714285714290     \n",
      " fixedleg=   4.0939488896859506E-002\n",
      " principal actualized from floating leg=  0.96131422492449592     \n",
      " test   1.0000000000000000        4.4188419999999999E-002  0.89285714285714290                1\n",
      " floatingleg=   4.2478956722938097E-002\n",
      " fixedleg=   4.0939488896859506E-002\n",
      " floatingleg=   4.2478956722938097E-002\n",
      " P=  -1.5394678260785902E-003\n"
     ]
    }
   ],
   "source": [
    "# jambe flottante\n",
    "ndatesFL = m\n",
    "datesFL = t2\n",
    "actualizationratesFL = actrat/100.0\n",
    "principalFL = 1.0\n",
    "yearfractionFL = 1.0\n",
    "floatingrate = floatrate/100.0\n",
    "\n",
    "# jambe fixe\n",
    "ndatesFIX = m\n",
    "datesFIX = t2\n",
    "actualizationratesFIX = actrat/100.0\n",
    "principalFIX = 1.0\n",
    "yearfractionFIX = 1.0\n",
    "fixedrate = 4.2587/100.0\n",
    "buyer=1\n",
    "\n",
    "#valo\n",
    "fixedleg = np.zeros(1)\n",
    "floatingleg = np.zeros(1)\n",
    "price = np.zeros(1)\n",
    "pricing.WREpricingIRS2( ndatesFL,  datesFL,  actualizationratesFL,   principalFL,  yearfractionFL, floatingrate,\n",
    "                      ndatesFIX, datesFIX, actualizationratesFIX, principalFIX, yearfractionFIX, \n",
    "                      fixedrate, buyer, fixedleg, floatingleg, price, info)"
   ]
  },
  {
   "cell_type": "code",
   "execution_count": 48,
   "id": "5175a22b-e143-4606-94b7-e69721655655",
   "metadata": {},
   "outputs": [
    {
     "data": {
      "text/plain": [
       "array([103.7603494])"
      ]
     },
     "execution_count": 48,
     "metadata": {},
     "output_type": "execute_result"
    }
   ],
   "source": [
    "ratio = 100*floatingleg/fixedleg \n",
    "ratio"
   ]
  },
  {
   "cell_type": "code",
   "execution_count": 49,
   "id": "107c27d9-95df-47a3-bbb7-dcc951671ee0",
   "metadata": {},
   "outputs": [
    {
     "name": "stdout",
     "output_type": "stream",
     "text": [
      "December 15th, 2024\n"
     ]
    }
   ],
   "source": [
    "#  quantlib\n",
    "\n",
    "# Let the today date whenwe want to value a instrument be\n",
    "today = ql.Date(15,12,2024)\n",
    "\n",
    "# we can set evaluationDate in QL as\n",
    "ql.Settings.instance().evaluationDate = today\n",
    "print(ql.Settings.instance().evaluationDate);\n",
    "\n",
    "\n",
    "tenor = ql.Period('5y')\n",
    "index = ql.Euribor6M()\n",
    "fixedRate = 0.05\n",
    "forwardStart = ql.Period(\"2D\")\n",
    "\n",
    "swap = ql.MakeVanillaSwap(tenor, index, fixedRate, forwardStart)\n",
    "swap = ql.MakeVanillaSwap(tenor, index, fixedRate, forwardStart, swapType=ql.VanillaSwap.Payer)"
   ]
  },
  {
   "cell_type": "code",
   "execution_count": 50,
   "id": "33e73028-24c0-461d-ae0e-927cd553b98e",
   "metadata": {},
   "outputs": [
    {
     "data": {
      "text/plain": [
       "Period(\"5Y\")"
      ]
     },
     "execution_count": 50,
     "metadata": {},
     "output_type": "execute_result"
    }
   ],
   "source": [
    "tenor"
   ]
  },
  {
   "cell_type": "code",
   "execution_count": 51,
   "id": "33c24657-01f3-439f-84da-3be6c6cb5c2f",
   "metadata": {},
   "outputs": [
    {
     "data": {
      "text/plain": [
       "<QuantLib.QuantLib.VanillaSwap; proxy of <Swig Object of type 'ext::shared_ptr< VanillaSwap > *' at 0x7fd54405c480> >"
      ]
     },
     "execution_count": 51,
     "metadata": {},
     "output_type": "execute_result"
    }
   ],
   "source": [
    "swap"
   ]
  },
  {
   "cell_type": "code",
   "execution_count": 52,
   "id": "2689e346-f447-4d84-9515-c08c4d029933",
   "metadata": {},
   "outputs": [],
   "source": [
    "yts = ql.YieldTermStructureHandle(ql.FlatForward(2, ql.TARGET(), 0.5, ql.Actual360()))\n",
    "engine = ql.DiscountingSwapEngine(yts)\n"
   ]
  },
  {
   "cell_type": "code",
   "execution_count": 53,
   "id": "fc1f218d-bc12-4f06-9d77-81ff0a90b459",
   "metadata": {},
   "outputs": [
    {
     "data": {
      "text/plain": [
       "<QuantLib.QuantLib.YieldTermStructureHandle; proxy of <Swig Object of type 'Handle< YieldTermStructure > *' at 0x7fd525d586f0> >"
      ]
     },
     "execution_count": 53,
     "metadata": {},
     "output_type": "execute_result"
    }
   ],
   "source": [
    "yts"
   ]
  },
  {
   "cell_type": "code",
   "execution_count": 54,
   "id": "d6b8018d-d660-4450-bc9c-45980b6719f5",
   "metadata": {},
   "outputs": [
    {
     "data": {
      "text/plain": [
       "<QuantLib.QuantLib.DiscountingSwapEngine; proxy of <Swig Object of type 'ext::shared_ptr< DiscountingSwapEngine > *' at 0x7fd5683768b0> >"
      ]
     },
     "execution_count": 54,
     "metadata": {},
     "output_type": "execute_result"
    }
   ],
   "source": [
    "engine"
   ]
  },
  {
   "cell_type": "code",
   "execution_count": null,
   "id": "f1cc6d18-2ad8-446f-84ca-4a6d7b37d6ee",
   "metadata": {},
   "outputs": [],
   "source": [
    "\n"
   ]
  },
  {
   "cell_type": "code",
   "execution_count": 55,
   "id": "562451a5-a847-4c18-ba2c-bbdcef1d5220",
   "metadata": {},
   "outputs": [],
   "source": [
    "# https://quantlib-python-docs.readthedocs.io/en/latest/examples/fixedincome/vanillaswap.html"
   ]
  },
  {
   "cell_type": "code",
   "execution_count": 56,
   "id": "65338104-c585-44fc-aa52-d07b613d86b4",
   "metadata": {},
   "outputs": [],
   "source": [
    "yts = ql.RelinkableYieldTermStructureHandle()\n",
    "\n",
    "instruments = [\n",
    "    ('depo', '6M', 0.025),\n",
    "    ('swap', '1Y', 0.031),\n",
    "    ('swap', '2Y', 0.032),\n",
    "    ('swap', '3Y', 0.035)\n",
    "]\n",
    "\n",
    "helpers = ql.RateHelperVector()\n",
    "index = ql.Euribor6M(yts)\n",
    "for instrument, tenor, rate in instruments:\n",
    "    if instrument == 'depo':\n",
    "        helpers.append( ql.DepositRateHelper(rate, index) )\n",
    "    if instrument == 'fra':\n",
    "        monthsToStart = ql.Period(tenor).length()\n",
    "        helpers.append( ql.FraRateHelper(rate, monthsToStart, index) )\n",
    "    if instrument == 'swap':\n",
    "        swapIndex = ql.EuriborSwapIsdaFixA(ql.Period(tenor))\n",
    "        helpers.append( ql.SwapRateHelper(rate, swapIndex))\n",
    "curve = ql.PiecewiseLogCubicDiscount(2, ql.TARGET(), helpers, ql.Actual365Fixed())"
   ]
  },
  {
   "cell_type": "code",
   "execution_count": 57,
   "id": "42f72c8f-4f80-40f1-b349-dff3b86aae34",
   "metadata": {},
   "outputs": [
    {
     "data": {
      "text/plain": [
       "<QuantLib.QuantLib.RateHelperVector; proxy of <Swig Object of type 'std::vector< ext::shared_ptr< RateHelper > > *' at 0x7fd525d3e370> >"
      ]
     },
     "execution_count": 57,
     "metadata": {},
     "output_type": "execute_result"
    }
   ],
   "source": [
    "helpers\n"
   ]
  },
  {
   "cell_type": "code",
   "execution_count": 58,
   "id": "607d5748-eea7-46fd-ab54-11e3316989b9",
   "metadata": {},
   "outputs": [],
   "source": [
    "yts.linkTo(curve)\n",
    "engine = ql.DiscountingSwapEngine(yts)"
   ]
  },
  {
   "cell_type": "code",
   "execution_count": 59,
   "id": "f91c406a-38f2-4151-a064-50248c40718a",
   "metadata": {},
   "outputs": [],
   "source": [
    "# Create a relinkable yield term structure handle and build a curve\n",
    "tenor = ql.Period('2y')\n",
    "fixedRate = 0.05\n",
    "forwardStart = ql.Period(\"2D\")\n",
    "\n",
    "swap = ql.MakeVanillaSwap(tenor, index, fixedRate, forwardStart, nominal=10e6, pricingEngine=engine)"
   ]
  },
  {
   "cell_type": "code",
   "execution_count": 60,
   "id": "71b87b5b-0618-490c-ac73-696262daeaec",
   "metadata": {},
   "outputs": [
    {
     "name": "stdout",
     "output_type": "stream",
     "text": [
      "Fair swap rate: 3.204%\n",
      "Swap NPV: -343,146.359\n"
     ]
    }
   ],
   "source": [
    "# Link the built curve to the relinkable yield term structure handle and build a swap pricing engine\n",
    "fairRate = swap.fairRate()\n",
    "npv = swap.NPV()\n",
    "\n",
    "print(f\"Fair swap rate: {fairRate:.3%}\")\n",
    "print(f\"Swap NPV: {npv:,.3f}\")"
   ]
  },
  {
   "cell_type": "code",
   "execution_count": 61,
   "id": "364b31c0-7867-4320-bdbb-67eda12938e6",
   "metadata": {},
   "outputs": [],
   "source": [
    "# Build a vanilla swap and provide a pricing engine\n",
    "tenor = ql.Period('2y')\n",
    "fixedRate = 0.05\n",
    "forwardStart = ql.Period(\"2D\")\n",
    "\n",
    "swap = ql.MakeVanillaSwap(tenor, index, fixedRate, forwardStart, nominal=10e6, pricingEngine=engine)\n"
   ]
  },
  {
   "cell_type": "code",
   "execution_count": 62,
   "id": "0b0dc9ce-087e-40e4-afe8-9bef1655ad91",
   "metadata": {},
   "outputs": [
    {
     "name": "stdout",
     "output_type": "stream",
     "text": [
      "Fair swap rate: 3.204%\n",
      "Swap NPV: -343,146.359\n"
     ]
    }
   ],
   "source": [
    "# Get the fair rate and NPV\n",
    "fairRate = swap.fairRate()\n",
    "npv = swap.NPV()\n",
    "\n",
    "print(f\"Fair swap rate: {fairRate:.3%}\")\n",
    "print(f\"Swap NPV: {npv:,.3f}\")\n",
    "\n",
    "\n"
   ]
  },
  {
   "cell_type": "code",
   "execution_count": 63,
   "id": "1699a289-bf6d-4fff-afc4-7cf9da3f0771",
   "metadata": {},
   "outputs": [
    {
     "data": {
      "text/html": [
       "<div>\n",
       "<style scoped>\n",
       "    .dataframe tbody tr th:only-of-type {\n",
       "        vertical-align: middle;\n",
       "    }\n",
       "\n",
       "    .dataframe tbody tr th {\n",
       "        vertical-align: top;\n",
       "    }\n",
       "\n",
       "    .dataframe thead th {\n",
       "        text-align: right;\n",
       "    }\n",
       "</style>\n",
       "<table border=\"1\" class=\"dataframe\">\n",
       "  <thead>\n",
       "    <tr style=\"text-align: right;\">\n",
       "      <th></th>\n",
       "      <th>date</th>\n",
       "      <th>amount</th>\n",
       "    </tr>\n",
       "  </thead>\n",
       "  <tbody>\n",
       "    <tr>\n",
       "      <th>0</th>\n",
       "      <td>June 20th, 2025</td>\n",
       "      <td>126,901.87</td>\n",
       "    </tr>\n",
       "    <tr>\n",
       "      <th>1</th>\n",
       "      <td>December 22nd, 2025</td>\n",
       "      <td>183,557.18</td>\n",
       "    </tr>\n",
       "    <tr>\n",
       "      <th>2</th>\n",
       "      <td>June 22nd, 2026</td>\n",
       "      <td>163,989.32</td>\n",
       "    </tr>\n",
       "    <tr>\n",
       "      <th>3</th>\n",
       "      <td>December 21st, 2026</td>\n",
       "      <td>162,602.37</td>\n",
       "    </tr>\n",
       "  </tbody>\n",
       "</table>\n",
       "</div>"
      ],
      "text/plain": [
       "                  date     amount\n",
       "0      June 20th, 2025 126,901.87\n",
       "1  December 22nd, 2025 183,557.18\n",
       "2      June 22nd, 2026 163,989.32\n",
       "3  December 21st, 2026 162,602.37"
      ]
     },
     "metadata": {},
     "output_type": "display_data"
    }
   ],
   "source": [
    "import pandas as pd\n",
    "pd.options.display.float_format = \"{:,.2f}\".format\n",
    "\n",
    "cashflows = pd.DataFrame({\n",
    "    'date': cf.date(),\n",
    "    'amount': cf.amount()\n",
    "    } for cf in swap.leg(1))\n",
    "display(cashflows)"
   ]
  },
  {
   "cell_type": "code",
   "execution_count": 64,
   "id": "98325ccc-3c3f-4b8d-a2bb-5d7bb391fd6a",
   "metadata": {},
   "outputs": [
    {
     "data": {
      "text/html": [
       "<div>\n",
       "<style scoped>\n",
       "    .dataframe tbody tr th:only-of-type {\n",
       "        vertical-align: middle;\n",
       "    }\n",
       "\n",
       "    .dataframe tbody tr th {\n",
       "        vertical-align: top;\n",
       "    }\n",
       "\n",
       "    .dataframe thead th {\n",
       "        text-align: right;\n",
       "    }\n",
       "</style>\n",
       "<table border=\"1\" class=\"dataframe\">\n",
       "  <thead>\n",
       "    <tr style=\"text-align: right;\">\n",
       "      <th></th>\n",
       "      <th>nominal</th>\n",
       "      <th>accrualStartDate</th>\n",
       "      <th>accrualEndDate</th>\n",
       "      <th>rate</th>\n",
       "      <th>amount</th>\n",
       "    </tr>\n",
       "  </thead>\n",
       "  <tbody>\n",
       "    <tr>\n",
       "      <th>0</th>\n",
       "      <td>10,000,000.00</td>\n",
       "      <td>2024-12-20</td>\n",
       "      <td>2025-06-20</td>\n",
       "      <td>0.03</td>\n",
       "      <td>126,901.87</td>\n",
       "    </tr>\n",
       "    <tr>\n",
       "      <th>1</th>\n",
       "      <td>10,000,000.00</td>\n",
       "      <td>2025-06-20</td>\n",
       "      <td>2025-12-22</td>\n",
       "      <td>0.04</td>\n",
       "      <td>183,557.18</td>\n",
       "    </tr>\n",
       "    <tr>\n",
       "      <th>2</th>\n",
       "      <td>10,000,000.00</td>\n",
       "      <td>2025-12-22</td>\n",
       "      <td>2026-06-22</td>\n",
       "      <td>0.03</td>\n",
       "      <td>163,989.32</td>\n",
       "    </tr>\n",
       "    <tr>\n",
       "      <th>3</th>\n",
       "      <td>10,000,000.00</td>\n",
       "      <td>2026-06-22</td>\n",
       "      <td>2026-12-21</td>\n",
       "      <td>0.03</td>\n",
       "      <td>162,602.37</td>\n",
       "    </tr>\n",
       "  </tbody>\n",
       "</table>\n",
       "</div>"
      ],
      "text/plain": [
       "        nominal accrualStartDate accrualEndDate  rate     amount\n",
       "0 10,000,000.00       2024-12-20     2025-06-20  0.03 126,901.87\n",
       "1 10,000,000.00       2025-06-20     2025-12-22  0.04 183,557.18\n",
       "2 10,000,000.00       2025-12-22     2026-06-22  0.03 163,989.32\n",
       "3 10,000,000.00       2026-06-22     2026-12-21  0.03 162,602.37"
      ]
     },
     "metadata": {},
     "output_type": "display_data"
    }
   ],
   "source": [
    "cashflows = pd.DataFrame({\n",
    "    'nominal': cf.nominal(),\n",
    "    'accrualStartDate': cf.accrualStartDate().ISO(),\n",
    "    'accrualEndDate': cf.accrualEndDate().ISO(),\n",
    "    'rate': cf.rate(),\n",
    "    'amount': cf.amount()\n",
    "    } for cf in map(ql.as_coupon, swap.leg(1)))\n",
    "display(cashflows)"
   ]
  }
 ],
 "metadata": {
  "kernelspec": {
   "display_name": "Python 3 (ipykernel)",
   "language": "python",
   "name": "python3"
  },
  "language_info": {
   "codemirror_mode": {
    "name": "ipython",
    "version": 3
   },
   "file_extension": ".py",
   "mimetype": "text/x-python",
   "name": "python",
   "nbconvert_exporter": "python",
   "pygments_lexer": "ipython3",
   "version": "3.12.3"
  }
 },
 "nbformat": 4,
 "nbformat_minor": 5
}

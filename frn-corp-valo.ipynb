{
 "cells": [
  {
   "cell_type": "code",
   "execution_count": 1,
   "id": "5a09e2bb-5b39-42a1-b19a-a5c123358612",
   "metadata": {},
   "outputs": [],
   "source": [
    "import json\n",
    "from pathlib import Path\n",
    "import numpy as np\n",
    "import pandas as pd\n",
    "import sys\n",
    "import QuantLib as ql\n",
    "\n",
    "sys.path.insert(0, \"/home/christophe/gitlab/norm/test/scripts/python\")\n",
    "sys.path.insert(0, \"/home/christophe/gitlab/norm/release/api/python/ct\")\n",
    "sys.path.insert(0, \"/home/christophe/gitlab/norm/test/scripts/python/Unitaire\")\n",
    "\n",
    "import import_allocation as ia\n",
    "import import_pricing as pr\n",
    "import TestWREmodelingCovFiltering as cf"
   ]
  },
  {
   "cell_type": "code",
   "execution_count": 2,
   "id": "62a0b98f-6a55-42f0-8a7e-0137f30662d1",
   "metadata": {},
   "outputs": [],
   "source": [
    "#  VLVY FRN 11/25 EMTN\n",
    "#      \"date\" : \"2024-12-19\",\n",
    "#      \"close\" : 100.288,\n",
    "#      \"ask\" : 100.325,\n",
    "#      \"bid\" : 100.25,\n",
    "#       \"accIntPrice\" : 0.32660833\n",
    "#      \"issueDate\" : \"2023-11-21\",\n",
    "#    \"maturityDate\" : \"2025-11-21\",\n",
    "#       \"marginAdd\" : 0.55,\n",
    "#         \"_id\" : \"251374\", ==> euribor 3M\n",
    "#    \"collateralType\" : \"COMPANY GUARNT\",\n",
    "#     \"emtn\" : true, euro medium term note\n",
    "#      \"nextCouponDate\" : \"2025-02-21\",\n",
    "#      \"prevCouponDate\" : \"2024-11-21\",\n",
    "#      \"firstCouponDate\" : \"2024-02-21\""
   ]
  },
  {
   "cell_type": "code",
   "execution_count": 3,
   "id": "77f85a92-eda8-48c6-bf56-515636fa9b3b",
   "metadata": {},
   "outputs": [],
   "source": [
    "#Données\n",
    "quotationAMUNDI=100.288\n",
    "accIntPriceAMUNDI= 0.32660833\n",
    "year=365.\n",
    "today = ql.Date(19, ql.December, 2024) #date de calcul\n",
    "margin_add = 0.55/100\n",
    "nominal=100\n",
    "\n",
    "ibordatesnp= np.array([0,7,30,90,180,365, 504, 730, 1095, 1460,1825,2190])\n",
    "ibordates=ibordatesnp.tolist()\n",
    "iborvaleursnp= np.array([2.916,2.895,2.795,2.839,2.637, 2.29899, 2.161986, 2.116, 2.08, 2.129, 2.183, 2.2])/100\n",
    "iborvaleurs=iborvaleursnp.tolist()\n",
    "ibordatesnp= ibordatesnp.astype(float)/year\n",
    "\n",
    "start_date = ql.Date(21, ql.November, 2023)\n",
    "end_date = start_date + ql.Period(2, ql.Years) \n",
    "\n",
    "#float\n",
    "coupon_tenor_year=0.25 # year\n",
    "last_coupon_date =  ql.Date(21, ql.November, 2024)\n",
    "nbcoupon_fl = 4"
   ]
  },
  {
   "cell_type": "code",
   "execution_count": 4,
   "id": "a0382188-98a7-4730-a17d-3ead8a954ad8",
   "metadata": {},
   "outputs": [
    {
     "data": {
      "text/plain": [
       "[0, 7, 30, 90, 180, 365, 504, 730, 1095, 1460, 1825, 2190]"
      ]
     },
     "execution_count": 4,
     "metadata": {},
     "output_type": "execute_result"
    }
   ],
   "source": [
    "ibordates"
   ]
  },
  {
   "cell_type": "code",
   "execution_count": 5,
   "id": "b13c7a98-2d1c-4c78-87b9-35cb0fdf002f",
   "metadata": {},
   "outputs": [
    {
     "data": {
      "text/plain": [
       "12"
      ]
     },
     "execution_count": 5,
     "metadata": {},
     "output_type": "execute_result"
    }
   ],
   "source": [
    "len(iborvaleurs)"
   ]
  },
  {
   "cell_type": "code",
   "execution_count": 6,
   "id": "8b2c6aba-547a-4875-9da0-37d94e2eb97d",
   "metadata": {},
   "outputs": [
    {
     "data": {
      "text/plain": [
       "array([0.        , 0.01917808, 0.08219178, 0.24657534, 0.49315068,\n",
       "       1.        , 1.38082192, 2.        , 3.        , 4.        ,\n",
       "       5.        , 6.        ])"
      ]
     },
     "execution_count": 6,
     "metadata": {},
     "output_type": "execute_result"
    }
   ],
   "source": [
    "ibordatesnp"
   ]
  },
  {
   "cell_type": "code",
   "execution_count": 7,
   "id": "b206188d-b6ae-42cd-8a4c-b654f502066c",
   "metadata": {},
   "outputs": [],
   "source": [
    "### quantlib"
   ]
  },
  {
   "cell_type": "code",
   "execution_count": 8,
   "id": "97158764-cd10-4fdf-a056-514516d6242d",
   "metadata": {},
   "outputs": [],
   "source": [
    "ql.Settings.instance().evaluationDate = today"
   ]
  },
  {
   "cell_type": "code",
   "execution_count": 9,
   "id": "cca74915-1837-41a9-b69b-4e6d9209f29b",
   "metadata": {},
   "outputs": [],
   "source": [
    "def nparray2listQlDates(today,dates, unit):\n",
    "    qldates = []\n",
    "    for i in range(len(dates)):\n",
    "        if dates[i]>=0:\n",
    "            qldates.append(today+ql.Period(dates[i], unit))\n",
    "        else:\n",
    "            print(- dates[i])\n",
    "            qldates.append(today-ql.Period(-dates[i], unit))\n",
    "    return qldates"
   ]
  },
  {
   "cell_type": "code",
   "execution_count": 10,
   "id": "4ad49f0a-74a6-4d53-9bc4-7d885e4cfd98",
   "metadata": {},
   "outputs": [],
   "source": [
    "ibordatesql = nparray2listQlDates(today,ibordates, ql.Days) #ibordates est en jour (quantlib), ibordatesnp est en année (wre)"
   ]
  },
  {
   "cell_type": "code",
   "execution_count": 11,
   "id": "63567fcd-fd43-49fe-928d-f3a9d3bca270",
   "metadata": {},
   "outputs": [
    {
     "data": {
      "text/plain": [
       "[Date(19,12,2024),\n",
       " Date(26,12,2024),\n",
       " Date(18,1,2025),\n",
       " Date(19,3,2025),\n",
       " Date(17,6,2025),\n",
       " Date(19,12,2025),\n",
       " Date(7,5,2026),\n",
       " Date(19,12,2026),\n",
       " Date(19,12,2027),\n",
       " Date(18,12,2028),\n",
       " Date(18,12,2029),\n",
       " Date(18,12,2030)]"
      ]
     },
     "execution_count": 11,
     "metadata": {},
     "output_type": "execute_result"
    }
   ],
   "source": [
    "ibordatesql"
   ]
  },
  {
   "cell_type": "code",
   "execution_count": null,
   "id": "707caa9a-bef5-488b-b1f6-18bbca576e39",
   "metadata": {},
   "outputs": [],
   "source": []
  },
  {
   "cell_type": "code",
   "execution_count": null,
   "id": "58a7b5f6-3219-4982-8320-b9763a523ad2",
   "metadata": {},
   "outputs": [],
   "source": [
    "\n"
   ]
  },
  {
   "cell_type": "code",
   "execution_count": null,
   "id": "50951eb4-7358-487e-ba60-844f6db9faba",
   "metadata": {},
   "outputs": [],
   "source": []
  },
  {
   "cell_type": "code",
   "execution_count": 12,
   "id": "b61c8745-47e9-4650-b51f-9b0a1e44d4c7",
   "metadata": {},
   "outputs": [],
   "source": [
    "emtn_curve = ql.ZeroCurve(\n",
    "    ibordatesql,\n",
    "    iborvaleurs,\n",
    "    ql.Actual365Fixed()\n",
    ")\n",
    "ncurve = len(ibordates)"
   ]
  },
  {
   "cell_type": "code",
   "execution_count": null,
   "id": "443706a5-203f-4cae-9d6c-ea669929c8f7",
   "metadata": {},
   "outputs": [],
   "source": []
  },
  {
   "cell_type": "code",
   "execution_count": null,
   "id": "43021fbb-45f7-47f7-9e8c-fea42a05d038",
   "metadata": {},
   "outputs": [],
   "source": []
  },
  {
   "cell_type": "code",
   "execution_count": null,
   "id": "becdc06f-3161-4442-bfdf-fc1ab98fd962",
   "metadata": {},
   "outputs": [],
   "source": []
  },
  {
   "cell_type": "code",
   "execution_count": null,
   "id": "52e6b094-06bf-4a74-8917-729c854cfcc5",
   "metadata": {},
   "outputs": [],
   "source": []
  },
  {
   "cell_type": "code",
   "execution_count": 13,
   "id": "b5bb1f09-5dea-45b0-a108-1ddeda273f4d",
   "metadata": {},
   "outputs": [],
   "source": [
    "emtn_handle = ql.YieldTermStructureHandle(emtn_curve)"
   ]
  },
  {
   "cell_type": "code",
   "execution_count": 14,
   "id": "c6da4371-c5a4-46df-9a44-38502e54eb51",
   "metadata": {},
   "outputs": [],
   "source": [
    "emtn = ql.Euribor(\n",
    "    ql.Period(3, ql.Months), emtn_handle\n",
    ")"
   ]
  },
  {
   "cell_type": "code",
   "execution_count": 15,
   "id": "03ca902b-686f-4f4f-aae4-7f1d90bd69d5",
   "metadata": {},
   "outputs": [],
   "source": [
    "d = start_date-30\n",
    "while d <= today:\n",
    "    if emtn.isValidFixingDate(d):\n",
    "        emtn.addFixing(d, iborvaleurs[0])\n",
    "    d += 1"
   ]
  },
  {
   "cell_type": "code",
   "execution_count": null,
   "id": "6417265f-9a9a-4dac-83bd-74e37737916b",
   "metadata": {},
   "outputs": [],
   "source": []
  },
  {
   "cell_type": "code",
   "execution_count": null,
   "id": "b0c38e2c-d3e8-476f-ad45-208a1100fe47",
   "metadata": {},
   "outputs": [],
   "source": []
  },
  {
   "cell_type": "code",
   "execution_count": null,
   "id": "87f33617-7008-414d-a956-0cb1a0372c6f",
   "metadata": {},
   "outputs": [],
   "source": []
  },
  {
   "cell_type": "code",
   "execution_count": 16,
   "id": "fd7e62bf-c2b2-44d5-884b-e987fa2c4aa6",
   "metadata": {},
   "outputs": [],
   "source": [
    "rule = ql.DateGeneration.Forward\n",
    "end_of_month = False\n",
    "#coupon_tenor = ql.Period(coupon_tenor_year, ql.Years)\n",
    "settlement_days = 0\n",
    "fixing_days = 0\n",
    "schedule = ql.Schedule( start_date,\n",
    "                        end_date,\n",
    "                        ql.Period('3M'),\n",
    "                        ql.NullCalendar(),\n",
    "                        ql.Unadjusted, \n",
    "                        ql.Unadjusted,\n",
    "                        rule, \n",
    "                        False)\n",
    "frn = ql.FloatingRateBond(settlement_days,\n",
    "                             nominal,\n",
    "                             schedule,\n",
    "                             emtn,\n",
    "                             ql.Thirty360(ql.Thirty360.BondBasis),\n",
    "                             ql.Unadjusted,\n",
    "                             fixing_days,\n",
    "                             [],      # Gearings\n",
    "                             [margin_add],     # Spreads\n",
    "                             [],      # Caps\n",
    "                             [],      # Floors\n",
    "                             True,   # Fixing in arrears\n",
    "                             nominal,\n",
    "                             start_date)\n"
   ]
  },
  {
   "cell_type": "code",
   "execution_count": 17,
   "id": "bc52f42f-feb1-46f7-af63-313f55684a24",
   "metadata": {},
   "outputs": [
    {
     "data": {
      "text/plain": [
       "Date(21,11,2023)"
      ]
     },
     "execution_count": 17,
     "metadata": {},
     "output_type": "execute_result"
    }
   ],
   "source": [
    "start_date"
   ]
  },
  {
   "cell_type": "code",
   "execution_count": 18,
   "id": "e8a145bd-777d-4777-b273-f8898b8401f1",
   "metadata": {},
   "outputs": [
    {
     "data": {
      "text/plain": [
       "Date(21,11,2025)"
      ]
     },
     "execution_count": 18,
     "metadata": {},
     "output_type": "execute_result"
    }
   ],
   "source": [
    "end_date"
   ]
  },
  {
   "cell_type": "code",
   "execution_count": 19,
   "id": "1ef98bb3-d87e-4210-9f64-2acc90fb96df",
   "metadata": {},
   "outputs": [],
   "source": [
    "# coupon pricers  ???\n",
    "pricer = ql.BlackIborCouponPricer()\n",
    "calendar = ql.UnitedStates(ql.UnitedStates.GovernmentBond)\n",
    "volatility = 0.0\n",
    "vol = ql.ConstantOptionletVolatility(settlement_days,\n",
    "                                  calendar,\n",
    "                                  ql.Unadjusted,\n",
    "                                  volatility,\n",
    "                                  ql.Thirty360(ql.Thirty360.BondBasis))\n",
    "\n",
    "pricer.setCapletVolatility(ql.OptionletVolatilityStructureHandle(vol))\n",
    "ql.setCouponPricer(frn.cashflows(), pricer)"
   ]
  },
  {
   "cell_type": "code",
   "execution_count": 20,
   "id": "bf232116-a1aa-451d-b5a3-392c0fc055ae",
   "metadata": {},
   "outputs": [],
   "source": [
    "frn.setPricingEngine(\n",
    "    ql.DiscountingBondEngine(emtn_handle) # estr_handle, euribor6m_handle\n",
    ")"
   ]
  },
  {
   "cell_type": "code",
   "execution_count": null,
   "id": "6677c049-63f2-4e8d-95bf-4fdcca72c3e3",
   "metadata": {},
   "outputs": [],
   "source": []
  },
  {
   "cell_type": "code",
   "execution_count": 21,
   "id": "5c942189-4c64-4280-9376-49527deac87e",
   "metadata": {},
   "outputs": [
    {
     "data": {
      "text/plain": [
       "100.47153204009653"
      ]
     },
     "execution_count": 21,
     "metadata": {},
     "output_type": "execute_result"
    }
   ],
   "source": [
    "frn.NPV()"
   ]
  },
  {
   "cell_type": "code",
   "execution_count": 22,
   "id": "1fcbcf60-2b51-4e1b-bcec-9b6c0672e613",
   "metadata": {},
   "outputs": [
    {
     "data": {
      "text/plain": [
       "100.22995444929869"
      ]
     },
     "execution_count": 22,
     "metadata": {},
     "output_type": "execute_result"
    }
   ],
   "source": [
    "frn.cleanPrice()"
   ]
  },
  {
   "cell_type": "code",
   "execution_count": 23,
   "id": "1ebac502-7e8c-4982-bda8-6045e00bf70b",
   "metadata": {},
   "outputs": [
    {
     "data": {
      "text/plain": [
       "100.47153204009653"
      ]
     },
     "execution_count": 23,
     "metadata": {},
     "output_type": "execute_result"
    }
   ],
   "source": [
    "frn.dirtyPrice()"
   ]
  },
  {
   "cell_type": "code",
   "execution_count": null,
   "id": "284c71b5-93d1-45d5-905d-ac229be99df8",
   "metadata": {},
   "outputs": [],
   "source": []
  },
  {
   "cell_type": "code",
   "execution_count": null,
   "id": "3edbb916-6256-48e6-b054-1d2f65e2dc0c",
   "metadata": {},
   "outputs": [],
   "source": []
  },
  {
   "cell_type": "code",
   "execution_count": 24,
   "id": "2deb4a04-a783-480e-ba62-3b3f33880aa4",
   "metadata": {},
   "outputs": [
    {
     "name": "stdout",
     "output_type": "stream",
     "text": [
      "[(0.034659999999999996, 0.25), (0.034659999999999996, 0.25), (0.034659999999999996, 0.25), (0.034659999999999996, 0.25), (0.031059975959723148, 0.25), (0.0273646520846399, 0.25), (0.02416472472002209, 0.25), (0.0235019435100318, 0.25)]\n"
     ]
    }
   ],
   "source": [
    "cfs = frn.cashflows()\n",
    "coupons = [ ql.as_coupon(c) for c in cfs[:-1] ] # the last one is the redemption\n",
    "print( [ (c.rate(), c.accrualPeriod()) for c in coupons ])"
   ]
  },
  {
   "cell_type": "code",
   "execution_count": null,
   "id": "779cbd0d-0bfb-47cd-94d9-95e8c63821de",
   "metadata": {},
   "outputs": [],
   "source": []
  },
  {
   "cell_type": "code",
   "execution_count": null,
   "id": "5aa91a15-3f43-4a1f-9989-127819ca87ae",
   "metadata": {},
   "outputs": [],
   "source": []
  },
  {
   "cell_type": "code",
   "execution_count": 25,
   "id": "2fa9cf55-442f-4c4b-bc43-12fda656e37b",
   "metadata": {},
   "outputs": [
    {
     "name": "stdout",
     "output_type": "stream",
     "text": [
      "<QuantLib.QuantLib.Coupon; proxy of <Swig Object of type 'ext::shared_ptr< Coupon > *' at 0x761ed407c330> >\n",
      "<QuantLib.QuantLib.Coupon; proxy of <Swig Object of type 'ext::shared_ptr< Coupon > *' at 0x761ed407c3f0> >\n",
      "<QuantLib.QuantLib.Coupon; proxy of <Swig Object of type 'ext::shared_ptr< Coupon > *' at 0x761ef59fc540> >\n",
      "<QuantLib.QuantLib.Coupon; proxy of <Swig Object of type 'ext::shared_ptr< Coupon > *' at 0x761ed556f540> >\n",
      "<QuantLib.QuantLib.Coupon; proxy of <Swig Object of type 'ext::shared_ptr< Coupon > *' at 0x761ef59fc540> >\n",
      "<QuantLib.QuantLib.Coupon; proxy of <Swig Object of type 'ext::shared_ptr< Coupon > *' at 0x761ed556f540> >\n",
      "<QuantLib.QuantLib.Coupon; proxy of <Swig Object of type 'ext::shared_ptr< Coupon > *' at 0x761ef59fc540> >\n",
      "<QuantLib.QuantLib.Coupon; proxy of <Swig Object of type 'ext::shared_ptr< Coupon > *' at 0x761ed556f540> >\n",
      "None\n"
     ]
    }
   ],
   "source": [
    "data = []\n",
    "for cf in frn.cashflows():\n",
    "    coupon = ql.as_coupon(cf)\n",
    "    print(coupon)\n",
    "    data.append(\n",
    "        (\n",
    "            #coupon.rate(),\n",
    "            #coupon.accrualPeriod(),\n",
    "            #coupon.amount(),\n",
    "        )\n",
    "    )"
   ]
  },
  {
   "cell_type": "code",
   "execution_count": null,
   "id": "06aaf4fc-c04b-4135-abac-2ab6fdef6d8b",
   "metadata": {},
   "outputs": [],
   "source": []
  },
  {
   "cell_type": "code",
   "execution_count": 26,
   "id": "94eb4751-f23a-45b2-b9a3-d7f8cf5d2f83",
   "metadata": {},
   "outputs": [],
   "source": [
    "#a=pd.DataFrame(\n",
    "#    data, columns=[\"date\", \"rate\", \"tenor\", \"amount\"]\n",
    "#).style.format(\n",
    "#    {\"amount\": \"{:.2f}\", \"rate\": \"{:.2%}\"}\n",
    "#)"
   ]
  },
  {
   "cell_type": "code",
   "execution_count": null,
   "id": "785f0eed-df44-4392-b053-03e24d0d6840",
   "metadata": {},
   "outputs": [],
   "source": []
  },
  {
   "cell_type": "code",
   "execution_count": 27,
   "id": "10e4b086-f832-4606-984b-f0b2e170df7b",
   "metadata": {},
   "outputs": [
    {
     "name": "stdout",
     "output_type": "stream",
     "text": [
      "Loading Pricing module:\n",
      "Pricing module loaded.\n"
     ]
    }
   ],
   "source": [
    "# WRE\n",
    "pricing = pr.Pricing(pathlib='/home/christophe/gitlab/norm/release/lib/linux64/')"
   ]
  },
  {
   "cell_type": "code",
   "execution_count": null,
   "id": "7c1e2f57-9119-4da2-bdea-c1448c947635",
   "metadata": {},
   "outputs": [],
   "source": []
  },
  {
   "cell_type": "code",
   "execution_count": 28,
   "id": "038c8e82-0a20-4935-a7bd-fa4db66d9811",
   "metadata": {},
   "outputs": [
    {
     "name": "stdout",
     "output_type": "stream",
     "text": [
      " r1=   2.9159999999999998E-002   2.9159999999999998E-002   2.9159999999999998E-002   2.9159999999999998E-002\n",
      " r2=   2.8206666666666665E-002   2.6863777777777778E-002   2.5072772432432430E-002   2.3373587027027024E-002\n",
      " f12=   2.8206666666666665E-002   2.6863777777777778E-002   2.5072772432432430E-002   2.3373587027027024E-002\n",
      " r1=   2.9159999999999998E-002   2.8206666666666665E-002   2.6863777777777778E-002   2.5072772432432430E-002\n",
      " r2=   2.8206666666666665E-002   2.6863777777777778E-002   2.5072772432432430E-002   2.3373587027027024E-002\n",
      " f12=   2.8206666666666665E-002   2.5925199522102753E-002   2.2029989157544633E-002   1.8787613513513515E-002\n"
     ]
    }
   ],
   "source": [
    "# pate flottante floatrate :\n",
    "quarteryear=93.\n",
    "decal = today-last_coupon_date\n",
    "mfl=nbcoupon_fl\n",
    "t1fl=np.zeros(mfl,dtype='float')\n",
    "t2fl=np.zeros(mfl,dtype='float')\n",
    "for i in range(mfl):\n",
    "    t2fl[i]=((i+1)*quarteryear-decal)/year #dates of coupons  ## a generaliser !!\n",
    "info = np.zeros(1,dtype='int64')\n",
    "actratfl=np.zeros(mfl)\n",
    "couponfl=np.zeros(mfl)\n",
    "interpmethod = 0\n",
    "pricing.WREpricingCurve2Forward( ncurve, ibordatesnp.astype(float), iborvaleursnp.astype(float), mfl, t1fl.astype(float), t2fl.astype(float), interpmethod, actratfl, info )\n",
    "t1fl[1:]=t2fl[0:-1]\n",
    "pricing.WREpricingCurve2Forward( ncurve, ibordatesnp.astype(float), iborvaleursnp.astype(float), mfl, t1fl.astype(float), t2fl.astype(float), interpmethod, couponfl, info )\n"
   ]
  },
  {
   "cell_type": "code",
   "execution_count": null,
   "id": "6a9a0cb1-57d0-4d11-a611-818f5164850f",
   "metadata": {},
   "outputs": [],
   "source": []
  },
  {
   "cell_type": "code",
   "execution_count": 29,
   "id": "1706963f-5df0-40b6-aa9f-ba735e4a20b1",
   "metadata": {},
   "outputs": [
    {
     "data": {
      "text/plain": [
       "array([0.        , 0.17808219, 0.43287671, 0.68767123])"
      ]
     },
     "execution_count": 29,
     "metadata": {},
     "output_type": "execute_result"
    }
   ],
   "source": [
    "t1fl"
   ]
  },
  {
   "cell_type": "code",
   "execution_count": 30,
   "id": "ec341349-d838-40aa-8c0a-65eb9364eb75",
   "metadata": {},
   "outputs": [
    {
     "data": {
      "text/plain": [
       "array([0.17808219, 0.43287671, 0.68767123, 0.94246575])"
      ]
     },
     "execution_count": 30,
     "metadata": {},
     "output_type": "execute_result"
    }
   ],
   "source": [
    "t2fl"
   ]
  },
  {
   "cell_type": "code",
   "execution_count": null,
   "id": "cf096aa9-ecb1-4059-868e-5164d99d5499",
   "metadata": {},
   "outputs": [],
   "source": []
  },
  {
   "cell_type": "code",
   "execution_count": 31,
   "id": "d2451e26-697e-4f1e-b803-f0329ad9fc93",
   "metadata": {},
   "outputs": [
    {
     "data": {
      "text/plain": [
       "array([0.        , 0.17808219, 0.43287671, 0.68767123])"
      ]
     },
     "execution_count": 31,
     "metadata": {},
     "output_type": "execute_result"
    }
   ],
   "source": [
    "t1fl"
   ]
  },
  {
   "cell_type": "code",
   "execution_count": 32,
   "id": "6f171452-9e3d-4b7d-b3d5-78ad5dbe7bfa",
   "metadata": {},
   "outputs": [
    {
     "data": {
      "text/plain": [
       "93.0"
      ]
     },
     "execution_count": 32,
     "metadata": {},
     "output_type": "execute_result"
    }
   ],
   "source": [
    "quarteryear"
   ]
  },
  {
   "cell_type": "code",
   "execution_count": 33,
   "id": "6e1a754c-4edf-4ef6-a811-e45ea3d557a3",
   "metadata": {},
   "outputs": [
    {
     "data": {
      "text/plain": [
       "28"
      ]
     },
     "execution_count": 33,
     "metadata": {},
     "output_type": "execute_result"
    }
   ],
   "source": [
    "decal"
   ]
  },
  {
   "cell_type": "code",
   "execution_count": 34,
   "id": "535bb177-a961-4da4-9f19-f2e2716b9305",
   "metadata": {},
   "outputs": [
    {
     "name": "stdout",
     "output_type": "stream",
     "text": [
      " principal actualized from floating leg=   97.821205694611166     \n",
      " test   100.00000000000000        2.3373587027027024E-002  0.94246575342465755                4\n",
      " floatingleg=   100.70664288818880     \n",
      " Pfrn=   100.70664288818880     \n"
     ]
    }
   ],
   "source": [
    "# jambe flottante\n",
    "ndatesFL = mfl\n",
    "datesFL = t2fl\n",
    "actualizationratesFL = actratfl\n",
    "principalFL = 100.0\n",
    "yearfractionFL = 0.25\n",
    "floatingrate = couponfl\n",
    "\n",
    "\n",
    "#valo\n",
    "# PRICEFRN ( ndates, dates, actualizationrates, forwardfloatingrate, spreadc, yearfraction, &\n",
    "#                      Principal, Principalexchanged, floorr, cap, autoactualized, Pfrn, info)\n",
    "priceFRN = np.zeros(1)\n",
    "pricing.WREpricingFRN( ndatesFL,  datesFL,  actualizationratesFL,  floatingrate ,  margin_add, yearfractionFL, principalFL,\n",
    "                      1, 0.0, 1.0, 0, priceFRN, info)"
   ]
  },
  {
   "cell_type": "code",
   "execution_count": null,
   "id": "329d2cd1-8d03-4248-bcae-e21321f59f3d",
   "metadata": {},
   "outputs": [],
   "source": []
  },
  {
   "cell_type": "code",
   "execution_count": 35,
   "id": "c16dbcb1-c753-47cf-96b8-3287381bf735",
   "metadata": {},
   "outputs": [],
   "source": [
    "###### Comparaison"
   ]
  },
  {
   "cell_type": "code",
   "execution_count": 36,
   "id": "e8202560-e3f9-4b1b-a597-09c9fad40260",
   "metadata": {},
   "outputs": [
    {
     "data": {
      "text/html": [
       "<div>\n",
       "<style scoped>\n",
       "    .dataframe tbody tr th:only-of-type {\n",
       "        vertical-align: middle;\n",
       "    }\n",
       "\n",
       "    .dataframe tbody tr th {\n",
       "        vertical-align: top;\n",
       "    }\n",
       "\n",
       "    .dataframe thead th {\n",
       "        text-align: right;\n",
       "    }\n",
       "</style>\n",
       "<table border=\"1\" class=\"dataframe\">\n",
       "  <thead>\n",
       "    <tr style=\"text-align: right;\">\n",
       "      <th></th>\n",
       "      <th>Market Value</th>\n",
       "      <th>WRE</th>\n",
       "      <th>Quantlib</th>\n",
       "    </tr>\n",
       "  </thead>\n",
       "  <tbody>\n",
       "    <tr>\n",
       "      <th>Dirty Price</th>\n",
       "      <td>100.614608</td>\n",
       "      <td>100.706643</td>\n",
       "      <td>100.471532</td>\n",
       "    </tr>\n",
       "    <tr>\n",
       "      <th>Clean Price</th>\n",
       "      <td>100.288000</td>\n",
       "      <td>x</td>\n",
       "      <td>100.229954</td>\n",
       "    </tr>\n",
       "  </tbody>\n",
       "</table>\n",
       "</div>"
      ],
      "text/plain": [
       "             Market Value         WRE    Quantlib\n",
       "Dirty Price    100.614608  100.706643  100.471532\n",
       "Clean Price    100.288000           x  100.229954"
      ]
     },
     "execution_count": 36,
     "metadata": {},
     "output_type": "execute_result"
    }
   ],
   "source": [
    "data={\"Market Value\": [quotationAMUNDI+accIntPriceAMUNDI, quotationAMUNDI],\n",
    "      \"WRE\":[priceFRN[0],\"x\"],\n",
    "      \"Quantlib\": [frn.NPV(),frn.cleanPrice()], \n",
    "     }\n",
    "\n",
    "pd.DataFrame(data, index=['Dirty Price', 'Clean Price'])\n"
   ]
  },
  {
   "cell_type": "code",
   "execution_count": null,
   "id": "e1987524-e019-4e2d-8201-3d97faa34315",
   "metadata": {},
   "outputs": [],
   "source": []
  },
  {
   "cell_type": "code",
   "execution_count": null,
   "id": "4a94ac8c-62e2-4dd3-91cd-41326fede3a1",
   "metadata": {},
   "outputs": [],
   "source": []
  },
  {
   "cell_type": "code",
   "execution_count": null,
   "id": "9b54ece2-5918-4763-8871-a6a19edaad5c",
   "metadata": {},
   "outputs": [],
   "source": []
  },
  {
   "cell_type": "code",
   "execution_count": null,
   "id": "1cc4dd85-59c6-461e-ab57-cf9cb823e2b4",
   "metadata": {},
   "outputs": [],
   "source": []
  },
  {
   "cell_type": "code",
   "execution_count": null,
   "id": "7c0e70ca-2a00-438b-9d63-d341748a6382",
   "metadata": {},
   "outputs": [],
   "source": []
  },
  {
   "cell_type": "code",
   "execution_count": null,
   "id": "95ccb33e-65e8-4d67-9fce-1dcc06e957c9",
   "metadata": {},
   "outputs": [],
   "source": []
  }
 ],
 "metadata": {
  "kernelspec": {
   "display_name": "Python 3 (ipykernel)",
   "language": "python",
   "name": "python3"
  },
  "language_info": {
   "codemirror_mode": {
    "name": "ipython",
    "version": 3
   },
   "file_extension": ".py",
   "mimetype": "text/x-python",
   "name": "python",
   "nbconvert_exporter": "python",
   "pygments_lexer": "ipython3",
   "version": "3.12.3"
  }
 },
 "nbformat": 4,
 "nbformat_minor": 5
}

{
 "cells": [
  {
   "cell_type": "code",
   "execution_count": 1,
   "id": "5a09e2bb-5b39-42a1-b19a-a5c123358612",
   "metadata": {},
   "outputs": [],
   "source": [
    "import json\n",
    "from pathlib import Path\n",
    "import numpy as np\n",
    "import pandas as pd\n",
    "import sys\n",
    "import QuantLib as ql"
   ]
  },
  {
   "cell_type": "code",
   "execution_count": 2,
   "id": "62a0b98f-6a55-42f0-8a7e-0137f30662d1",
   "metadata": {},
   "outputs": [],
   "source": [
    "# https://implementingquantlib.substack.com/p/different-kinds-of-swaps"
   ]
  },
  {
   "cell_type": "code",
   "execution_count": 3,
   "id": "a0382188-98a7-4730-a17d-3ead8a954ad8",
   "metadata": {},
   "outputs": [],
   "source": [
    "today = ql.Date(19, ql.December, 2024)\n",
    "ql.Settings.instance().evaluationDate = today\n",
    "\n",
    "bps = 1e-4"
   ]
  },
  {
   "cell_type": "code",
   "execution_count": 4,
   "id": "807629dd-0c7b-407d-9288-dd30781f506a",
   "metadata": {},
   "outputs": [],
   "source": [
    "def nparray2listQlDates(today,dates):\n",
    "    qldates = []\n",
    "    for i in range(len(dates)):\n",
    "        if dates[i]>=0:\n",
    "            qldates.append(today+ql.Period(dates[i], ql.Years))\n",
    "        else:\n",
    "            print(- dates[i])\n",
    "            qldates.append(today-ql.Period(-dates[i], ql.Years))\n",
    "    return qldates"
   ]
  },
  {
   "cell_type": "code",
   "execution_count": 5,
   "id": "b206188d-b6ae-42cd-8a4c-b654f502066c",
   "metadata": {},
   "outputs": [],
   "source": [
    "sofr_curve = ql.ZeroCurve(\n",
    "    [today, today + ql.Period(50, ql.Years)],\n",
    "    [0.02, 0.04],\n",
    "    ql.Actual365Fixed(),\n",
    ")"
   ]
  },
  {
   "cell_type": "code",
   "execution_count": 6,
   "id": "9384a34c-0491-4acf-b23e-9885a75da023",
   "metadata": {},
   "outputs": [
    {
     "data": {
      "text/plain": [
       "<QuantLib.QuantLib.ZeroCurve; proxy of <Swig Object of type 'ext::shared_ptr< InterpolatedZeroCurve< Linear > > *' at 0x752f495334e0> >"
      ]
     },
     "execution_count": 6,
     "metadata": {},
     "output_type": "execute_result"
    }
   ],
   "source": [
    "#### test\n",
    "ibordates= [0,1,2,3,4,5,6,7,8,9,10,15,20,30]\n",
    "ibordatesql2 = nparray2listQlDates(today,ibordates)\n",
    "iborvaleursnp= np.array([4.,4.418842,4.588199,4.383796,4.442341,4.472094,4.487725,\n",
    "                       4.603022,4.49304931,4.55046352,4.56296427,4.817077,4.969355, 4.76199173])/100\n",
    "iborvaleurs=iborvaleursnp.tolist()\n",
    "sofr_curve = ql.ZeroCurve(\n",
    "    ibordatesql2,\n",
    "    iborvaleurs,\n",
    "    ql.Actual365Fixed()\n",
    ")\n",
    "sofr_curve"
   ]
  },
  {
   "cell_type": "code",
   "execution_count": 7,
   "id": "cca74915-1837-41a9-b69b-4e6d9209f29b",
   "metadata": {},
   "outputs": [],
   "source": [
    "sofr_handle = ql.YieldTermStructureHandle(sofr_curve)\n",
    "sofr = ql.Sofr(sofr_handle)"
   ]
  },
  {
   "cell_type": "code",
   "execution_count": 8,
   "id": "4ad49f0a-74a6-4d53-9bc4-7d885e4cfd98",
   "metadata": {},
   "outputs": [
    {
     "data": {
      "text/plain": [
       "0.04062467653228374"
      ]
     },
     "execution_count": 8,
     "metadata": {},
     "output_type": "execute_result"
    }
   ],
   "source": [
    "sofr.fixing(ql.Date(7, ql.February, 2025))"
   ]
  },
  {
   "cell_type": "code",
   "execution_count": 9,
   "id": "63567fcd-fd43-49fe-928d-f3a9d3bca270",
   "metadata": {},
   "outputs": [],
   "source": [
    "start_date = today\n",
    "end_date = start_date + ql.Period(10, ql.Years)\n",
    "coupon_tenor = ql.Period(1, ql.Years)\n",
    "calendar = ql.UnitedStates(ql.UnitedStates.GovernmentBond)\n",
    "convention = ql.Following\n",
    "rule = ql.DateGeneration.Forward\n",
    "end_of_month = False\n",
    "\n",
    "fixed_rate = 40 * bps\n",
    "fixed_day_counter = sofr.dayCounter()\n",
    "\n",
    "schedule = ql.Schedule(\n",
    "    start_date,\n",
    "    end_date,\n",
    "    coupon_tenor,\n",
    "    calendar,\n",
    "    convention,\n",
    "    convention,\n",
    "    rule,\n",
    "    end_of_month,\n",
    ")\n",
    "swap = ql.OvernightIndexedSwap(\n",
    "    ql.Swap.Payer,\n",
    "    1_000_000,\n",
    "    schedule,\n",
    "    fixed_rate,\n",
    "    fixed_day_counter,\n",
    "    sofr,\n",
    ")"
   ]
  },
  {
   "cell_type": "code",
   "execution_count": 10,
   "id": "707caa9a-bef5-488b-b1f6-18bbca576e39",
   "metadata": {},
   "outputs": [],
   "source": [
    "swap.setPricingEngine(\n",
    "    ql.DiscountingSwapEngine(sofr_handle)\n",
    ")"
   ]
  },
  {
   "cell_type": "code",
   "execution_count": 11,
   "id": "58a7b5f6-3219-4982-8320-b9763a523ad2",
   "metadata": {},
   "outputs": [
    {
     "data": {
      "text/plain": [
       "334614.6680790261"
      ]
     },
     "execution_count": 11,
     "metadata": {},
     "output_type": "execute_result"
    }
   ],
   "source": [
    "swap.NPV()"
   ]
  },
  {
   "cell_type": "code",
   "execution_count": 12,
   "id": "9b06968b-ae48-44f6-a0cb-e0054f4dada2",
   "metadata": {},
   "outputs": [
    {
     "data": {
      "text/plain": [
       "-31917.749325440538"
      ]
     },
     "execution_count": 12,
     "metadata": {},
     "output_type": "execute_result"
    }
   ],
   "source": [
    "swap.fixedLegNPV()"
   ]
  },
  {
   "cell_type": "code",
   "execution_count": 13,
   "id": "7267d91d-2fff-4416-a13e-b850e27190fb",
   "metadata": {},
   "outputs": [
    {
     "data": {
      "text/plain": [
       "366532.41740446666"
      ]
     },
     "execution_count": 13,
     "metadata": {},
     "output_type": "execute_result"
    }
   ],
   "source": [
    "swap.overnightLegNPV()"
   ]
  },
  {
   "cell_type": "code",
   "execution_count": 14,
   "id": "50951eb4-7358-487e-ba60-844f6db9faba",
   "metadata": {},
   "outputs": [],
   "source": [
    "data = []\n",
    "for cf in swap.fixedLeg():\n",
    "    coupon = ql.as_fixed_rate_coupon(cf)\n",
    "    data.append(\n",
    "        (\n",
    "            coupon.date(),\n",
    "            coupon.rate(),\n",
    "            coupon.accrualPeriod(),\n",
    "            coupon.amount(),\n",
    "        )\n",
    "    )"
   ]
  },
  {
   "cell_type": "code",
   "execution_count": 15,
   "id": "3379e7b6-3194-4a07-b2f8-1b06eced603e",
   "metadata": {},
   "outputs": [
    {
     "data": {
      "text/html": [
       "<style type=\"text/css\">\n",
       "</style>\n",
       "<table id=\"T_b0ffc\">\n",
       "  <thead>\n",
       "    <tr>\n",
       "      <th class=\"blank level0\" >&nbsp;</th>\n",
       "      <th id=\"T_b0ffc_level0_col0\" class=\"col_heading level0 col0\" >date</th>\n",
       "      <th id=\"T_b0ffc_level0_col1\" class=\"col_heading level0 col1\" >rate</th>\n",
       "      <th id=\"T_b0ffc_level0_col2\" class=\"col_heading level0 col2\" >tenor</th>\n",
       "      <th id=\"T_b0ffc_level0_col3\" class=\"col_heading level0 col3\" >amount</th>\n",
       "    </tr>\n",
       "  </thead>\n",
       "  <tbody>\n",
       "    <tr>\n",
       "      <th id=\"T_b0ffc_level0_row0\" class=\"row_heading level0 row0\" >0</th>\n",
       "      <td id=\"T_b0ffc_row0_col0\" class=\"data row0 col0\" >December 19th, 2025</td>\n",
       "      <td id=\"T_b0ffc_row0_col1\" class=\"data row0 col1\" >0.40%</td>\n",
       "      <td id=\"T_b0ffc_row0_col2\" class=\"data row0 col2\" >1.013889</td>\n",
       "      <td id=\"T_b0ffc_row0_col3\" class=\"data row0 col3\" >4055.56</td>\n",
       "    </tr>\n",
       "    <tr>\n",
       "      <th id=\"T_b0ffc_level0_row1\" class=\"row_heading level0 row1\" >1</th>\n",
       "      <td id=\"T_b0ffc_row1_col0\" class=\"data row1 col0\" >December 21st, 2026</td>\n",
       "      <td id=\"T_b0ffc_row1_col1\" class=\"data row1 col1\" >0.40%</td>\n",
       "      <td id=\"T_b0ffc_row1_col2\" class=\"data row1 col2\" >1.019444</td>\n",
       "      <td id=\"T_b0ffc_row1_col3\" class=\"data row1 col3\" >4077.78</td>\n",
       "    </tr>\n",
       "    <tr>\n",
       "      <th id=\"T_b0ffc_level0_row2\" class=\"row_heading level0 row2\" >2</th>\n",
       "      <td id=\"T_b0ffc_row2_col0\" class=\"data row2 col0\" >December 20th, 2027</td>\n",
       "      <td id=\"T_b0ffc_row2_col1\" class=\"data row2 col1\" >0.40%</td>\n",
       "      <td id=\"T_b0ffc_row2_col2\" class=\"data row2 col2\" >1.011111</td>\n",
       "      <td id=\"T_b0ffc_row2_col3\" class=\"data row2 col3\" >4044.44</td>\n",
       "    </tr>\n",
       "    <tr>\n",
       "      <th id=\"T_b0ffc_level0_row3\" class=\"row_heading level0 row3\" >3</th>\n",
       "      <td id=\"T_b0ffc_row3_col0\" class=\"data row3 col0\" >December 19th, 2028</td>\n",
       "      <td id=\"T_b0ffc_row3_col1\" class=\"data row3 col1\" >0.40%</td>\n",
       "      <td id=\"T_b0ffc_row3_col2\" class=\"data row3 col2\" >1.013889</td>\n",
       "      <td id=\"T_b0ffc_row3_col3\" class=\"data row3 col3\" >4055.56</td>\n",
       "    </tr>\n",
       "    <tr>\n",
       "      <th id=\"T_b0ffc_level0_row4\" class=\"row_heading level0 row4\" >4</th>\n",
       "      <td id=\"T_b0ffc_row4_col0\" class=\"data row4 col0\" >December 19th, 2029</td>\n",
       "      <td id=\"T_b0ffc_row4_col1\" class=\"data row4 col1\" >0.40%</td>\n",
       "      <td id=\"T_b0ffc_row4_col2\" class=\"data row4 col2\" >1.013889</td>\n",
       "      <td id=\"T_b0ffc_row4_col3\" class=\"data row4 col3\" >4055.56</td>\n",
       "    </tr>\n",
       "    <tr>\n",
       "      <th id=\"T_b0ffc_level0_row5\" class=\"row_heading level0 row5\" >5</th>\n",
       "      <td id=\"T_b0ffc_row5_col0\" class=\"data row5 col0\" >December 19th, 2030</td>\n",
       "      <td id=\"T_b0ffc_row5_col1\" class=\"data row5 col1\" >0.40%</td>\n",
       "      <td id=\"T_b0ffc_row5_col2\" class=\"data row5 col2\" >1.013889</td>\n",
       "      <td id=\"T_b0ffc_row5_col3\" class=\"data row5 col3\" >4055.56</td>\n",
       "    </tr>\n",
       "    <tr>\n",
       "      <th id=\"T_b0ffc_level0_row6\" class=\"row_heading level0 row6\" >6</th>\n",
       "      <td id=\"T_b0ffc_row6_col0\" class=\"data row6 col0\" >December 19th, 2031</td>\n",
       "      <td id=\"T_b0ffc_row6_col1\" class=\"data row6 col1\" >0.40%</td>\n",
       "      <td id=\"T_b0ffc_row6_col2\" class=\"data row6 col2\" >1.013889</td>\n",
       "      <td id=\"T_b0ffc_row6_col3\" class=\"data row6 col3\" >4055.56</td>\n",
       "    </tr>\n",
       "    <tr>\n",
       "      <th id=\"T_b0ffc_level0_row7\" class=\"row_heading level0 row7\" >7</th>\n",
       "      <td id=\"T_b0ffc_row7_col0\" class=\"data row7 col0\" >December 20th, 2032</td>\n",
       "      <td id=\"T_b0ffc_row7_col1\" class=\"data row7 col1\" >0.40%</td>\n",
       "      <td id=\"T_b0ffc_row7_col2\" class=\"data row7 col2\" >1.019444</td>\n",
       "      <td id=\"T_b0ffc_row7_col3\" class=\"data row7 col3\" >4077.78</td>\n",
       "    </tr>\n",
       "    <tr>\n",
       "      <th id=\"T_b0ffc_level0_row8\" class=\"row_heading level0 row8\" >8</th>\n",
       "      <td id=\"T_b0ffc_row8_col0\" class=\"data row8 col0\" >December 19th, 2033</td>\n",
       "      <td id=\"T_b0ffc_row8_col1\" class=\"data row8 col1\" >0.40%</td>\n",
       "      <td id=\"T_b0ffc_row8_col2\" class=\"data row8 col2\" >1.011111</td>\n",
       "      <td id=\"T_b0ffc_row8_col3\" class=\"data row8 col3\" >4044.44</td>\n",
       "    </tr>\n",
       "    <tr>\n",
       "      <th id=\"T_b0ffc_level0_row9\" class=\"row_heading level0 row9\" >9</th>\n",
       "      <td id=\"T_b0ffc_row9_col0\" class=\"data row9 col0\" >December 19th, 2034</td>\n",
       "      <td id=\"T_b0ffc_row9_col1\" class=\"data row9 col1\" >0.40%</td>\n",
       "      <td id=\"T_b0ffc_row9_col2\" class=\"data row9 col2\" >1.013889</td>\n",
       "      <td id=\"T_b0ffc_row9_col3\" class=\"data row9 col3\" >4055.56</td>\n",
       "    </tr>\n",
       "  </tbody>\n",
       "</table>\n"
      ],
      "text/plain": [
       "<pandas.io.formats.style.Styler at 0x752f49533bf0>"
      ]
     },
     "execution_count": 15,
     "metadata": {},
     "output_type": "execute_result"
    }
   ],
   "source": [
    "pd.DataFrame(\n",
    "    data, columns=[\"date\", \"rate\", \"tenor\", \"amount\"]\n",
    ").style.format(\n",
    "    {\"amount\": \"{:.2f}\", \"rate\": \"{:.2%}\"}\n",
    ")"
   ]
  },
  {
   "cell_type": "code",
   "execution_count": 16,
   "id": "b61c8745-47e9-4650-b51f-9b0a1e44d4c7",
   "metadata": {},
   "outputs": [],
   "source": [
    "data = []\n",
    "for cf in swap.overnightLeg():\n",
    "    coupon = ql.as_floating_rate_coupon(cf)\n",
    "    data.append(\n",
    "        (\n",
    "            coupon.date(),\n",
    "            coupon.rate(),\n",
    "            coupon.accrualPeriod(),\n",
    "            coupon.amount(),\n",
    "        )\n",
    "    )"
   ]
  },
  {
   "cell_type": "code",
   "execution_count": 17,
   "id": "b5bb1f09-5dea-45b0-a108-1ddeda273f4d",
   "metadata": {},
   "outputs": [
    {
     "data": {
      "text/html": [
       "<style type=\"text/css\">\n",
       "</style>\n",
       "<table id=\"T_3123f\">\n",
       "  <thead>\n",
       "    <tr>\n",
       "      <th class=\"blank level0\" >&nbsp;</th>\n",
       "      <th id=\"T_3123f_level0_col0\" class=\"col_heading level0 col0\" >date</th>\n",
       "      <th id=\"T_3123f_level0_col1\" class=\"col_heading level0 col1\" >rate</th>\n",
       "      <th id=\"T_3123f_level0_col2\" class=\"col_heading level0 col2\" >tenor</th>\n",
       "      <th id=\"T_3123f_level0_col3\" class=\"col_heading level0 col3\" >amount</th>\n",
       "    </tr>\n",
       "  </thead>\n",
       "  <tbody>\n",
       "    <tr>\n",
       "      <th id=\"T_3123f_level0_row0\" class=\"row_heading level0 row0\" >0</th>\n",
       "      <td id=\"T_3123f_row0_col0\" class=\"data row0 col0\" >December 19th, 2025</td>\n",
       "      <td id=\"T_3123f_row0_col1\" class=\"data row0 col1\" >4.46%</td>\n",
       "      <td id=\"T_3123f_row0_col2\" class=\"data row0 col2\" >1.013889</td>\n",
       "      <td id=\"T_3123f_row0_col3\" class=\"data row0 col3\" >45179.27</td>\n",
       "    </tr>\n",
       "    <tr>\n",
       "      <th id=\"T_3123f_level0_row1\" class=\"row_heading level0 row1\" >1</th>\n",
       "      <td id=\"T_3123f_row1_col0\" class=\"data row1 col0\" >December 21st, 2026</td>\n",
       "      <td id=\"T_3123f_row1_col1\" class=\"data row1 col1\" >4.80%</td>\n",
       "      <td id=\"T_3123f_row1_col2\" class=\"data row1 col2\" >1.019444</td>\n",
       "      <td id=\"T_3123f_row1_col3\" class=\"data row1 col3\" >48965.57</td>\n",
       "    </tr>\n",
       "    <tr>\n",
       "      <th id=\"T_3123f_level0_row2\" class=\"row_heading level0 row2\" >2</th>\n",
       "      <td id=\"T_3123f_row2_col0\" class=\"data row2 col0\" >December 20th, 2027</td>\n",
       "      <td id=\"T_3123f_row2_col1\" class=\"data row2 col1\" >4.00%</td>\n",
       "      <td id=\"T_3123f_row2_col2\" class=\"data row2 col2\" >1.011111</td>\n",
       "      <td id=\"T_3123f_row2_col3\" class=\"data row2 col3\" >40442.25</td>\n",
       "    </tr>\n",
       "    <tr>\n",
       "      <th id=\"T_3123f_level0_row3\" class=\"row_heading level0 row3\" >3</th>\n",
       "      <td id=\"T_3123f_row3_col0\" class=\"data row3 col0\" >December 19th, 2028</td>\n",
       "      <td id=\"T_3123f_row3_col1\" class=\"data row3 col1\" >4.66%</td>\n",
       "      <td id=\"T_3123f_row3_col2\" class=\"data row3 col2\" >1.013889</td>\n",
       "      <td id=\"T_3123f_row3_col3\" class=\"data row3 col3\" >47259.30</td>\n",
       "    </tr>\n",
       "    <tr>\n",
       "      <th id=\"T_3123f_level0_row4\" class=\"row_heading level0 row4\" >4</th>\n",
       "      <td id=\"T_3123f_row4_col0\" class=\"data row4 col0\" >December 19th, 2029</td>\n",
       "      <td id=\"T_3123f_row4_col1\" class=\"data row4 col1\" >4.63%</td>\n",
       "      <td id=\"T_3123f_row4_col2\" class=\"data row4 col2\" >1.013889</td>\n",
       "      <td id=\"T_3123f_row4_col3\" class=\"data row4 col3\" >46982.14</td>\n",
       "    </tr>\n",
       "    <tr>\n",
       "      <th id=\"T_3123f_level0_row5\" class=\"row_heading level0 row5\" >5</th>\n",
       "      <td id=\"T_3123f_row5_col0\" class=\"data row5 col0\" >December 19th, 2030</td>\n",
       "      <td id=\"T_3123f_row5_col1\" class=\"data row5 col1\" >4.61%</td>\n",
       "      <td id=\"T_3123f_row5_col2\" class=\"data row5 col2\" >1.013889</td>\n",
       "      <td id=\"T_3123f_row5_col3\" class=\"data row5 col3\" >46717.66</td>\n",
       "    </tr>\n",
       "    <tr>\n",
       "      <th id=\"T_3123f_level0_row6\" class=\"row_heading level0 row6\" >6</th>\n",
       "      <td id=\"T_3123f_row6_col0\" class=\"data row6 col0\" >December 19th, 2031</td>\n",
       "      <td id=\"T_3123f_row6_col1\" class=\"data row6 col1\" >5.36%</td>\n",
       "      <td id=\"T_3123f_row6_col2\" class=\"data row6 col2\" >1.013889</td>\n",
       "      <td id=\"T_3123f_row6_col3\" class=\"data row6 col3\" >54378.19</td>\n",
       "    </tr>\n",
       "    <tr>\n",
       "      <th id=\"T_3123f_level0_row7\" class=\"row_heading level0 row7\" >7</th>\n",
       "      <td id=\"T_3123f_row7_col0\" class=\"data row7 col0\" >December 20th, 2032</td>\n",
       "      <td id=\"T_3123f_row7_col1\" class=\"data row7 col1\" >3.75%</td>\n",
       "      <td id=\"T_3123f_row7_col2\" class=\"data row7 col2\" >1.019444</td>\n",
       "      <td id=\"T_3123f_row7_col3\" class=\"data row7 col3\" >38199.73</td>\n",
       "    </tr>\n",
       "    <tr>\n",
       "      <th id=\"T_3123f_level0_row8\" class=\"row_heading level0 row8\" >8</th>\n",
       "      <td id=\"T_3123f_row8_col0\" class=\"data row8 col0\" >December 19th, 2033</td>\n",
       "      <td id=\"T_3123f_row8_col1\" class=\"data row8 col1\" >5.07%</td>\n",
       "      <td id=\"T_3123f_row8_col2\" class=\"data row8 col2\" >1.011111</td>\n",
       "      <td id=\"T_3123f_row8_col3\" class=\"data row8 col3\" >51234.54</td>\n",
       "    </tr>\n",
       "    <tr>\n",
       "      <th id=\"T_3123f_level0_row9\" class=\"row_heading level0 row9\" >9</th>\n",
       "      <td id=\"T_3123f_row9_col0\" class=\"data row9 col0\" >December 19th, 2034</td>\n",
       "      <td id=\"T_3123f_row9_col1\" class=\"data row9 col1\" >4.72%</td>\n",
       "      <td id=\"T_3123f_row9_col2\" class=\"data row9 col2\" >1.013889</td>\n",
       "      <td id=\"T_3123f_row9_col3\" class=\"data row9 col3\" >47865.66</td>\n",
       "    </tr>\n",
       "  </tbody>\n",
       "</table>\n"
      ],
      "text/plain": [
       "<pandas.io.formats.style.Styler at 0x752f2d7998e0>"
      ]
     },
     "execution_count": 17,
     "metadata": {},
     "output_type": "execute_result"
    }
   ],
   "source": [
    "pd.DataFrame(\n",
    "    data, columns=[\"date\", \"rate\", \"tenor\", \"amount\"]\n",
    ").style.format(\n",
    "    {\"amount\": \"{:.2f}\", \"rate\": \"{:.2%}\"}\n",
    ")"
   ]
  },
  {
   "cell_type": "code",
   "execution_count": 18,
   "id": "03ca902b-686f-4f4f-aae4-7f1d90bd69d5",
   "metadata": {},
   "outputs": [
    {
     "data": {
      "text/plain": [
       "0.04593461947046684"
      ]
     },
     "execution_count": 18,
     "metadata": {},
     "output_type": "execute_result"
    }
   ],
   "source": [
    "swap.fairRate()"
   ]
  },
  {
   "cell_type": "code",
   "execution_count": 19,
   "id": "b0c38e2c-d3e8-476f-ad45-208a1100fe47",
   "metadata": {},
   "outputs": [],
   "source": [
    "#   value after issuing"
   ]
  },
  {
   "cell_type": "code",
   "execution_count": 20,
   "id": "87f33617-7008-414d-a956-0cb1a0372c6f",
   "metadata": {},
   "outputs": [],
   "source": [
    "start_date = today - ql.Period(3, ql.Months)\n",
    "end_date = start_date + ql.Period(10, ql.Years)\n",
    "\n",
    "schedule = ql.Schedule(\n",
    "    start_date,\n",
    "    end_date,\n",
    "    coupon_tenor,\n",
    "    calendar,\n",
    "    convention,\n",
    "    convention,\n",
    "    rule,\n",
    "    end_of_month,\n",
    ")\n",
    "swap = ql.OvernightIndexedSwap(\n",
    "    ql.Swap.Payer,\n",
    "    1_000_000,\n",
    "    schedule,\n",
    "    fixed_rate,\n",
    "    fixed_day_counter,\n",
    "    sofr,\n",
    ")\n",
    "swap.setPricingEngine(\n",
    "    ql.DiscountingSwapEngine(sofr_handle)\n",
    ")"
   ]
  },
  {
   "cell_type": "code",
   "execution_count": 21,
   "id": "2207cc85-3fad-44da-a27d-a203f6701ef3",
   "metadata": {},
   "outputs": [],
   "source": [
    "d = ql.Date(21, ql.June, 2023)\n",
    "while d <= today:\n",
    "    if sofr.isValidFixingDate(d):\n",
    "        sofr.addFixing(d, 0.02)\n",
    "    d += 1"
   ]
  },
  {
   "cell_type": "code",
   "execution_count": 22,
   "id": "fd7e62bf-c2b2-44d5-884b-e987fa2c4aa6",
   "metadata": {},
   "outputs": [
    {
     "data": {
      "text/plain": [
       "331817.7554626634"
      ]
     },
     "execution_count": 22,
     "metadata": {},
     "output_type": "execute_result"
    }
   ],
   "source": [
    "swap.NPV()"
   ]
  },
  {
   "cell_type": "code",
   "execution_count": 23,
   "id": "0ba2fd3b-7e6c-4579-b1a4-1322ae59b856",
   "metadata": {},
   "outputs": [
    {
     "data": {
      "text/plain": [
       "-32285.974512246947"
      ]
     },
     "execution_count": 23,
     "metadata": {},
     "output_type": "execute_result"
    }
   ],
   "source": [
    "swap.fixedLegNPV()"
   ]
  },
  {
   "cell_type": "code",
   "execution_count": 24,
   "id": "b447f0e0-acc6-49eb-8c24-e337c4e12d0c",
   "metadata": {},
   "outputs": [
    {
     "data": {
      "text/plain": [
       "364103.7299749104"
      ]
     },
     "execution_count": 24,
     "metadata": {},
     "output_type": "execute_result"
    }
   ],
   "source": [
    "swap.overnightLegNPV()"
   ]
  },
  {
   "cell_type": "code",
   "execution_count": 25,
   "id": "bc52f42f-feb1-46f7-af63-313f55684a24",
   "metadata": {},
   "outputs": [],
   "source": [
    "data = []\n",
    "for cf in swap.fixedLeg():\n",
    "    coupon = ql.as_fixed_rate_coupon(cf)\n",
    "    data.append(\n",
    "        (\n",
    "            coupon.date(),\n",
    "            coupon.rate(),\n",
    "            coupon.accrualPeriod(),\n",
    "            coupon.amount(),\n",
    "        )\n",
    "    )"
   ]
  },
  {
   "cell_type": "code",
   "execution_count": 26,
   "id": "bf232116-a1aa-451d-b5a3-392c0fc055ae",
   "metadata": {},
   "outputs": [
    {
     "data": {
      "text/html": [
       "<style type=\"text/css\">\n",
       "</style>\n",
       "<table id=\"T_bc0dd\">\n",
       "  <thead>\n",
       "    <tr>\n",
       "      <th class=\"blank level0\" >&nbsp;</th>\n",
       "      <th id=\"T_bc0dd_level0_col0\" class=\"col_heading level0 col0\" >date</th>\n",
       "      <th id=\"T_bc0dd_level0_col1\" class=\"col_heading level0 col1\" >rate</th>\n",
       "      <th id=\"T_bc0dd_level0_col2\" class=\"col_heading level0 col2\" >tenor</th>\n",
       "      <th id=\"T_bc0dd_level0_col3\" class=\"col_heading level0 col3\" >amount</th>\n",
       "    </tr>\n",
       "  </thead>\n",
       "  <tbody>\n",
       "    <tr>\n",
       "      <th id=\"T_bc0dd_level0_row0\" class=\"row_heading level0 row0\" >0</th>\n",
       "      <td id=\"T_bc0dd_row0_col0\" class=\"data row0 col0\" >September 19th, 2025</td>\n",
       "      <td id=\"T_bc0dd_row0_col1\" class=\"data row0 col1\" >0.40%</td>\n",
       "      <td id=\"T_bc0dd_row0_col2\" class=\"data row0 col2\" >1.013889</td>\n",
       "      <td id=\"T_bc0dd_row0_col3\" class=\"data row0 col3\" >4055.56</td>\n",
       "    </tr>\n",
       "    <tr>\n",
       "      <th id=\"T_bc0dd_level0_row1\" class=\"row_heading level0 row1\" >1</th>\n",
       "      <td id=\"T_bc0dd_row1_col0\" class=\"data row1 col0\" >September 21st, 2026</td>\n",
       "      <td id=\"T_bc0dd_row1_col1\" class=\"data row1 col1\" >0.40%</td>\n",
       "      <td id=\"T_bc0dd_row1_col2\" class=\"data row1 col2\" >1.019444</td>\n",
       "      <td id=\"T_bc0dd_row1_col3\" class=\"data row1 col3\" >4077.78</td>\n",
       "    </tr>\n",
       "    <tr>\n",
       "      <th id=\"T_bc0dd_level0_row2\" class=\"row_heading level0 row2\" >2</th>\n",
       "      <td id=\"T_bc0dd_row2_col0\" class=\"data row2 col0\" >September 20th, 2027</td>\n",
       "      <td id=\"T_bc0dd_row2_col1\" class=\"data row2 col1\" >0.40%</td>\n",
       "      <td id=\"T_bc0dd_row2_col2\" class=\"data row2 col2\" >1.011111</td>\n",
       "      <td id=\"T_bc0dd_row2_col3\" class=\"data row2 col3\" >4044.44</td>\n",
       "    </tr>\n",
       "    <tr>\n",
       "      <th id=\"T_bc0dd_level0_row3\" class=\"row_heading level0 row3\" >3</th>\n",
       "      <td id=\"T_bc0dd_row3_col0\" class=\"data row3 col0\" >September 19th, 2028</td>\n",
       "      <td id=\"T_bc0dd_row3_col1\" class=\"data row3 col1\" >0.40%</td>\n",
       "      <td id=\"T_bc0dd_row3_col2\" class=\"data row3 col2\" >1.013889</td>\n",
       "      <td id=\"T_bc0dd_row3_col3\" class=\"data row3 col3\" >4055.56</td>\n",
       "    </tr>\n",
       "    <tr>\n",
       "      <th id=\"T_bc0dd_level0_row4\" class=\"row_heading level0 row4\" >4</th>\n",
       "      <td id=\"T_bc0dd_row4_col0\" class=\"data row4 col0\" >September 19th, 2029</td>\n",
       "      <td id=\"T_bc0dd_row4_col1\" class=\"data row4 col1\" >0.40%</td>\n",
       "      <td id=\"T_bc0dd_row4_col2\" class=\"data row4 col2\" >1.013889</td>\n",
       "      <td id=\"T_bc0dd_row4_col3\" class=\"data row4 col3\" >4055.56</td>\n",
       "    </tr>\n",
       "    <tr>\n",
       "      <th id=\"T_bc0dd_level0_row5\" class=\"row_heading level0 row5\" >5</th>\n",
       "      <td id=\"T_bc0dd_row5_col0\" class=\"data row5 col0\" >September 19th, 2030</td>\n",
       "      <td id=\"T_bc0dd_row5_col1\" class=\"data row5 col1\" >0.40%</td>\n",
       "      <td id=\"T_bc0dd_row5_col2\" class=\"data row5 col2\" >1.013889</td>\n",
       "      <td id=\"T_bc0dd_row5_col3\" class=\"data row5 col3\" >4055.56</td>\n",
       "    </tr>\n",
       "    <tr>\n",
       "      <th id=\"T_bc0dd_level0_row6\" class=\"row_heading level0 row6\" >6</th>\n",
       "      <td id=\"T_bc0dd_row6_col0\" class=\"data row6 col0\" >September 19th, 2031</td>\n",
       "      <td id=\"T_bc0dd_row6_col1\" class=\"data row6 col1\" >0.40%</td>\n",
       "      <td id=\"T_bc0dd_row6_col2\" class=\"data row6 col2\" >1.013889</td>\n",
       "      <td id=\"T_bc0dd_row6_col3\" class=\"data row6 col3\" >4055.56</td>\n",
       "    </tr>\n",
       "    <tr>\n",
       "      <th id=\"T_bc0dd_level0_row7\" class=\"row_heading level0 row7\" >7</th>\n",
       "      <td id=\"T_bc0dd_row7_col0\" class=\"data row7 col0\" >September 20th, 2032</td>\n",
       "      <td id=\"T_bc0dd_row7_col1\" class=\"data row7 col1\" >0.40%</td>\n",
       "      <td id=\"T_bc0dd_row7_col2\" class=\"data row7 col2\" >1.019444</td>\n",
       "      <td id=\"T_bc0dd_row7_col3\" class=\"data row7 col3\" >4077.78</td>\n",
       "    </tr>\n",
       "    <tr>\n",
       "      <th id=\"T_bc0dd_level0_row8\" class=\"row_heading level0 row8\" >8</th>\n",
       "      <td id=\"T_bc0dd_row8_col0\" class=\"data row8 col0\" >September 19th, 2033</td>\n",
       "      <td id=\"T_bc0dd_row8_col1\" class=\"data row8 col1\" >0.40%</td>\n",
       "      <td id=\"T_bc0dd_row8_col2\" class=\"data row8 col2\" >1.011111</td>\n",
       "      <td id=\"T_bc0dd_row8_col3\" class=\"data row8 col3\" >4044.44</td>\n",
       "    </tr>\n",
       "    <tr>\n",
       "      <th id=\"T_bc0dd_level0_row9\" class=\"row_heading level0 row9\" >9</th>\n",
       "      <td id=\"T_bc0dd_row9_col0\" class=\"data row9 col0\" >September 19th, 2034</td>\n",
       "      <td id=\"T_bc0dd_row9_col1\" class=\"data row9 col1\" >0.40%</td>\n",
       "      <td id=\"T_bc0dd_row9_col2\" class=\"data row9 col2\" >1.013889</td>\n",
       "      <td id=\"T_bc0dd_row9_col3\" class=\"data row9 col3\" >4055.56</td>\n",
       "    </tr>\n",
       "  </tbody>\n",
       "</table>\n"
      ],
      "text/plain": [
       "<pandas.io.formats.style.Styler at 0x752f57dc3bf0>"
      ]
     },
     "execution_count": 26,
     "metadata": {},
     "output_type": "execute_result"
    }
   ],
   "source": [
    "pd.DataFrame(\n",
    "    data, columns=[\"date\", \"rate\", \"tenor\", \"amount\"]\n",
    ").style.format(\n",
    "    {\"amount\": \"{:.2f}\", \"rate\": \"{:.2%}\"}\n",
    ")"
   ]
  },
  {
   "cell_type": "code",
   "execution_count": 27,
   "id": "6677c049-63f2-4e8d-95bf-4fdcca72c3e3",
   "metadata": {},
   "outputs": [],
   "source": [
    "data = []\n",
    "for cf in swap.overnightLeg():\n",
    "    coupon = ql.as_floating_rate_coupon(cf)\n",
    "    data.append(\n",
    "        (\n",
    "            coupon.date(),\n",
    "            coupon.rate(),\n",
    "            coupon.accrualPeriod(),\n",
    "            coupon.amount(),\n",
    "        )\n",
    "    )"
   ]
  },
  {
   "cell_type": "code",
   "execution_count": 28,
   "id": "5c942189-4c64-4280-9376-49527deac87e",
   "metadata": {},
   "outputs": [
    {
     "data": {
      "text/html": [
       "<style type=\"text/css\">\n",
       "</style>\n",
       "<table id=\"T_d181d\">\n",
       "  <thead>\n",
       "    <tr>\n",
       "      <th class=\"blank level0\" >&nbsp;</th>\n",
       "      <th id=\"T_d181d_level0_col0\" class=\"col_heading level0 col0\" >date</th>\n",
       "      <th id=\"T_d181d_level0_col1\" class=\"col_heading level0 col1\" >rate</th>\n",
       "      <th id=\"T_d181d_level0_col2\" class=\"col_heading level0 col2\" >tenor</th>\n",
       "      <th id=\"T_d181d_level0_col3\" class=\"col_heading level0 col3\" >amount</th>\n",
       "    </tr>\n",
       "  </thead>\n",
       "  <tbody>\n",
       "    <tr>\n",
       "      <th id=\"T_d181d_level0_row0\" class=\"row_heading level0 row0\" >0</th>\n",
       "      <td id=\"T_d181d_row0_col0\" class=\"data row0 col0\" >September 19th, 2025</td>\n",
       "      <td id=\"T_d181d_row0_col1\" class=\"data row0 col1\" >3.76%</td>\n",
       "      <td id=\"T_d181d_row0_col2\" class=\"data row0 col2\" >1.013889</td>\n",
       "      <td id=\"T_d181d_row0_col3\" class=\"data row0 col3\" >38096.65</td>\n",
       "    </tr>\n",
       "    <tr>\n",
       "      <th id=\"T_d181d_level0_row1\" class=\"row_heading level0 row1\" >1</th>\n",
       "      <td id=\"T_d181d_row1_col0\" class=\"data row1 col0\" >September 21st, 2026</td>\n",
       "      <td id=\"T_d181d_row1_col1\" class=\"data row1 col1\" >4.77%</td>\n",
       "      <td id=\"T_d181d_row1_col2\" class=\"data row1 col2\" >1.019444</td>\n",
       "      <td id=\"T_d181d_row1_col3\" class=\"data row1 col3\" >48607.84</td>\n",
       "    </tr>\n",
       "    <tr>\n",
       "      <th id=\"T_d181d_level0_row2\" class=\"row_heading level0 row2\" >2</th>\n",
       "      <td id=\"T_d181d_row2_col0\" class=\"data row2 col0\" >September 20th, 2027</td>\n",
       "      <td id=\"T_d181d_row2_col1\" class=\"data row2 col1\" >4.27%</td>\n",
       "      <td id=\"T_d181d_row2_col2\" class=\"data row2 col2\" >1.011111</td>\n",
       "      <td id=\"T_d181d_row2_col3\" class=\"data row2 col3\" >43146.02</td>\n",
       "    </tr>\n",
       "    <tr>\n",
       "      <th id=\"T_d181d_level0_row3\" class=\"row_heading level0 row3\" >3</th>\n",
       "      <td id=\"T_d181d_row3_col0\" class=\"data row3 col0\" >September 19th, 2028</td>\n",
       "      <td id=\"T_d181d_row3_col1\" class=\"data row3 col1\" >4.45%</td>\n",
       "      <td id=\"T_d181d_row3_col2\" class=\"data row3 col2\" >1.013889</td>\n",
       "      <td id=\"T_d181d_row3_col3\" class=\"data row3 col3\" >45088.21</td>\n",
       "    </tr>\n",
       "    <tr>\n",
       "      <th id=\"T_d181d_level0_row4\" class=\"row_heading level0 row4\" >4</th>\n",
       "      <td id=\"T_d181d_row4_col0\" class=\"data row4 col0\" >September 19th, 2029</td>\n",
       "      <td id=\"T_d181d_row4_col1\" class=\"data row4 col1\" >4.65%</td>\n",
       "      <td id=\"T_d181d_row4_col2\" class=\"data row4 col2\" >1.013889</td>\n",
       "      <td id=\"T_d181d_row4_col3\" class=\"data row4 col3\" >47107.34</td>\n",
       "    </tr>\n",
       "    <tr>\n",
       "      <th id=\"T_d181d_level0_row5\" class=\"row_heading level0 row5\" >5</th>\n",
       "      <td id=\"T_d181d_row5_col0\" class=\"data row5 col0\" >September 19th, 2030</td>\n",
       "      <td id=\"T_d181d_row5_col1\" class=\"data row5 col1\" >4.62%</td>\n",
       "      <td id=\"T_d181d_row5_col2\" class=\"data row5 col2\" >1.013889</td>\n",
       "      <td id=\"T_d181d_row5_col3\" class=\"data row5 col3\" >46811.26</td>\n",
       "    </tr>\n",
       "    <tr>\n",
       "      <th id=\"T_d181d_level0_row6\" class=\"row_heading level0 row6\" >6</th>\n",
       "      <td id=\"T_d181d_row6_col0\" class=\"data row6 col0\" >September 19th, 2031</td>\n",
       "      <td id=\"T_d181d_row6_col1\" class=\"data row6 col1\" >5.16%</td>\n",
       "      <td id=\"T_d181d_row6_col2\" class=\"data row6 col2\" >1.013889</td>\n",
       "      <td id=\"T_d181d_row6_col3\" class=\"data row6 col3\" >52266.77</td>\n",
       "    </tr>\n",
       "    <tr>\n",
       "      <th id=\"T_d181d_level0_row7\" class=\"row_heading level0 row7\" >7</th>\n",
       "      <td id=\"T_d181d_row7_col0\" class=\"data row7 col0\" >September 20th, 2032</td>\n",
       "      <td id=\"T_d181d_row7_col1\" class=\"data row7 col1\" >4.19%</td>\n",
       "      <td id=\"T_d181d_row7_col2\" class=\"data row7 col2\" >1.019444</td>\n",
       "      <td id=\"T_d181d_row7_col3\" class=\"data row7 col3\" >42674.72</td>\n",
       "    </tr>\n",
       "    <tr>\n",
       "      <th id=\"T_d181d_level0_row8\" class=\"row_heading level0 row8\" >8</th>\n",
       "      <td id=\"T_d181d_row8_col0\" class=\"data row8 col0\" >September 19th, 2033</td>\n",
       "      <td id=\"T_d181d_row8_col1\" class=\"data row8 col1\" >4.71%</td>\n",
       "      <td id=\"T_d181d_row8_col2\" class=\"data row8 col2\" >1.011111</td>\n",
       "      <td id=\"T_d181d_row8_col3\" class=\"data row8 col3\" >47580.38</td>\n",
       "    </tr>\n",
       "    <tr>\n",
       "      <th id=\"T_d181d_level0_row9\" class=\"row_heading level0 row9\" >9</th>\n",
       "      <td id=\"T_d181d_row9_col0\" class=\"data row9 col0\" >September 19th, 2034</td>\n",
       "      <td id=\"T_d181d_row9_col1\" class=\"data row9 col1\" >4.82%</td>\n",
       "      <td id=\"T_d181d_row9_col2\" class=\"data row9 col2\" >1.013889</td>\n",
       "      <td id=\"T_d181d_row9_col3\" class=\"data row9 col3\" >48828.20</td>\n",
       "    </tr>\n",
       "  </tbody>\n",
       "</table>\n"
      ],
      "text/plain": [
       "<pandas.io.formats.style.Styler at 0x752f2d79b950>"
      ]
     },
     "execution_count": 28,
     "metadata": {},
     "output_type": "execute_result"
    }
   ],
   "source": [
    "pd.DataFrame(\n",
    "    data, columns=[\"date\", \"rate\", \"tenor\", \"amount\"]\n",
    ").style.format(\n",
    "    {\"amount\": \"{:.2f}\", \"rate\": \"{:.2%}\"}\n",
    ")"
   ]
  },
  {
   "cell_type": "code",
   "execution_count": null,
   "id": "1ebac502-7e8c-4982-bda8-6045e00bf70b",
   "metadata": {},
   "outputs": [],
   "source": []
  },
  {
   "cell_type": "code",
   "execution_count": null,
   "id": "284c71b5-93d1-45d5-905d-ac229be99df8",
   "metadata": {},
   "outputs": [],
   "source": []
  },
  {
   "cell_type": "code",
   "execution_count": null,
   "id": "779cbd0d-0bfb-47cd-94d9-95e8c63821de",
   "metadata": {},
   "outputs": [],
   "source": []
  },
  {
   "cell_type": "code",
   "execution_count": null,
   "id": "5aa91a15-3f43-4a1f-9989-127819ca87ae",
   "metadata": {},
   "outputs": [],
   "source": []
  },
  {
   "cell_type": "code",
   "execution_count": null,
   "id": "2fa9cf55-442f-4c4b-bc43-12fda656e37b",
   "metadata": {},
   "outputs": [],
   "source": []
  },
  {
   "cell_type": "code",
   "execution_count": null,
   "id": "94eb4751-f23a-45b2-b9a3-d7f8cf5d2f83",
   "metadata": {},
   "outputs": [],
   "source": []
  },
  {
   "cell_type": "code",
   "execution_count": null,
   "id": "785f0eed-df44-4392-b053-03e24d0d6840",
   "metadata": {},
   "outputs": [],
   "source": []
  },
  {
   "cell_type": "code",
   "execution_count": null,
   "id": "e8202560-e3f9-4b1b-a597-09c9fad40260",
   "metadata": {},
   "outputs": [],
   "source": []
  },
  {
   "cell_type": "code",
   "execution_count": null,
   "id": "4a94ac8c-62e2-4dd3-91cd-41326fede3a1",
   "metadata": {},
   "outputs": [],
   "source": []
  },
  {
   "cell_type": "code",
   "execution_count": null,
   "id": "9b54ece2-5918-4763-8871-a6a19edaad5c",
   "metadata": {},
   "outputs": [],
   "source": []
  },
  {
   "cell_type": "code",
   "execution_count": null,
   "id": "1cc4dd85-59c6-461e-ab57-cf9cb823e2b4",
   "metadata": {},
   "outputs": [],
   "source": []
  },
  {
   "cell_type": "code",
   "execution_count": null,
   "id": "7c0e70ca-2a00-438b-9d63-d341748a6382",
   "metadata": {},
   "outputs": [],
   "source": []
  },
  {
   "cell_type": "code",
   "execution_count": null,
   "id": "95ccb33e-65e8-4d67-9fce-1dcc06e957c9",
   "metadata": {},
   "outputs": [],
   "source": []
  }
 ],
 "metadata": {
  "kernelspec": {
   "display_name": "Python 3 (ipykernel)",
   "language": "python",
   "name": "python3"
  },
  "language_info": {
   "codemirror_mode": {
    "name": "ipython",
    "version": 3
   },
   "file_extension": ".py",
   "mimetype": "text/x-python",
   "name": "python",
   "nbconvert_exporter": "python",
   "pygments_lexer": "ipython3",
   "version": "3.12.3"
  }
 },
 "nbformat": 4,
 "nbformat_minor": 5
}
